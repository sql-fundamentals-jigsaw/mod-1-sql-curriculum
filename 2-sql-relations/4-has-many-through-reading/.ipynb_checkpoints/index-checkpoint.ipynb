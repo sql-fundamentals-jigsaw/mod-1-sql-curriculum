{
 "cells": [
  {
   "cell_type": "markdown",
   "metadata": {},
   "source": [
    "# Has Many Through"
   ]
  },
  {
   "cell_type": "markdown",
   "metadata": {},
   "source": [
    "### Introduction"
   ]
  },
  {
   "cell_type": "markdown",
   "metadata": {},
   "source": [
    "In previous lessons, we saw how to work with a `has_many`, `has_one` relationship pattern, like an artist that has created many albums.  In this lesson, we'll see how to structure database for a many to many relationship."
   ]
  },
  {
   "cell_type": "markdown",
   "metadata": {},
   "source": [
    "### Our Setting "
   ]
  },
  {
   "cell_type": "markdown",
   "metadata": {},
   "source": [
    "Imagine we are creating a database for a hospital.  We want to keep track of the patients that each doctor has.  Notice that here, we do not really have a `has_many` `has_one` relationship.\n",
    "\n",
    "This is because:\n",
    "* A patient `has_many` doctors **and**\n",
    "* A doctor `has_many` patients."
   ]
  },
  {
   "cell_type": "markdown",
   "metadata": {},
   "source": [
    "Let's try to structure this type of relationship in excel.  To start with here are our tables of doctors and patients."
   ]
  },
  {
   "cell_type": "markdown",
   "metadata": {},
   "source": [
    "* Doctors"
   ]
  },
  {
   "cell_type": "markdown",
   "metadata": {},
   "source": [
    "<img src=\"./doctors-table.png\" width=\"50%\">"
   ]
  },
  {
   "cell_type": "markdown",
   "metadata": {},
   "source": [
    "* Patients"
   ]
  },
  {
   "cell_type": "markdown",
   "metadata": {},
   "source": [
    "<img src=\"./patients-table.png\" width=\"50%\">"
   ]
  },
  {
   "cell_type": "markdown",
   "metadata": {},
   "source": [
    "Now let's think about how we can connect the two.\n",
    "\n",
    "If we place the foreign key of `doctor_id` on the patients, then we are saying that a patient can only have one doctor.  And every time a patient gets another doctor, we would have to add another `doctor_id` column."
   ]
  },
  {
   "cell_type": "markdown",
   "metadata": {},
   "source": [
    "<img src=\"./wrong-join-doctors.png\" width=\"50%\">"
   ]
  },
  {
   "cell_type": "markdown",
   "metadata": {},
   "source": [
    "But if we place the foreign key of `patient_id` on the doctors table, then we are saying that a doctor can only have one patient.  And every time a doctor gets another patient, we would have to add another `patient_id` column."
   ]
  },
  {
   "cell_type": "markdown",
   "metadata": {},
   "source": [
    "<img src=\"./wrong-doctors.png\" width=\"50%\">"
   ]
  },
  {
   "cell_type": "markdown",
   "metadata": {},
   "source": [
    "Either way, we are running into an issue.  The problem is that:\n",
    "* We do not know how many patients a doctor will have, and\n",
    "* We do not know how doctors a patient will have\n",
    "\n",
    "### The Solution"
   ]
  },
  {
   "cell_type": "markdown",
   "metadata": {},
   "source": [
    "We can solve this by creating a join table.  In our join table each row will represent a doctor patient relationship."
   ]
  },
  {
   "cell_type": "markdown",
   "metadata": {},
   "source": [
    "* `doctor_patients`"
   ]
  },
  {
   "cell_type": "markdown",
   "metadata": {},
   "source": [
    "<img src=\"./doctors-patients-join.png\" width=\"60%\">"
   ]
  },
  {
   "cell_type": "markdown",
   "metadata": {},
   "source": [
    "Let's take a moment to understand the new table above.\n",
    "\n",
    "Above the first row represents the relationship between the doctor with `id = 2` and the patient where `id = 3`.  And then if we want to see the other patient that the doctor has, we can see in the fourth row that the doctor with `id = 2` also has a patient of `4`. "
   ]
  },
  {
   "cell_type": "markdown",
   "metadata": {},
   "source": [
    "### Loading Our Data"
   ]
  },
  {
   "cell_type": "code",
   "execution_count": 61,
   "metadata": {},
   "outputs": [],
   "source": [
    "import pandas as pd\n",
    "import sqlite3\n",
    "conn = sqlite3.connect('./hospitals.db')"
   ]
  },
  {
   "cell_type": "code",
   "execution_count": 2,
   "metadata": {},
   "outputs": [],
   "source": [
    "import pandas as pd\n",
    "doctors_patients_url = \"https://raw.githubusercontent.com/sql-fundamentals-jigsaw/mod-1-sql-curriculum/master/2-sql-relations/4-has-many-through-reading/doctors_patients.csv\"\n",
    "doctors_url = \"https://raw.githubusercontent.com/sql-fundamentals-jigsaw/mod-1-sql-curriculum/master/2-sql-relations/4-has-many-through-reading/doctors.csv\"\n",
    "patients_url = \"https://raw.githubusercontent.com/sql-fundamentals-jigsaw/mod-1-sql-curriculum/master/2-sql-relations/4-has-many-through-reading/patients.csv\"\n",
    "\n",
    "doctors_df = pd.read_csv(doctors_url)\n",
    "patients_df = pd.read_csv(patients_url)\n",
    "doctors_patients_df = pd.read_csv(doctors_patients_url)"
   ]
  },
  {
   "cell_type": "code",
   "execution_count": 76,
   "metadata": {},
   "outputs": [],
   "source": [
    "doctors_df.to_sql('doctors', conn, index = False)\n",
    "patients_df.to_sql('patients', conn, index = False)\n",
    "doctors_patients_df.to_sql('doctors_patients', conn, index = False)"
   ]
  },
  {
   "cell_type": "code",
   "execution_count": 81,
   "metadata": {},
   "outputs": [
    {
     "data": {
      "text/plain": [
       "[('doctors',), ('patients',), ('doctors_patients',)]"
      ]
     },
     "execution_count": 81,
     "metadata": {},
     "output_type": "execute_result"
    }
   ],
   "source": [
    "cursor = conn.cursor()\n",
    "cursor.execute('SELECT name from sqlite_master where type= \"table\"')\n",
    "cursor.fetchall()"
   ]
  },
  {
   "cell_type": "code",
   "execution_count": 78,
   "metadata": {},
   "outputs": [],
   "source": [
    "doctors_df = pd.read_sql('select * from doctors;', conn)\n",
    "patients_df = pd.read_sql('select * from patients;', conn)\n",
    "doctors_patients_df = pd.read_sql('select * from doctors_patients;', conn)"
   ]
  },
  {
   "cell_type": "code",
   "execution_count": 79,
   "metadata": {},
   "outputs": [
    {
     "data": {
      "text/html": [
       "<div>\n",
       "<style scoped>\n",
       "    .dataframe tbody tr th:only-of-type {\n",
       "        vertical-align: middle;\n",
       "    }\n",
       "\n",
       "    .dataframe tbody tr th {\n",
       "        vertical-align: top;\n",
       "    }\n",
       "\n",
       "    .dataframe thead th {\n",
       "        text-align: right;\n",
       "    }\n",
       "</style>\n",
       "<table border=\"1\" class=\"dataframe\">\n",
       "  <thead>\n",
       "    <tr style=\"text-align: right;\">\n",
       "      <th></th>\n",
       "      <th>id</th>\n",
       "      <th>first_name</th>\n",
       "      <th>last_name</th>\n",
       "      <th>position</th>\n",
       "    </tr>\n",
       "  </thead>\n",
       "  <tbody>\n",
       "    <tr>\n",
       "      <td>0</td>\n",
       "      <td>1</td>\n",
       "      <td>Gregory</td>\n",
       "      <td>House</td>\n",
       "      <td>General Practitioner</td>\n",
       "    </tr>\n",
       "    <tr>\n",
       "      <td>1</td>\n",
       "      <td>2</td>\n",
       "      <td>Lisa</td>\n",
       "      <td>Cuddy</td>\n",
       "      <td>Chief Doctor</td>\n",
       "    </tr>\n",
       "    <tr>\n",
       "      <td>2</td>\n",
       "      <td>3</td>\n",
       "      <td>James</td>\n",
       "      <td>Wilson</td>\n",
       "      <td>Cancer Specialist</td>\n",
       "    </tr>\n",
       "    <tr>\n",
       "      <td>3</td>\n",
       "      <td>4</td>\n",
       "      <td>Robert</td>\n",
       "      <td>Chase</td>\n",
       "      <td>Resident</td>\n",
       "    </tr>\n",
       "    <tr>\n",
       "      <td>4</td>\n",
       "      <td>5</td>\n",
       "      <td>Eric</td>\n",
       "      <td>Foreman</td>\n",
       "      <td>Practicing Doctor</td>\n",
       "    </tr>\n",
       "  </tbody>\n",
       "</table>\n",
       "</div>"
      ],
      "text/plain": [
       "   id first_name last_name              position\n",
       "0   1    Gregory     House  General Practitioner\n",
       "1   2       Lisa     Cuddy          Chief Doctor\n",
       "2   3      James    Wilson     Cancer Specialist\n",
       "3   4     Robert     Chase              Resident\n",
       "4   5       Eric   Foreman     Practicing Doctor"
      ]
     },
     "execution_count": 79,
     "metadata": {},
     "output_type": "execute_result"
    }
   ],
   "source": [
    "doctors_df"
   ]
  },
  {
   "cell_type": "code",
   "execution_count": 80,
   "metadata": {},
   "outputs": [
    {
     "data": {
      "text/html": [
       "<div>\n",
       "<style scoped>\n",
       "    .dataframe tbody tr th:only-of-type {\n",
       "        vertical-align: middle;\n",
       "    }\n",
       "\n",
       "    .dataframe tbody tr th {\n",
       "        vertical-align: top;\n",
       "    }\n",
       "\n",
       "    .dataframe thead th {\n",
       "        text-align: right;\n",
       "    }\n",
       "</style>\n",
       "<table border=\"1\" class=\"dataframe\">\n",
       "  <thead>\n",
       "    <tr style=\"text-align: right;\">\n",
       "      <th></th>\n",
       "      <th>id</th>\n",
       "      <th>first_name</th>\n",
       "      <th>last_name</th>\n",
       "      <th>birthday</th>\n",
       "    </tr>\n",
       "  </thead>\n",
       "  <tbody>\n",
       "    <tr>\n",
       "      <td>0</td>\n",
       "      <td>1</td>\n",
       "      <td>Jerry</td>\n",
       "      <td>Seinfeld</td>\n",
       "      <td>1962-3-3</td>\n",
       "    </tr>\n",
       "    <tr>\n",
       "      <td>1</td>\n",
       "      <td>2</td>\n",
       "      <td>Elaine</td>\n",
       "      <td>Benis</td>\n",
       "      <td>1966-4-5</td>\n",
       "    </tr>\n",
       "    <tr>\n",
       "      <td>2</td>\n",
       "      <td>3</td>\n",
       "      <td>Cosmo</td>\n",
       "      <td>Kramer</td>\n",
       "      <td>1960-5-10</td>\n",
       "    </tr>\n",
       "    <tr>\n",
       "      <td>3</td>\n",
       "      <td>4</td>\n",
       "      <td>Costanza</td>\n",
       "      <td>George</td>\n",
       "      <td>1962-6-10</td>\n",
       "    </tr>\n",
       "  </tbody>\n",
       "</table>\n",
       "</div>"
      ],
      "text/plain": [
       "   id first_name last_name   birthday\n",
       "0   1      Jerry  Seinfeld   1962-3-3\n",
       "1   2     Elaine     Benis   1966-4-5\n",
       "2   3      Cosmo    Kramer  1960-5-10\n",
       "3   4   Costanza    George  1962-6-10"
      ]
     },
     "execution_count": 80,
     "metadata": {},
     "output_type": "execute_result"
    }
   ],
   "source": [
    "patients_df"
   ]
  },
  {
   "cell_type": "markdown",
   "metadata": {},
   "source": [
    "### Querying the Data"
   ]
  },
  {
   "cell_type": "markdown",
   "metadata": {},
   "source": [
    "Now that we have loaded our data into our database, let's begin to ask questions of it."
   ]
  },
  {
   "cell_type": "markdown",
   "metadata": {},
   "source": [
    "<img src=\"./doctors-patients-join.png\" width=\"30%\"> <img src=\"./doctors-table.png\" width=\"30%\"> <img src=\"./patients-table.png\" width=\"30%\">"
   ]
  },
  {
   "cell_type": "markdown",
   "metadata": {},
   "source": [
    "Let's start with working with the `doctors_patients` table and then we can go from there."
   ]
  },
  {
   "cell_type": "markdown",
   "metadata": {},
   "source": [
    "* Find the all of the patients who have the doctor with `id = 2`."
   ]
  },
  {
   "cell_type": "code",
   "execution_count": 29,
   "metadata": {},
   "outputs": [
    {
     "data": {
      "text/plain": [
       "[(1, 2, 3), (4, 2, 4)]"
      ]
     },
     "execution_count": 29,
     "metadata": {},
     "output_type": "execute_result"
    }
   ],
   "source": [
    "cursor.execute('select * from doctors_patients WHERE doctor_id = 2')\n",
    "cursor.fetchall()"
   ]
  },
  {
   "cell_type": "markdown",
   "metadata": {},
   "source": [
    "We can see that our first and fourth rows are returned, and that the patients of the doctor with id 2 is the patient with `id = 3`, and the patient with `id = 4`."
   ]
  },
  {
   "cell_type": "markdown",
   "metadata": {},
   "source": [
    "The next thing to do from here, is get the names of those patients who have had the doctor with id = 2."
   ]
  },
  {
   "cell_type": "code",
   "execution_count": 31,
   "metadata": {},
   "outputs": [
    {
     "data": {
      "text/plain": [
       "[(3, 'Cosmo', 'Kramer', '1960-5-10'), (4, 'Costanza', 'George', '1962-6-10')]"
      ]
     },
     "execution_count": 31,
     "metadata": {},
     "output_type": "execute_result"
    }
   ],
   "source": [
    "statement = '''SELECT patients.* FROM doctors_patients \n",
    "JOIN patients ON doctors_patients.patient_id = patients.id\n",
    "WHERE doctor_id = 2'''\n",
    "\n",
    "cursor.execute(statement)\n",
    "cursor.fetchall()"
   ]
  },
  {
   "cell_type": "markdown",
   "metadata": {},
   "source": [
    "So here we can see that the patients that had `doctor_id = 2` are Kramer and George."
   ]
  },
  {
   "cell_type": "markdown",
   "metadata": {},
   "source": [
    "Let's take a moment to better this statement."
   ]
  },
  {
   "cell_type": "markdown",
   "metadata": {},
   "source": [
    "We went from this:"
   ]
  },
  {
   "cell_type": "markdown",
   "metadata": {},
   "source": [
    "```sql\n",
    "SELECT * FROM doctors_patients WHERE doctor_id = 2\n",
    "```"
   ]
  },
  {
   "cell_type": "markdown",
   "metadata": {},
   "source": [
    "To this: "
   ]
  },
  {
   "cell_type": "markdown",
   "metadata": {},
   "source": [
    "```sql \n",
    "SELECT patients.* FROM doctors_patients \n",
    "JOIN patients ON doctors_patients.patient_id = patients.id\n",
    "WHERE doctor_id = 2\n",
    "```"
   ]
  },
  {
   "cell_type": "markdown",
   "metadata": {},
   "source": [
    "In the latter statement, to get to the patients names, we had to join the patients table.  And to link the `doctors_patients` table to the `patients` table, we joined on `doctors_patients.patient_id = patients.id`."
   ]
  },
  {
   "cell_type": "markdown",
   "metadata": {},
   "source": [
    "<img src=\"./joined-doctors-patients.png\" width=\"60%\">"
   ]
  },
  {
   "cell_type": "markdown",
   "metadata": {},
   "source": [
    "Then we found those rows where the `doctor_id` was 2."
   ]
  },
  {
   "cell_type": "markdown",
   "metadata": {},
   "source": [
    "<img src=\"./filtered-join.png\" width=\"70%\">"
   ]
  },
  {
   "cell_type": "markdown",
   "metadata": {},
   "source": [
    "And from there we only said to only select the patient columns."
   ]
  },
  {
   "cell_type": "markdown",
   "metadata": {},
   "source": [
    "<img src=\"./patient-cols.png\" width=\"50%\">"
   ]
  },
  {
   "cell_type": "markdown",
   "metadata": {},
   "source": [
    "### Queries with three tables"
   ]
  },
  {
   "cell_type": "markdown",
   "metadata": {},
   "source": [
    "Let's take a look at the data from our three tables again."
   ]
  },
  {
   "cell_type": "markdown",
   "metadata": {},
   "source": [
    "<img src=\"./doctors-patients-join.png\" width=\"30%\"> <img src=\"./doctors-table.png\" width=\"30%\"> <img src=\"./patients-table.png\" width=\"30%\">"
   ]
  },
  {
   "cell_type": "markdown",
   "metadata": {},
   "source": [
    "Let's say that now we want to find the patients of Lisa Cuddy.  To do so we will need to have a query that involves all three queries."
   ]
  },
  {
   "cell_type": "markdown",
   "metadata": {},
   "source": [
    "Our previous statement was pretty close."
   ]
  },
  {
   "cell_type": "markdown",
   "metadata": {},
   "source": [
    "```sql \n",
    "SELECT patients.* FROM doctors_patients \n",
    "JOIN patients ON doctors_patients.patient_id = patients.id\n",
    "WHERE doctor_id = 2\n",
    "```"
   ]
  },
  {
   "cell_type": "markdown",
   "metadata": {},
   "source": [
    "The change we would like to make is to replace `WHERE doctor_id = 2` with `WHERE doctors.last_name = Cuddy`."
   ]
  },
  {
   "cell_type": "markdown",
   "metadata": {},
   "source": [
    "And to do that, we need to load up the doctors table, and join the rows to our `doctors_patients` table.  Here's how we can do that:"
   ]
  },
  {
   "cell_type": "markdown",
   "metadata": {},
   "source": [
    "```sql \n",
    "SELECT patients.* FROM doctors_patients \n",
    "JOIN patients ON doctors_patients.patient_id = patients.id\n",
    "JOIN doctors ON doctors_patients.doctor_id = doctors.id\n",
    "WHERE doctors.last_name = 'Cuddy'\n",
    "```"
   ]
  },
  {
   "cell_type": "code",
   "execution_count": 33,
   "metadata": {},
   "outputs": [],
   "source": [
    "select = \"\"\"SELECT patients.* FROM doctors_patients \n",
    "JOIN patients ON doctors_patients.patient_id = patients.id\n",
    "JOIN doctors ON doctors_patients.doctor_id = doctors.id\n",
    "WHERE doctors.last_name = 'Cuddy'\"\"\""
   ]
  },
  {
   "cell_type": "code",
   "execution_count": 35,
   "metadata": {},
   "outputs": [
    {
     "data": {
      "text/plain": [
       "[(3, 'Cosmo', 'Kramer', '1960-5-10'), (4, 'Costanza', 'George', '1962-6-10')]"
      ]
     },
     "execution_count": 35,
     "metadata": {},
     "output_type": "execute_result"
    }
   ],
   "source": [
    "cursor.execute(select)\n",
    "cursor.fetchall()"
   ]
  },
  {
   "cell_type": "markdown",
   "metadata": {},
   "source": [
    "It worked!  We now got the same result, but we did it by using a doctor's name, instead of using a doctor's id.  Finally, we could query using both the first and last name."
   ]
  },
  {
   "cell_type": "code",
   "execution_count": 36,
   "metadata": {},
   "outputs": [
    {
     "data": {
      "text/plain": [
       "[(3, 'Cosmo', 'Kramer', '1960-5-10'), (4, 'Costanza', 'George', '1962-6-10')]"
      ]
     },
     "execution_count": 36,
     "metadata": {},
     "output_type": "execute_result"
    }
   ],
   "source": [
    "updated_select = \"\"\"SELECT patients.* FROM doctors_patients \n",
    "JOIN patients ON doctors_patients.patient_id = patients.id\n",
    "JOIN doctors ON doctors_patients.doctor_id = doctors.id\n",
    "WHERE doctors.first_name = 'Lisa' AND doctors.last_name = 'Cuddy'\"\"\"\n",
    "\n",
    "cursor.execute(updated_select)\n",
    "cursor.fetchall()"
   ]
  },
  {
   "cell_type": "markdown",
   "metadata": {},
   "source": [
    "### Your Turn"
   ]
  },
  {
   "cell_type": "markdown",
   "metadata": {},
   "source": [
    "Now it's your turn.  Once again, here are our tables."
   ]
  },
  {
   "cell_type": "markdown",
   "metadata": {},
   "source": [
    "<img src=\"./doctors-patients-join.png\" width=\"30%\"> <img src=\"./doctors-table.png\" width=\"30%\"> <img src=\"./patients-table.png\" width=\"30%\">"
   ]
  },
  {
   "cell_type": "markdown",
   "metadata": {},
   "source": [
    "Now write a sql query that finds all of the doctors that Cosmo Kramer has been served by."
   ]
  },
  {
   "cell_type": "code",
   "execution_count": 42,
   "metadata": {},
   "outputs": [],
   "source": [
    "select_doctors = \"\"\"\n",
    "\n",
    "\"\"\"\n"
   ]
  },
  {
   "cell_type": "code",
   "execution_count": 44,
   "metadata": {},
   "outputs": [
    {
     "data": {
      "text/plain": [
       "[(2, 'Lisa', 'Cuddy', 'Chief Doctor'), (4, 'Robert', 'Chase', 'Resident')]"
      ]
     },
     "execution_count": 44,
     "metadata": {},
     "output_type": "execute_result"
    }
   ],
   "source": [
    "cursor.execute(select_doctors)\n",
    "cursor.fetchall()\n",
    "\n",
    "# [(2, 'Lisa', 'Cuddy', 'Chief Doctor'), (4, 'Robert', 'Chase', 'Resident')]"
   ]
  },
  {
   "cell_type": "markdown",
   "metadata": {},
   "source": [
    "### Answers"
   ]
  },
  {
   "cell_type": "code",
   "execution_count": null,
   "metadata": {},
   "outputs": [],
   "source": [
    "select_doctors = \"\"\"SELECT doctors.* FROM doctors_patients \n",
    "JOIN patients ON doctors_patients.patient_id = patients.id\n",
    "JOIN doctors ON doctors_patients.doctor_id = doctors.id\n",
    "WHERE patients.first_name = 'Cosmo' AND patients.last_name = 'Kramer'\"\"\"\n"
   ]
  }
 ],
 "metadata": {
  "kernelspec": {
   "display_name": "Python 3 (ipykernel)",
   "language": "python",
   "name": "python3"
  },
  "language_info": {
   "codemirror_mode": {
    "name": "ipython",
    "version": 3
   },
   "file_extension": ".py",
   "mimetype": "text/x-python",
   "name": "python",
   "nbconvert_exporter": "python",
   "pygments_lexer": "ipython3",
   "version": "3.11.1"
  }
 },
 "nbformat": 4,
 "nbformat_minor": 4
}
