{
 "cells": [
  {
   "cell_type": "markdown",
   "metadata": {},
   "source": [
    "# Has Many Movie Lab"
   ]
  },
  {
   "cell_type": "markdown",
   "metadata": {},
   "source": [
    "### Introduction\n",
    "In this lab we will continue to look at the \"Has-Many\" relationships in our data. The database we will be using during this lab contains information about a selection of movies and related entities such as actors, directors and writers. A movie entity will have relationships with actor, director, and writer entities. The actors, directors and writers will also have relationships with themselves (i.e. a director will have worked with many actors). In problems below, we will use our knowledge of these relationships to build SQL queries."
   ]
  },
  {
   "cell_type": "markdown",
   "metadata": {},
   "source": [
    "Let's begin by connecting to the database and reviewing the schema of the tables."
   ]
  },
  {
   "cell_type": "code",
   "execution_count": 34,
   "metadata": {},
   "outputs": [],
   "source": [
    "import sqlite3\n",
    "conn = sqlite3.connect('movie_films_actors.db')\n",
    "cursor = conn.cursor()"
   ]
  },
  {
   "cell_type": "code",
   "execution_count": null,
   "metadata": {},
   "outputs": [],
   "source": [
    "import pandas as pd\n",
    "root_url = \"https://raw.githubusercontent.com/jigsawlabs-student/curriculum-images/main/has-many-movies-lab/\"\n",
    "names = ['actors', 'directors', 'movies', 'writers', 'movie_actors', 'movie_directors', 'movie_writers']\n",
    "loaded_dfs = [pd.read_csv(f'{root_url}{name}.csv') for name in names]"
   ]
  },
  {
   "cell_type": "code",
   "execution_count": null,
   "metadata": {},
   "outputs": [],
   "source": [
    "for index, name in enumerate(names):\n",
    "    loaded_dfs[index].to_sql(f'{name}', conn, index = False)"
   ]
  },
  {
   "cell_type": "code",
   "execution_count": 37,
   "metadata": {},
   "outputs": [
    {
     "data": {
      "text/plain": [
       "[('actors',),\n",
       " ('directors',),\n",
       " ('movies',),\n",
       " ('writers',),\n",
       " ('movie_actors',),\n",
       " ('movie_directors',),\n",
       " ('movie_writers',)]"
      ]
     },
     "execution_count": 37,
     "metadata": {},
     "output_type": "execute_result"
    }
   ],
   "source": [
    "cursor.execute('SELECT name from sqlite_master where type= \"table\"')\n",
    "cursor.fetchall()"
   ]
  },
  {
   "cell_type": "code",
   "execution_count": 38,
   "metadata": {},
   "outputs": [
    {
     "data": {
      "text/plain": [
       "[(0, 'index', 'INTEGER', 0, None, 0),\n",
       " (1, 'title', 'TEXT', 0, None, 0),\n",
       " (2, 'studio', 'TEXT', 0, None, 0),\n",
       " (3, 'runtime', 'REAL', 0, None, 0),\n",
       " (4, 'description', 'TEXT', 0, None, 0),\n",
       " (5, 'release_date', 'TEXT', 0, None, 0),\n",
       " (6, 'year', 'INTEGER', 0, None, 0)]"
      ]
     },
     "execution_count": 38,
     "metadata": {},
     "output_type": "execute_result"
    }
   ],
   "source": [
    "cursor.execute('PRAGMA table_info(movies)')\n",
    "cursor.fetchall()"
   ]
  },
  {
   "cell_type": "code",
   "execution_count": 39,
   "metadata": {},
   "outputs": [
    {
     "data": {
      "text/plain": [
       "[(0, 'index', 'INTEGER', 0, None, 0), (1, 'name', 'TEXT', 0, None, 0)]"
      ]
     },
     "execution_count": 39,
     "metadata": {},
     "output_type": "execute_result"
    }
   ],
   "source": [
    "cursor.execute('PRAGMA table_info(actors)')\n",
    "cursor.fetchall()"
   ]
  },
  {
   "cell_type": "code",
   "execution_count": 40,
   "metadata": {},
   "outputs": [
    {
     "data": {
      "text/plain": [
       "[(0, 'index', 'INTEGER', 0, None, 0), (1, 'name', 'TEXT', 0, None, 0)]"
      ]
     },
     "execution_count": 40,
     "metadata": {},
     "output_type": "execute_result"
    }
   ],
   "source": [
    "cursor.execute('PRAGMA table_info(directors)')\n",
    "cursor.fetchall()"
   ]
  },
  {
   "cell_type": "code",
   "execution_count": 41,
   "metadata": {},
   "outputs": [
    {
     "data": {
      "text/plain": [
       "[(0, 'index', 'INTEGER', 0, None, 0), (1, 'name', 'TEXT', 0, None, 0)]"
      ]
     },
     "execution_count": 41,
     "metadata": {},
     "output_type": "execute_result"
    }
   ],
   "source": [
    "cursor.execute('PRAGMA table_info(writers)')\n",
    "cursor.fetchall()"
   ]
  },
  {
   "cell_type": "code",
   "execution_count": 42,
   "metadata": {},
   "outputs": [
    {
     "data": {
      "text/plain": [
       "[(0, 'index', 'INTEGER', 0, None, 0),\n",
       " (1, 'movie_id', 'INTEGER', 0, None, 0),\n",
       " (2, 'actor_id', 'INTEGER', 0, None, 0)]"
      ]
     },
     "execution_count": 42,
     "metadata": {},
     "output_type": "execute_result"
    }
   ],
   "source": [
    "cursor.execute('PRAGMA table_info(movie_actors)')\n",
    "cursor.fetchall()"
   ]
  },
  {
   "cell_type": "code",
   "execution_count": 43,
   "metadata": {},
   "outputs": [
    {
     "data": {
      "text/plain": [
       "[(0, 'index', 'INTEGER', 0, None, 0),\n",
       " (1, 'movie_id', 'INTEGER', 0, None, 0),\n",
       " (2, 'director_id', 'INTEGER', 0, None, 0)]"
      ]
     },
     "execution_count": 43,
     "metadata": {},
     "output_type": "execute_result"
    }
   ],
   "source": [
    "cursor.execute('PRAGMA table_info(movie_directors)')\n",
    "cursor.fetchall()"
   ]
  },
  {
   "cell_type": "code",
   "execution_count": 44,
   "metadata": {},
   "outputs": [
    {
     "data": {
      "text/plain": [
       "[(0, 'index', 'INTEGER', 0, None, 0),\n",
       " (1, 'movie_id', 'INTEGER', 0, None, 0),\n",
       " (2, 'writer_id', 'INTEGER', 0, None, 0)]"
      ]
     },
     "execution_count": 44,
     "metadata": {},
     "output_type": "execute_result"
    }
   ],
   "source": [
    "cursor.execute('PRAGMA table_info(movie_writers)')\n",
    "cursor.fetchall()"
   ]
  },
  {
   "cell_type": "markdown",
   "metadata": {},
   "source": [
    "Let's start off with some basic one table queries:"
   ]
  },
  {
   "cell_type": "markdown",
   "metadata": {},
   "source": [
    "* What is the title, length, and id of the movie with the longest runtime?"
   ]
  },
  {
   "cell_type": "code",
   "execution_count": null,
   "metadata": {},
   "outputs": [],
   "source": [
    "\n",
    "\n",
    "# [('Never Sleep Again: The Elm Street Legacy', 480.0, 11415)]"
   ]
  },
  {
   "cell_type": "markdown",
   "metadata": {},
   "source": [
    "* Using your answer from the previous question, how many actors were credited for the movie with the longest runtime? Hint: Use the COUNT function with the movie ID"
   ]
  },
  {
   "cell_type": "code",
   "execution_count": null,
   "metadata": {},
   "outputs": [],
   "source": [
    "\n",
    "\n",
    "# [(6,)]"
   ]
  },
  {
   "cell_type": "markdown",
   "metadata": {},
   "source": [
    "* What was the shortest movie released in 2006?"
   ]
  },
  {
   "cell_type": "code",
   "execution_count": null,
   "metadata": {},
   "outputs": [],
   "source": [
    "\n",
    "\n",
    "# [('The Guardian',)]"
   ]
  },
  {
   "cell_type": "markdown",
   "metadata": {},
   "source": [
    "### Has Many"
   ]
  },
  {
   "cell_type": "markdown",
   "metadata": {},
   "source": [
    "* What are the names of the actors in Toy Story?"
   ]
  },
  {
   "cell_type": "code",
   "execution_count": null,
   "metadata": {},
   "outputs": [],
   "source": [
    "\n",
    "\n",
    "# [('Tom Hanks',),\n",
    "#  ('Jim Varney',),\n",
    "#  ('Wallace Shawn',),\n",
    "#  ('Don Rickles',),\n",
    "#  ('John Ratzenberger',),\n",
    "#  ('Tim Allen',)]"
   ]
  },
  {
   "cell_type": "markdown",
   "metadata": {},
   "source": [
    "* What is the name of the director of Toy Story?"
   ]
  },
  {
   "cell_type": "code",
   "execution_count": null,
   "metadata": {},
   "outputs": [],
   "source": [
    "\n",
    "\n",
    "# [('John Lasseter',)]"
   ]
  },
  {
   "cell_type": "markdown",
   "metadata": {},
   "source": [
    "* What are the names of the writers of Toy Story?"
   ]
  },
  {
   "cell_type": "code",
   "execution_count": null,
   "metadata": {},
   "outputs": [],
   "source": [
    "\n",
    "\n",
    "\n",
    "# [('Joss Whedon',), ('Joel Cohen',), ('Andrew Stanton',), ('Alec Sokolow',)]"
   ]
  },
  {
   "cell_type": "markdown",
   "metadata": {},
   "source": [
    "* What is the name and actor id of the actor with the most credits in the database?"
   ]
  },
  {
   "cell_type": "code",
   "execution_count": null,
   "metadata": {},
   "outputs": [],
   "source": [
    "\n",
    "\n",
    "# [('Robert De Niro', 429, 78)]"
   ]
  },
  {
   "cell_type": "markdown",
   "metadata": {},
   "source": [
    "* What are the titles of the movies the actor from the previous question has been in, after the year 2005?"
   ]
  },
  {
   "cell_type": "code",
   "execution_count": null,
   "metadata": {},
   "outputs": [],
   "source": [
    "\n",
    "\n",
    "# [(\"New Year's Eve\",),\n",
    "#  ('Mr. Warmth: The Don Rickles Project',),\n",
    "#  ('Hands of Stone',),\n",
    "#  ('Last Vegas',),\n",
    "#  ('I Knew It Was You: Rediscovering John Cazale',),\n",
    "#  ('Stardust',),\n",
    "#  ('Killer Elite',),\n",
    "#  (\"Everybody's Fine\",),\n",
    "#  ('Stone',),\n",
    "#  ('Machete',),\n",
    "#  ('Red Lights',),\n",
    "#  ('Righteous Kill',),\n",
    "#  ('The Good Shepherd',),\n",
    "#  ('The Bag Man',),\n",
    "#  ('Being Flynn',),\n",
    "#  ('Joy',),\n",
    "#  ('The Wizard of Lies',),\n",
    "#  ('Limitless',),\n",
    "#  ('Killing Season',),\n",
    "#  ('The Family',),\n",
    "#  ('Heist',),\n",
    "#  ('Great Expectations',),\n",
    "#  ('Little Fockers',),\n",
    "#  ('What Just Happened?',),\n",
    "#  ('The Comedian',),\n",
    "#  ('The Big Wedding',),\n",
    "#  ('Dirty Grandpa',),\n",
    "#  ('Grudge Match',)]"
   ]
  },
  {
   "cell_type": "markdown",
   "metadata": {},
   "source": [
    "* What are the titles of movies with more than two directors -- order by title ascending and limit to the first five results"
   ]
  },
  {
   "cell_type": "code",
   "execution_count": null,
   "metadata": {},
   "outputs": [],
   "source": [
    "\n",
    "\n",
    "# [('101 Dalmatians',),\n",
    "#  ('11/8/2016',),\n",
    "#  ('A Crude Awakening: The Oil Crash',),\n",
    "#  ('A Farewell To Arms',),\n",
    "#  (\"A Liar's Autobiography - The Untrue Story of Monty Python's Graham Chapman\",)]"
   ]
  },
  {
   "cell_type": "markdown",
   "metadata": {},
   "source": [
    "### Has Many Through"
   ]
  },
  {
   "cell_type": "markdown",
   "metadata": {},
   "source": [
    "* What is the name of the writer in the database that has been credited the most times during the year 2018?"
   ]
  },
  {
   "cell_type": "code",
   "execution_count": 1,
   "metadata": {},
   "outputs": [],
   "source": [
    "\n",
    "\n",
    "# [('Ryan Engle', 3)]"
   ]
  },
  {
   "cell_type": "markdown",
   "metadata": {},
   "source": [
    "* What is the name of the actor or actress in the database that has been credited the most between 2010 and 2015 (inclusive)?"
   ]
  },
  {
   "cell_type": "code",
   "execution_count": null,
   "metadata": {},
   "outputs": [],
   "source": [
    "\n",
    "\n",
    "# [('James Franco', 22)]"
   ]
  },
  {
   "cell_type": "markdown",
   "metadata": {},
   "source": [
    "* What are the names of all actors who performed in more than 3 movies in 2010?"
   ]
  },
  {
   "cell_type": "code",
   "execution_count": null,
   "metadata": {},
   "outputs": [],
   "source": [
    "\n",
    "\n",
    "# [('Aaron Taylor-Johnson',),\n",
    "#  ('Adam Scott',),\n",
    "#  ('Barry Pepper',),\n",
    "#  ('Ben Stiller',),\n",
    "#  ('Danny Huston',),\n",
    "#  ('Gemma Arterton',),\n",
    "#  ('Helen Mirren',),\n",
    "#  ('Jay Baruchel',),\n",
    "#  ('Jessica Alba',),\n",
    "#  ('Jonah Hill',),\n",
    "#  ('Josh Brolin',),\n",
    "#  ('Josh Duhamel',),\n",
    "#  ('Keith David',),\n",
    "#  ('Liam Neeson',),\n",
    "#  ('Matt Damon',),\n",
    "#  ('Melissa Leo',),\n",
    "#  ('Patricia Clarkson',),\n",
    "#  ('Pierce Brosnan',),\n",
    "#  ('Ralph Fiennes',),\n",
    "#  ('Susan Sarandon',),\n",
    "#  ('Zach Galifianakis',)]"
   ]
  },
  {
   "cell_type": "markdown",
   "metadata": {},
   "source": [
    "* What studio has Steven Spielberg worked with the most?"
   ]
  },
  {
   "cell_type": "code",
   "execution_count": null,
   "metadata": {},
   "outputs": [],
   "source": [
    "\n",
    "\n",
    "# [('Universal Pictures', 7)]"
   ]
  },
  {
   "cell_type": "markdown",
   "metadata": {},
   "source": [
    "* What years did Steven Spielberg direct 2 movies?"
   ]
  },
  {
   "cell_type": "code",
   "execution_count": null,
   "metadata": {},
   "outputs": [],
   "source": [
    "\n",
    "\n",
    "# [(1989, 2), (1993, 2), (1997, 2), (2002, 2), \n",
    "# (2005, 2), (2011, 2), (2018, 2)]"
   ]
  },
  {
   "cell_type": "markdown",
   "metadata": {},
   "source": [
    "* How many movies has each of the actors from Toy Story been in? (movie ID is 3648)"
   ]
  },
  {
   "cell_type": "code",
   "execution_count": null,
   "metadata": {},
   "outputs": [],
   "source": [
    "\n",
    "\n",
    "# [('Tom Hanks', 46),\n",
    " # ('Jim Varney', 8),\n",
    " # ('Wallace Shawn', 27),\n",
    " # ('Don Rickles', 10),\n",
    " # ('John Ratzenberger', 7),\n",
    " # ('Tim Allen', 20)]"
   ]
  },
  {
   "cell_type": "markdown",
   "metadata": {},
   "source": [
    "* What are the names of other movies the director of Toy Story directed?"
   ]
  },
  {
   "cell_type": "code",
   "execution_count": null,
   "metadata": {},
   "outputs": [],
   "source": [
    "\n",
    "\n",
    "# [('Cars 2',), ('Cars',), (\"A Bug's Life\",), ('Toy Story 2',), ('Toy Story',)]"
   ]
  },
  {
   "cell_type": "markdown",
   "metadata": {},
   "source": [
    "* What are the names of all the directors Tom Hanks has worked with? (Actor ID 189) -- order by the director's name ascending and limit to the first five results."
   ]
  },
  {
   "cell_type": "code",
   "execution_count": null,
   "metadata": {},
   "outputs": [],
   "source": [
    "\n",
    "\n",
    "# [('Alexander Mackendrick',),\n",
    "#  ('Angus MacLane',),\n",
    "#  ('Brian DePalma',),\n",
    "#  ('Chris Paine',),\n",
    "#  ('Clint Eastwood',)]"
   ]
  },
  {
   "cell_type": "markdown",
   "metadata": {},
   "source": [
    "* What is the name of the director Tom Hanks has worked with the most?"
   ]
  },
  {
   "cell_type": "code",
   "execution_count": null,
   "metadata": {},
   "outputs": [],
   "source": [
    "\n",
    "\n",
    "# [('Steven Spielberg', 5)]"
   ]
  },
  {
   "cell_type": "markdown",
   "metadata": {},
   "source": [
    "* What are the names of all the writers Tom Hanks has worked with?"
   ]
  },
  {
   "cell_type": "code",
   "execution_count": null,
   "metadata": {},
   "outputs": [],
   "source": [
    "\n",
    "\n",
    "# [('Eric Roth',),\n",
    "#  ('Nia Vardalos',),\n",
    "#  ('Tom Hanks',),\n",
    "#  ('Gary Ross',),\n",
    "#  ('Anne Spielberg',),\n",
    "#  ('Chris Paine',),\n",
    "#  ('Scott Frank',),\n",
    "#  ('Robert Rodat',),\n",
    "#  ('Frank Darabont',),\n",
    "#  ('Tom Tykwer',)]"
   ]
  },
  {
   "cell_type": "markdown",
   "metadata": {},
   "source": [
    "### Conclusion\n",
    "The movie database we queried during this lab had a multitude of relationships between the tables. We saw how we could use JOIN to connect the tables, in order query information about entities in different tables. "
   ]
  }
 ],
 "metadata": {
  "kernelspec": {
   "display_name": "Python 3 (ipykernel)",
   "language": "python",
   "name": "python3"
  },
  "language_info": {
   "codemirror_mode": {
    "name": "ipython",
    "version": 3
   },
   "file_extension": ".py",
   "mimetype": "text/x-python",
   "name": "python",
   "nbconvert_exporter": "python",
   "pygments_lexer": "ipython3",
   "version": "3.10.6"
  }
 },
 "nbformat": 4,
 "nbformat_minor": 4
}
