{
 "cells": [
  {
   "cell_type": "markdown",
   "metadata": {},
   "source": [
    "# Has Many Movie Lab"
   ]
  },
  {
   "cell_type": "markdown",
   "metadata": {},
   "source": [
    "### Introduction\n",
    "In this lab we will continue to look at the \"Has-Many\" relationships in our data. The database we will be using during this lab contains information about a selection of movies and related entities such as actors, directors and writers. A movie entity will have relationships with actor, director, and writer entities. The actors, directors and writers will also have relationships with themselves (i.e. a director will have worked with many actors). In problems below, we will use our knowledge of these relationships to build SQL queries."
   ]
  },
  {
   "cell_type": "markdown",
   "metadata": {},
   "source": [
    "Let's begin by connecting to the database and reviewing the schema of the tables."
   ]
  },
  {
   "cell_type": "code",
   "execution_count": 1,
   "metadata": {},
   "outputs": [],
   "source": [
    "import sqlite3\n",
    "conn = sqlite3.connect('films.db')\n",
    "cursor = conn.cursor()"
   ]
  },
  {
   "cell_type": "code",
   "execution_count": 2,
   "metadata": {},
   "outputs": [
    {
     "data": {
      "text/plain": [
       "[('actors',),\n",
       " ('directors',),\n",
       " ('writers',),\n",
       " ('movies',),\n",
       " ('movie_actors',),\n",
       " ('movie_directors',),\n",
       " ('movie_writers',)]"
      ]
     },
     "execution_count": 2,
     "metadata": {},
     "output_type": "execute_result"
    }
   ],
   "source": [
    "cursor.execute('SELECT name from sqlite_master where type= \"table\"')\n",
    "cursor.fetchall()"
   ]
  },
  {
   "cell_type": "code",
   "execution_count": 3,
   "metadata": {},
   "outputs": [
    {
     "data": {
      "text/plain": [
       "[(0, 'id', 'INT', 0, None, 0),\n",
       " (1, 'title', 'TEXT', 0, None, 0),\n",
       " (2, 'studio', 'TEXT', 0, None, 0),\n",
       " (3, 'runtime', 'REAL', 0, None, 0),\n",
       " (4, 'description', 'TEXT', 0, None, 0),\n",
       " (5, 'release_date', 'NUM', 0, None, 0),\n",
       " (6, 'year', 'INT', 0, None, 0)]"
      ]
     },
     "execution_count": 3,
     "metadata": {},
     "output_type": "execute_result"
    }
   ],
   "source": [
    "cursor.execute('PRAGMA table_info(movies)')\n",
    "cursor.fetchall()"
   ]
  },
  {
   "cell_type": "code",
   "execution_count": 4,
   "metadata": {},
   "outputs": [
    {
     "data": {
      "text/plain": [
       "[(0, 'id', 'INTEGER', 0, None, 0), (1, 'name', 'TEXT', 0, None, 0)]"
      ]
     },
     "execution_count": 4,
     "metadata": {},
     "output_type": "execute_result"
    }
   ],
   "source": [
    "cursor.execute('PRAGMA table_info(actors)')\n",
    "cursor.fetchall()"
   ]
  },
  {
   "cell_type": "code",
   "execution_count": 5,
   "metadata": {},
   "outputs": [
    {
     "data": {
      "text/plain": [
       "[(0, 'id', 'INTEGER', 0, None, 0), (1, 'name', 'TEXT', 0, None, 0)]"
      ]
     },
     "execution_count": 5,
     "metadata": {},
     "output_type": "execute_result"
    }
   ],
   "source": [
    "cursor.execute('PRAGMA table_info(directors)')\n",
    "cursor.fetchall()"
   ]
  },
  {
   "cell_type": "code",
   "execution_count": 6,
   "metadata": {},
   "outputs": [
    {
     "data": {
      "text/plain": [
       "[(0, 'id', 'INTEGER', 0, None, 0), (1, 'name', 'TEXT', 0, None, 0)]"
      ]
     },
     "execution_count": 6,
     "metadata": {},
     "output_type": "execute_result"
    }
   ],
   "source": [
    "cursor.execute('PRAGMA table_info(writers)')\n",
    "cursor.fetchall()"
   ]
  },
  {
   "cell_type": "code",
   "execution_count": 7,
   "metadata": {},
   "outputs": [
    {
     "data": {
      "text/plain": [
       "[(0, 'id', 'INT', 0, None, 0),\n",
       " (1, 'movie_id', 'TEXT', 0, None, 0),\n",
       " (2, 'actor_id', 'TEXT', 0, None, 0)]"
      ]
     },
     "execution_count": 7,
     "metadata": {},
     "output_type": "execute_result"
    }
   ],
   "source": [
    "cursor.execute('PRAGMA table_info(movie_actors)')\n",
    "cursor.fetchall()"
   ]
  },
  {
   "cell_type": "code",
   "execution_count": 8,
   "metadata": {},
   "outputs": [
    {
     "data": {
      "text/plain": [
       "[(0, 'id', 'INT', 0, None, 0),\n",
       " (1, 'movie_id', 'INT', 0, None, 0),\n",
       " (2, 'director_id', 'INT', 0, None, 0)]"
      ]
     },
     "execution_count": 8,
     "metadata": {},
     "output_type": "execute_result"
    }
   ],
   "source": [
    "cursor.execute('PRAGMA table_info(movie_directors)')\n",
    "cursor.fetchall()"
   ]
  },
  {
   "cell_type": "code",
   "execution_count": 9,
   "metadata": {},
   "outputs": [
    {
     "data": {
      "text/plain": [
       "[(0, 'id', 'INT', 0, None, 0),\n",
       " (1, 'movie_id', 'INT', 0, None, 0),\n",
       " (2, 'writer_id', 'INT', 0, None, 0)]"
      ]
     },
     "execution_count": 9,
     "metadata": {},
     "output_type": "execute_result"
    }
   ],
   "source": [
    "cursor.execute('PRAGMA table_info(movie_writers)')\n",
    "cursor.fetchall()"
   ]
  },
  {
   "cell_type": "markdown",
   "metadata": {},
   "source": [
    "### Questions"
   ]
  },
  {
   "cell_type": "markdown",
   "metadata": {},
   "source": [
    "Let's start off with some basic one table queries:"
   ]
  },
  {
   "cell_type": "markdown",
   "metadata": {},
   "source": [
    "* What is the title, runtime, and id of the movie with the longest runtime?"
   ]
  },
  {
   "cell_type": "code",
   "execution_count": 10,
   "metadata": {},
   "outputs": [
    {
     "data": {
      "text/plain": [
       "[('Never Sleep Again: The Elm Street Legacy', 480.0, 11415)]"
      ]
     },
     "execution_count": 10,
     "metadata": {},
     "output_type": "execute_result"
    }
   ],
   "source": [
    "cursor.execute(\"\"\"\n",
    "SELECT title,\n",
    "       runtime,\n",
    "       id\n",
    "  FROM movies\n",
    " ORDER BY runtime DESC\n",
    " LIMIT 1;\n",
    "\"\"\")\n",
    "cursor.fetchall()"
   ]
  },
  {
   "cell_type": "markdown",
   "metadata": {},
   "source": [
    "* Using your answer from the previous question, how many actors were credited for the movie with the longest runtime? Hint: Use the COUNT function with the movie ID"
   ]
  },
  {
   "cell_type": "code",
   "execution_count": 11,
   "metadata": {},
   "outputs": [
    {
     "data": {
      "text/plain": [
       "[(6,)]"
      ]
     },
     "execution_count": 11,
     "metadata": {},
     "output_type": "execute_result"
    }
   ],
   "source": [
    "cursor.execute(\"\"\"\n",
    "SELECT COUNT( * ) \n",
    "  FROM movie_actors\n",
    " WHERE movie_id = 480;\n",
    "\n",
    "\"\"\")\n",
    "cursor.fetchall()"
   ]
  },
  {
   "cell_type": "markdown",
   "metadata": {},
   "source": [
    "* What was the shortest movie released in 2006?"
   ]
  },
  {
   "cell_type": "code",
   "execution_count": 31,
   "metadata": {},
   "outputs": [
    {
     "data": {
      "text/plain": [
       "[('The Guardian',)]"
      ]
     },
     "execution_count": 31,
     "metadata": {},
     "output_type": "execute_result"
    }
   ],
   "source": [
    "cursor.execute(\"\"\"\n",
    "SELECT title\n",
    "  FROM movies\n",
    " WHERE year = 2006\n",
    " ORDER BY runtime\n",
    " LIMIT 1;\n",
    "\"\"\")\n",
    "cursor.fetchall()"
   ]
  },
  {
   "cell_type": "markdown",
   "metadata": {},
   "source": [
    "### Has Many"
   ]
  },
  {
   "cell_type": "markdown",
   "metadata": {},
   "source": [
    "* What are the names of the actors in Toy Story? (movie ID is 3648)"
   ]
  },
  {
   "cell_type": "code",
   "execution_count": 13,
   "metadata": {},
   "outputs": [
    {
     "data": {
      "text/plain": [
       "[('Tom Hanks',),\n",
       " ('Jim Varney',),\n",
       " ('Wallace Shawn',),\n",
       " ('Don Rickles',),\n",
       " ('John Ratzenberger',),\n",
       " ('Tim Allen',)]"
      ]
     },
     "execution_count": 13,
     "metadata": {},
     "output_type": "execute_result"
    }
   ],
   "source": [
    "cursor.execute(\"\"\"\n",
    "SELECT a.name\n",
    "  FROM movie_actors AS ma\n",
    "       JOIN\n",
    "       actors AS a ON ma.actor_id = a.id\n",
    " WHERE ma.movie_id = 3648;\n",
    "\"\"\")\n",
    "cursor.fetchall()"
   ]
  },
  {
   "cell_type": "markdown",
   "metadata": {},
   "source": [
    "* What is the name of the director of Toy Story?"
   ]
  },
  {
   "cell_type": "code",
   "execution_count": 14,
   "metadata": {},
   "outputs": [
    {
     "data": {
      "text/plain": [
       "[('John Lasseter',)]"
      ]
     },
     "execution_count": 14,
     "metadata": {},
     "output_type": "execute_result"
    }
   ],
   "source": [
    "cursor.execute(\"\"\"\n",
    "SELECT d.name\n",
    "  FROM movie_directors AS md\n",
    "       JOIN\n",
    "       directors AS d ON md.director_id = d.id\n",
    " WHERE md.movie_id = 3648;\n",
    "\"\"\")\n",
    "cursor.fetchall()"
   ]
  },
  {
   "cell_type": "markdown",
   "metadata": {},
   "source": [
    "* What are the names of the writers of Toy Story?"
   ]
  },
  {
   "cell_type": "code",
   "execution_count": 15,
   "metadata": {},
   "outputs": [
    {
     "data": {
      "text/plain": [
       "[('Joss Whedon',), ('Joel Cohen',), ('Andrew Stanton',), ('Alec Sokolow',)]"
      ]
     },
     "execution_count": 15,
     "metadata": {},
     "output_type": "execute_result"
    }
   ],
   "source": [
    "cursor.execute(\"\"\"\n",
    "SELECT w.name\n",
    "  FROM movie_writers AS mw\n",
    "       JOIN\n",
    "       writers AS w ON mw.writer_id = w.id\n",
    " WHERE mw.movie_id = 3648;\n",
    "\"\"\")\n",
    "cursor.fetchall()"
   ]
  },
  {
   "cell_type": "markdown",
   "metadata": {},
   "source": [
    "* What is the name and actor id of the actor with the most credits in the database?"
   ]
  },
  {
   "cell_type": "code",
   "execution_count": 16,
   "metadata": {},
   "outputs": [
    {
     "data": {
      "text/plain": [
       "[('Robert De Niro', 429, 78)]"
      ]
     },
     "execution_count": 16,
     "metadata": {},
     "output_type": "execute_result"
    }
   ],
   "source": [
    "cursor.execute(\"\"\"\n",
    "SELECT a.name,\n",
    "       a.id,\n",
    "       COUNT( * ) \n",
    "  FROM movie_actors AS ma\n",
    "       JOIN\n",
    "       actors a ON ma.actor_id = a.id\n",
    " GROUP BY ma.actor_id\n",
    " ORDER BY COUNT( * ) DESC\n",
    " LIMIT 1;\n",
    "\"\"\")\n",
    "cursor.fetchall()"
   ]
  },
  {
   "cell_type": "markdown",
   "metadata": {},
   "source": [
    "* What are the titles of the movies the actor from the previous question has been in, after the year 2005?"
   ]
  },
  {
   "cell_type": "code",
   "execution_count": 17,
   "metadata": {},
   "outputs": [
    {
     "data": {
      "text/plain": [
       "[(\"New Year's Eve\",),\n",
       " ('Mr. Warmth: The Don Rickles Project',),\n",
       " ('Hands of Stone',),\n",
       " ('Last Vegas',),\n",
       " ('I Knew It Was You: Rediscovering John Cazale',),\n",
       " ('Stardust',),\n",
       " ('Killer Elite',),\n",
       " (\"Everybody's Fine\",),\n",
       " ('Stone',),\n",
       " ('Machete',),\n",
       " ('Red Lights',),\n",
       " ('Righteous Kill',),\n",
       " ('The Good Shepherd',),\n",
       " ('The Bag Man',),\n",
       " ('Being Flynn',),\n",
       " ('Joy',),\n",
       " ('The Wizard of Lies',),\n",
       " ('Limitless',),\n",
       " ('Killing Season',),\n",
       " ('The Family',),\n",
       " ('Heist',),\n",
       " ('Great Expectations',),\n",
       " ('Little Fockers',),\n",
       " ('What Just Happened?',),\n",
       " ('The Comedian',),\n",
       " ('The Big Wedding',),\n",
       " ('Dirty Grandpa',),\n",
       " ('Grudge Match',)]"
      ]
     },
     "execution_count": 17,
     "metadata": {},
     "output_type": "execute_result"
    }
   ],
   "source": [
    "cursor.execute(\"\"\"\n",
    "SELECT m.title\n",
    "  FROM movie_actors AS ma\n",
    "       JOIN\n",
    "       movies AS m ON ma.movie_id = m.id\n",
    " WHERE ma.actor_id = 429 AND \n",
    "       m.year > 2005;\n",
    "\"\"\")\n",
    "cursor.fetchall()"
   ]
  },
  {
   "cell_type": "markdown",
   "metadata": {},
   "source": [
    "* What are the titles of movies with more than two directors order by title ascending and limit to the first five results?"
   ]
  },
  {
   "cell_type": "code",
   "execution_count": 33,
   "metadata": {},
   "outputs": [
    {
     "data": {
      "text/plain": [
       "[('101 Dalmatians',),\n",
       " ('11/8/2016',),\n",
       " ('A Crude Awakening: The Oil Crash',),\n",
       " ('A Farewell To Arms',),\n",
       " (\"A Liar's Autobiography - The Untrue Story of Monty Python's Graham Chapman\",)]"
      ]
     },
     "execution_count": 33,
     "metadata": {},
     "output_type": "execute_result"
    }
   ],
   "source": [
    "cursor.execute(\"\"\"\n",
    "SELECT m.title\n",
    "  FROM movie_directors AS md\n",
    "       JOIN\n",
    "       movies AS m ON md.movie_id = m.id\n",
    " GROUP BY m.id\n",
    "HAVING COUNT( * ) > 2 order by title limit 5;\n",
    "\"\"\")\n",
    "cursor.fetchall()"
   ]
  },
  {
   "cell_type": "markdown",
   "metadata": {},
   "source": [
    "### Has Many Through"
   ]
  },
  {
   "cell_type": "markdown",
   "metadata": {},
   "source": [
    "* What is the name of the writer in the database that has been credited the most times during the year 2018?"
   ]
  },
  {
   "cell_type": "code",
   "execution_count": 19,
   "metadata": {},
   "outputs": [
    {
     "data": {
      "text/plain": [
       "[('Ryan Engle', 3)]"
      ]
     },
     "execution_count": 19,
     "metadata": {},
     "output_type": "execute_result"
    }
   ],
   "source": [
    "cursor.execute(\"\"\"\n",
    "SELECT w.name,\n",
    "       count( * ) \n",
    "  FROM movie_writers AS mw\n",
    "       JOIN\n",
    "       writers AS w ON mw.writer_id = w.id\n",
    "       JOIN\n",
    "       movies AS m ON mw.movie_id = m.id\n",
    " WHERE m.year = 2018\n",
    " GROUP BY w.id\n",
    " ORDER BY count( * ) DESC LIMIT 1;\n",
    "\"\"\")\n",
    "cursor.fetchall()"
   ]
  },
  {
   "cell_type": "markdown",
   "metadata": {},
   "source": [
    "* What is the name of the actor or actress in the database that has been credited the most between 2010 and 2015 (inclusive)?"
   ]
  },
  {
   "cell_type": "code",
   "execution_count": 20,
   "metadata": {},
   "outputs": [
    {
     "data": {
      "text/plain": [
       "[('James Franco', 22)]"
      ]
     },
     "execution_count": 20,
     "metadata": {},
     "output_type": "execute_result"
    }
   ],
   "source": [
    "cursor.execute(\"\"\"\n",
    "SELECT a.name,\n",
    "       count( * ) \n",
    "  FROM movie_actors AS ma\n",
    "       JOIN\n",
    "       actors AS a ON ma.actor_id = a.id\n",
    "       JOIN\n",
    "       movies AS m ON ma.movie_id = m.id\n",
    " WHERE m.year >= 2010 AND m.year <= 2015\n",
    " GROUP BY a.id\n",
    " ORDER BY count( * ) DESC LIMIT 1;\n",
    "\"\"\")\n",
    "cursor.fetchall()"
   ]
  },
  {
   "cell_type": "markdown",
   "metadata": {},
   "source": [
    "* What are the names of all actors who performed in more than 3 movies in 2010?"
   ]
  },
  {
   "cell_type": "code",
   "execution_count": 21,
   "metadata": {},
   "outputs": [
    {
     "data": {
      "text/plain": [
       "[('Aaron Taylor-Johnson',),\n",
       " ('Adam Scott',),\n",
       " ('Barry Pepper',),\n",
       " ('Ben Stiller',),\n",
       " ('Danny Huston',),\n",
       " ('Gemma Arterton',),\n",
       " ('Helen Mirren',),\n",
       " ('Jay Baruchel',),\n",
       " ('Jessica Alba',),\n",
       " ('Jonah Hill',),\n",
       " ('Josh Brolin',),\n",
       " ('Josh Duhamel',),\n",
       " ('Keith David',),\n",
       " ('Liam Neeson',),\n",
       " ('Matt Damon',),\n",
       " ('Melissa Leo',),\n",
       " ('Patricia Clarkson',),\n",
       " ('Pierce Brosnan',),\n",
       " ('Ralph Fiennes',),\n",
       " ('Susan Sarandon',),\n",
       " ('Zach Galifianakis',)]"
      ]
     },
     "execution_count": 21,
     "metadata": {},
     "output_type": "execute_result"
    }
   ],
   "source": [
    "cursor.execute(\"\"\"\n",
    "SELECT a.name\n",
    "  FROM movie_actors AS ma\n",
    "       JOIN\n",
    "       movies AS m ON ma.movie_id = m.id\n",
    "       JOIN\n",
    "       actors AS a ON ma.actor_id = a.id\n",
    "   WHERE m.year = 2010\n",
    "   GROUP BY a.name\n",
    "   HAVING COUNT(*) > 3;\n",
    "\"\"\")\n",
    "cursor.fetchall()"
   ]
  },
  {
   "cell_type": "markdown",
   "metadata": {},
   "source": [
    "* What studio has Steven Spielberg worked with the most?"
   ]
  },
  {
   "cell_type": "code",
   "execution_count": 22,
   "metadata": {},
   "outputs": [
    {
     "data": {
      "text/plain": [
       "[('Universal Pictures', 7)]"
      ]
     },
     "execution_count": 22,
     "metadata": {},
     "output_type": "execute_result"
    }
   ],
   "source": [
    "cursor.execute(\"\"\"\n",
    "SELECT m.studio,\n",
    "       COUNT( * ) \n",
    "  FROM movie_directors AS md\n",
    "       JOIN\n",
    "       movies AS m ON md.movie_id = m.id\n",
    "       JOIN\n",
    "       directors AS d ON md.director_id = d.id\n",
    " WHERE d.name = \"Steven Spielberg\"\n",
    " GROUP BY m.studio\n",
    " ORDER BY COUNT( * ) DESC\n",
    " LIMIT 1;\n",
    "\"\"\")\n",
    "cursor.fetchall()"
   ]
  },
  {
   "cell_type": "markdown",
   "metadata": {},
   "source": [
    "* What years did Steven Spielberg direct 2 movies?"
   ]
  },
  {
   "cell_type": "code",
   "execution_count": 23,
   "metadata": {},
   "outputs": [
    {
     "data": {
      "text/plain": [
       "[(1989, 2), (1993, 2), (1997, 2), (2002, 2), (2005, 2), (2011, 2), (2018, 2)]"
      ]
     },
     "execution_count": 23,
     "metadata": {},
     "output_type": "execute_result"
    }
   ],
   "source": [
    "cursor.execute(\"\"\"\n",
    "SELECT m.year,\n",
    "       COUNT( * ) \n",
    "  FROM movie_directors AS md\n",
    "       JOIN\n",
    "       movies AS m ON md.movie_id = m.id\n",
    "       JOIN\n",
    "       directors AS d ON md.director_id = d.id\n",
    " WHERE d.name = \"Steven Spielberg\"\n",
    " GROUP BY m.year\n",
    " HAVING COUNT(*) = 2;\n",
    "\"\"\")\n",
    "cursor.fetchall()"
   ]
  },
  {
   "cell_type": "markdown",
   "metadata": {},
   "source": [
    "* How many movies has each of the actors from Toy Story been in? (movie ID is 3648)"
   ]
  },
  {
   "cell_type": "code",
   "execution_count": 24,
   "metadata": {},
   "outputs": [
    {
     "data": {
      "text/plain": [
       "[('Tom Hanks', 46),\n",
       " ('Jim Varney', 8),\n",
       " ('Wallace Shawn', 27),\n",
       " ('Don Rickles', 10),\n",
       " ('John Ratzenberger', 7),\n",
       " ('Tim Allen', 20)]"
      ]
     },
     "execution_count": 24,
     "metadata": {},
     "output_type": "execute_result"
    }
   ],
   "source": [
    "cursor.execute(\"\"\"\n",
    "SELECT c.name,\n",
    "       COUNT( * ) \n",
    "  FROM (\n",
    "           SELECT actor_id\n",
    "             FROM movie_actors\n",
    "            WHERE movie_id = 3648\n",
    "       )\n",
    "       AS a\n",
    "       JOIN\n",
    "       movie_actors AS b ON a.actor_id = b.actor_id\n",
    "       JOIN\n",
    "       actors c ON a.actor_id = c.id\n",
    " GROUP BY a.actor_id;\n",
    "\"\"\")\n",
    "cursor.fetchall()"
   ]
  },
  {
   "cell_type": "markdown",
   "metadata": {},
   "source": [
    "* What are the names of other movies the director of Toy Story directed? (movie ID is 3648)"
   ]
  },
  {
   "cell_type": "code",
   "execution_count": 25,
   "metadata": {},
   "outputs": [
    {
     "data": {
      "text/plain": [
       "[('Cars 2',), ('Cars',), (\"A Bug's Life\",), ('Toy Story 2',), ('Toy Story',)]"
      ]
     },
     "execution_count": 25,
     "metadata": {},
     "output_type": "execute_result"
    }
   ],
   "source": [
    "cursor.execute(\"\"\"\n",
    "SELECT title \n",
    "  FROM (\n",
    "           SELECT director_id\n",
    "             FROM movie_directors\n",
    "            WHERE movie_id = 3648\n",
    "       )\n",
    "       AS a\n",
    "       JOIN\n",
    "       movie_directors AS b ON a.director_id = b.director_id\n",
    "       JOIN\n",
    "       movies c ON b.movie_id = c.id;\n",
    "\"\"\")\n",
    "cursor.fetchall()"
   ]
  },
  {
   "cell_type": "markdown",
   "metadata": {},
   "source": [
    "* What are the names of all the directors Tom Hanks has worked with? (actor id 189)"
   ]
  },
  {
   "cell_type": "code",
   "execution_count": 26,
   "metadata": {},
   "outputs": [
    {
     "data": {
      "text/plain": [
       "[('Robert Zemeckis',),\n",
       " ('Tom Hanks',),\n",
       " ('Penny Marshall',),\n",
       " ('Chris Paine',),\n",
       " ('Doug Nichol',),\n",
       " ('Steven Spielberg',),\n",
       " ('Tom Tykwer',),\n",
       " ('Sam Mendes',),\n",
       " ('Steve Purcell (II)',),\n",
       " ('Nora Ephron',),\n",
       " ('Paul Greengrass',),\n",
       " ('Ron Howard',),\n",
       " ('Stephen Daldry',),\n",
       " ('James Ponsoldt',),\n",
       " ('Frank Darabont',),\n",
       " ('David Seltzer',),\n",
       " ('Meg Ryan',),\n",
       " ('Lana Wachowski',),\n",
       " ('Lilly Wachowski',),\n",
       " ('Dario Argento',),\n",
       " ('Angus MacLane',),\n",
       " ('Clint Eastwood',),\n",
       " ('Lee Unkrich',),\n",
       " ('John Lasseter',),\n",
       " ('Joel Coen',),\n",
       " ('Alexander Mackendrick',),\n",
       " ('Ethan Coen',),\n",
       " ('Tom Mankiewicz',),\n",
       " ('Stan Dragoti',),\n",
       " ('Mike Nichols',),\n",
       " ('Kevin Pollak',),\n",
       " ('Roger Spottiswoode',),\n",
       " ('Joe Dante',),\n",
       " ('John Patrick Shanley',),\n",
       " ('Garry Marshall',),\n",
       " ('John Lee Hancock',),\n",
       " ('Brian DePalma',)]"
      ]
     },
     "execution_count": 26,
     "metadata": {},
     "output_type": "execute_result"
    }
   ],
   "source": [
    "cursor.execute(\"\"\"\n",
    "SELECT DISTINCT c.name \n",
    "  FROM (\n",
    "           SELECT movie_id\n",
    "             FROM movie_actors\n",
    "            WHERE actor_id = 189\n",
    "       )\n",
    "       AS a\n",
    "       JOIN\n",
    "       movie_directors AS b ON a.movie_id = b.movie_id\n",
    "       JOIN\n",
    "       directors c ON b.director_id = c.id;\n",
    "\"\"\")\n",
    "cursor.fetchall()"
   ]
  },
  {
   "cell_type": "markdown",
   "metadata": {},
   "source": [
    "* What is the name of the director Tom Hanks has worked with the most?"
   ]
  },
  {
   "cell_type": "code",
   "execution_count": 27,
   "metadata": {},
   "outputs": [
    {
     "data": {
      "text/plain": [
       "[('Steven Spielberg', 5)]"
      ]
     },
     "execution_count": 27,
     "metadata": {},
     "output_type": "execute_result"
    }
   ],
   "source": [
    "cursor.execute(\"\"\"\n",
    "SELECT c.name, COUNT(*) \n",
    "  FROM (\n",
    "           SELECT movie_id\n",
    "             FROM movie_actors\n",
    "            WHERE actor_id = 189\n",
    "       )\n",
    "       AS a\n",
    "       JOIN\n",
    "       movie_directors AS b ON a.movie_id = b.movie_id\n",
    "       JOIN\n",
    "       directors c ON b.director_id = c.id\n",
    "    GROUP BY c.name\n",
    "    ORDER BY COUNT(*) DESC LIMIT 1;\n",
    "\"\"\")\n",
    "cursor.fetchall()"
   ]
  },
  {
   "cell_type": "markdown",
   "metadata": {},
   "source": [
    "* What are the names of all the writers Tom Hanks has worked with?"
   ]
  },
  {
   "cell_type": "code",
   "execution_count": 30,
   "metadata": {},
   "outputs": [
    {
     "data": {
      "text/plain": [
       "[('Eric Roth',),\n",
       " ('Nia Vardalos',),\n",
       " ('Tom Hanks',),\n",
       " ('Gary Ross',),\n",
       " ('Anne Spielberg',),\n",
       " ('Chris Paine',),\n",
       " ('Scott Frank',),\n",
       " ('Robert Rodat',),\n",
       " ('Frank Darabont',),\n",
       " ('Tom Tykwer',)]"
      ]
     },
     "execution_count": 30,
     "metadata": {},
     "output_type": "execute_result"
    }
   ],
   "source": [
    "cursor.execute(\"\"\"\n",
    "SELECT DISTINCT c.name \n",
    "  FROM (\n",
    "           SELECT movie_id\n",
    "             FROM movie_actors\n",
    "            WHERE actor_id = 189\n",
    "       )\n",
    "       AS a\n",
    "       JOIN\n",
    "       movie_writers AS b ON a.movie_id = b.movie_id\n",
    "       JOIN\n",
    "       writers c ON b.writer_id = c.id limit 10;\n",
    "\"\"\")\n",
    "cursor.fetchall()"
   ]
  },
  {
   "cell_type": "code",
   "execution_count": null,
   "metadata": {},
   "outputs": [],
   "source": []
  }
 ],
 "metadata": {
  "kernelspec": {
   "display_name": "Python 3 (ipykernel)",
   "language": "python",
   "name": "python3"
  },
  "language_info": {
   "codemirror_mode": {
    "name": "ipython",
    "version": 3
   },
   "file_extension": ".py",
   "mimetype": "text/x-python",
   "name": "python",
   "nbconvert_exporter": "python",
   "pygments_lexer": "ipython3",
   "version": "3.10.6"
  }
 },
 "nbformat": 4,
 "nbformat_minor": 4
}
