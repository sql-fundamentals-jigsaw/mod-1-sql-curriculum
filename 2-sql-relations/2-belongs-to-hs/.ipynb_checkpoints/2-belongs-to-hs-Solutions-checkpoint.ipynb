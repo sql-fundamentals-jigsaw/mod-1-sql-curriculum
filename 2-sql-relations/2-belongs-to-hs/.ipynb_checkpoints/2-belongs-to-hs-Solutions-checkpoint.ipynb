{
 "cells": [
  {
   "cell_type": "markdown",
   "metadata": {},
   "source": [
    "# Belongs To High School Data"
   ]
  },
  {
   "cell_type": "markdown",
   "metadata": {},
   "source": [
    "### Introduction\n",
    "This database we are looking at in this lab has two tables, `sat_records` and `high_schools`. Each row of the `sat_records` table represents a school also found in the `high_schools` table. Both tables have a key in the column \"dbn\" that is a unique identifier for each school, and will be our way of connecting the data between the two tables. We do this by using a JOIN clause."
   ]
  },
  {
   "cell_type": "markdown",
   "metadata": {},
   "source": [
    "Let's begin by connecting to the database and reviewing the structure of the tables:"
   ]
  },
  {
   "cell_type": "code",
   "execution_count": 2,
   "metadata": {},
   "outputs": [],
   "source": [
    "import sqlite3\n",
    "conn = sqlite3.connect('nyc_schools.db')\n",
    "cursor = conn.cursor()"
   ]
  },
  {
   "cell_type": "code",
   "execution_count": 3,
   "metadata": {},
   "outputs": [
    {
     "data": {
      "text/plain": [
       "[]"
      ]
     },
     "execution_count": 3,
     "metadata": {},
     "output_type": "execute_result"
    }
   ],
   "source": [
    "cursor.execute('SELECT name from sqlite_master where type= \"table\"')\n",
    "cursor.fetchall()"
   ]
  },
  {
   "cell_type": "code",
   "execution_count": 4,
   "metadata": {},
   "outputs": [
    {
     "data": {
      "text/plain": [
       "[]"
      ]
     },
     "execution_count": 4,
     "metadata": {},
     "output_type": "execute_result"
    }
   ],
   "source": [
    "cursor.execute('PRAGMA table_info(high_schools)')\n",
    "cursor.fetchall()"
   ]
  },
  {
   "cell_type": "code",
   "execution_count": 5,
   "metadata": {},
   "outputs": [
    {
     "data": {
      "text/plain": [
       "[]"
      ]
     },
     "execution_count": 5,
     "metadata": {},
     "output_type": "execute_result"
    }
   ],
   "source": [
    "cursor.execute('PRAGMA table_info(sat_records)')\n",
    "cursor.fetchall()"
   ]
  },
  {
   "cell_type": "markdown",
   "metadata": {},
   "source": [
    "Each of the following questions require information in both of the tables in the database. Use the JOIN clause to find the solution."
   ]
  },
  {
   "cell_type": "markdown",
   "metadata": {},
   "source": [
    "* In which boro is the school that has the highest writing score?"
   ]
  },
  {
   "cell_type": "code",
   "execution_count": 6,
   "metadata": {},
   "outputs": [
    {
     "ename": "OperationalError",
     "evalue": "no such table: sat_records",
     "output_type": "error",
     "traceback": [
      "\u001b[0;31m---------------------------------------------------------------------------\u001b[0m",
      "\u001b[0;31mOperationalError\u001b[0m                          Traceback (most recent call last)",
      "Input \u001b[0;32mIn [6]\u001b[0m, in \u001b[0;36m<cell line: 1>\u001b[0;34m()\u001b[0m\n\u001b[0;32m----> 1\u001b[0m \u001b[43mcursor\u001b[49m\u001b[38;5;241;43m.\u001b[39;49m\u001b[43mexecute\u001b[49m\u001b[43m(\u001b[49m\u001b[38;5;124;43m\"\"\"\u001b[39;49m\n\u001b[1;32m      2\u001b[0m \u001b[38;5;124;43mSELECT schools.boro,\u001b[39;49m\n\u001b[1;32m      3\u001b[0m \u001b[38;5;124;43m       MAX(sat.writing_score) \u001b[39;49m\n\u001b[1;32m      4\u001b[0m \u001b[38;5;124;43m  FROM sat_records AS sat\u001b[39;49m\n\u001b[1;32m      5\u001b[0m \u001b[38;5;124;43m       JOIN\u001b[39;49m\n\u001b[1;32m      6\u001b[0m \u001b[38;5;124;43m       high_schools AS schools ON sat.dbn = schools.dbn;\u001b[39;49m\n\u001b[1;32m      7\u001b[0m \n\u001b[1;32m      8\u001b[0m \u001b[38;5;124;43m\"\"\"\u001b[39;49m\u001b[43m)\u001b[49m\n\u001b[1;32m      9\u001b[0m cursor\u001b[38;5;241m.\u001b[39mfetchall()\n",
      "\u001b[0;31mOperationalError\u001b[0m: no such table: sat_records"
     ]
    }
   ],
   "source": [
    "cursor.execute(\"\"\"\n",
    "SELECT schools.boro,\n",
    "       MAX(sat.writing_score) \n",
    "  FROM sat_records AS sat\n",
    "       JOIN\n",
    "       high_schools AS schools ON sat.dbn = schools.dbn;\n",
    "\n",
    "\"\"\")\n",
    "cursor.fetchall()"
   ]
  },
  {
   "cell_type": "markdown",
   "metadata": {},
   "source": [
    "* In which boro is the school with the lowest math average?"
   ]
  },
  {
   "cell_type": "code",
   "execution_count": 6,
   "metadata": {},
   "outputs": [
    {
     "data": {
      "text/plain": [
       "[('X', 312.0)]"
      ]
     },
     "execution_count": 6,
     "metadata": {},
     "output_type": "execute_result"
    }
   ],
   "source": [
    "cursor.execute(\"\"\"\n",
    "SELECT schools.boro,\n",
    "       MIN(sat.math_avg) \n",
    "  FROM sat_records AS sat\n",
    "       JOIN\n",
    "       high_schools AS schools ON sat.dbn = schools.dbn;\n",
    "\n",
    "\"\"\")\n",
    "cursor.fetchall()"
   ]
  },
  {
   "cell_type": "markdown",
   "metadata": {},
   "source": [
    "* What is the highest math_avg for schools with more than 1000 students?"
   ]
  },
  {
   "cell_type": "code",
   "execution_count": 7,
   "metadata": {},
   "outputs": [
    {
     "data": {
      "text/plain": [
       "[(735.0,)]"
      ]
     },
     "execution_count": 7,
     "metadata": {},
     "output_type": "execute_result"
    }
   ],
   "source": [
    "cursor.execute(\"\"\"\n",
    "SELECT MAX(sat.math_avg) \n",
    "  FROM sat_records AS sat\n",
    "       JOIN\n",
    "       high_schools AS schools ON sat.dbn = schools.dbn\n",
    " WHERE schools.total_students > 1000;\n",
    "\n",
    "\"\"\")\n",
    "cursor.fetchall()"
   ]
  },
  {
   "cell_type": "markdown",
   "metadata": {},
   "source": [
    "* What is the average number of test takers in each boro?"
   ]
  },
  {
   "cell_type": "code",
   "execution_count": 8,
   "metadata": {},
   "outputs": [
    {
     "data": {
      "text/plain": [
       "[('K', 126.33673469387755),\n",
       " ('M', 110.34177215189874),\n",
       " ('Q', 199.51666666666668),\n",
       " ('R', 300.5),\n",
       " ('X', 80.3875)]"
      ]
     },
     "execution_count": 8,
     "metadata": {},
     "output_type": "execute_result"
    }
   ],
   "source": [
    "cursor.execute(\"\"\"\n",
    "SELECT schools.boro,\n",
    "       AVG(sat.num_test_takers) \n",
    "  FROM sat_records AS sat\n",
    "       JOIN\n",
    "       high_schools AS schools ON sat.dbn = schools.dbn\n",
    " GROUP BY schools.boro;\n",
    "\n",
    "\"\"\")\n",
    "cursor.fetchall()"
   ]
  },
  {
   "cell_type": "markdown",
   "metadata": {},
   "source": [
    "* What is the attendance rate of schools with math_avg greater than 500? Order your results by the attendance rate (descending)"
   ]
  },
  {
   "cell_type": "code",
   "execution_count": 1,
   "metadata": {},
   "outputs": [
    {
     "ename": "NameError",
     "evalue": "name 'cursor' is not defined",
     "output_type": "error",
     "traceback": [
      "\u001b[0;31m---------------------------------------------------------------------------\u001b[0m",
      "\u001b[0;31mNameError\u001b[0m                                 Traceback (most recent call last)",
      "Input \u001b[0;32mIn [1]\u001b[0m, in \u001b[0;36m<cell line: 1>\u001b[0;34m()\u001b[0m\n\u001b[0;32m----> 1\u001b[0m \u001b[43mcursor\u001b[49m\u001b[38;5;241m.\u001b[39mexecute(\u001b[38;5;124m\"\"\"\u001b[39m\n\u001b[1;32m      2\u001b[0m \u001b[38;5;124mSELECT schools.attendance_rate\u001b[39m\n\u001b[1;32m      3\u001b[0m \u001b[38;5;124m  FROM sat_records AS sat\u001b[39m\n\u001b[1;32m      4\u001b[0m \u001b[38;5;124m       JOIN\u001b[39m\n\u001b[1;32m      5\u001b[0m \u001b[38;5;124m       high_schools AS schools ON sat.dbn = schools.dbn\u001b[39m\n\u001b[1;32m      6\u001b[0m \u001b[38;5;124m WHERE sat.math_avg > 500\u001b[39m\n\u001b[1;32m      7\u001b[0m \u001b[38;5;124m ORDER BY schools.attendance_rate DESC;\u001b[39m\n\u001b[1;32m      8\u001b[0m \u001b[38;5;124m\"\"\"\u001b[39m)\n\u001b[1;32m      9\u001b[0m cursor\u001b[38;5;241m.\u001b[39mfetchall()\n",
      "\u001b[0;31mNameError\u001b[0m: name 'cursor' is not defined"
     ]
    }
   ],
   "source": [
    "cursor.execute(\"\"\"\n",
    "SELECT schools.attendance_rate\n",
    "  FROM sat_records AS sat\n",
    "       JOIN\n",
    "       high_schools AS schools ON sat.dbn = schools.dbn\n",
    " WHERE sat.math_avg > 500\n",
    " ORDER BY schools.attendance_rate DESC;\n",
    "\"\"\")\n",
    "cursor.fetchall()"
   ]
  },
  {
   "cell_type": "markdown",
   "metadata": {},
   "source": [
    "* What is the graduation rate of schools with a math_avg less than 500? Order your results by the graduation rate (ascending)"
   ]
  },
  {
   "cell_type": "code",
   "execution_count": null,
   "metadata": {},
   "outputs": [],
   "source": [
    "cursor.execute(\"\"\"\n",
    "SELECT schools.graduation_rate\n",
    "  FROM sat_records AS sat\n",
    "       JOIN\n",
    "       high_schools AS schools ON sat.dbn = schools.dbn\n",
    " WHERE sat.math_avg < 500\n",
    " ORDER BY schools.graduation_rate;\n",
    " \"\"\")\n",
    "cursor.fetchall()"
   ]
  },
  {
   "cell_type": "markdown",
   "metadata": {},
   "source": [
    "* For schools with a math avg greater than 500, what is the average graduation rate?"
   ]
  },
  {
   "cell_type": "code",
   "execution_count": 11,
   "metadata": {},
   "outputs": [
    {
     "data": {
      "text/plain": [
       "[(0.9769999999999999,)]"
      ]
     },
     "execution_count": 11,
     "metadata": {},
     "output_type": "execute_result"
    }
   ],
   "source": [
    "cursor.execute(\"\"\"\n",
    "SELECT AVG(schools.graduation_rate) \n",
    "  FROM sat_records AS sat\n",
    "       JOIN\n",
    "       high_schools AS schools ON sat.dbn = schools.dbn\n",
    " WHERE sat.math_avg > 500;\n",
    "\n",
    "\"\"\")\n",
    "cursor.fetchall()"
   ]
  },
  {
   "cell_type": "markdown",
   "metadata": {},
   "source": [
    "* What is the total number of test takers in each boro?"
   ]
  },
  {
   "cell_type": "code",
   "execution_count": 12,
   "metadata": {},
   "outputs": [
    {
     "data": {
      "text/plain": [
       "[('K', 12381.0), ('M', 8717.0), ('Q', 11971.0), ('R', 3005.0), ('X', 6431.0)]"
      ]
     },
     "execution_count": 12,
     "metadata": {},
     "output_type": "execute_result"
    }
   ],
   "source": [
    "cursor.execute(\"\"\"\n",
    "SELECT schools.boro,\n",
    "       SUM(sat.num_test_takers) \n",
    "  FROM sat_records AS sat\n",
    "       JOIN\n",
    "       high_schools AS schools ON sat.dbn = schools.dbn\n",
    " GROUP BY schools.boro;\n",
    "\"\"\")\n",
    "cursor.fetchall()"
   ]
  },
  {
   "cell_type": "markdown",
   "metadata": {},
   "source": [
    "* What is the average combined reading and math scores for each boro?"
   ]
  },
  {
   "cell_type": "code",
   "execution_count": 13,
   "metadata": {},
   "outputs": [
    {
     "data": {
      "text/plain": [
       "[('K', 795.2857142857143),\n",
       " ('M', 869.5822784810126),\n",
       " ('Q', 874.5666666666667),\n",
       " ('R', 930.0),\n",
       " ('X', 778.2375)]"
      ]
     },
     "execution_count": 13,
     "metadata": {},
     "output_type": "execute_result"
    }
   ],
   "source": [
    "cursor.execute(\"\"\"\n",
    "SELECT schools.boro,\n",
    "       AVG(sat.math_avg + sat.reading_avg) \n",
    "  FROM sat_records AS sat\n",
    "       JOIN\n",
    "       high_schools AS schools ON sat.dbn = schools.dbn\n",
    " GROUP BY schools.boro;\n",
    "\n",
    "\"\"\")\n",
    "cursor.fetchall()"
   ]
  },
  {
   "cell_type": "markdown",
   "metadata": {},
   "source": [
    "* Find the top five schools that have the largest differences between num_test_takers and total_students"
   ]
  },
  {
   "cell_type": "code",
   "execution_count": 14,
   "metadata": {},
   "outputs": [
    {
     "data": {
      "text/plain": [
       "[('Brooklyn Technical High School', 4561.0),\n",
       " ('Fort Hamilton High School', 3888.0),\n",
       " ('Francis Lewis High School', 3623.0),\n",
       " ('Midwood High School', 3234.0),\n",
       " ('James Madison High School', 3139.0)]"
      ]
     },
     "execution_count": 14,
     "metadata": {},
     "output_type": "execute_result"
    }
   ],
   "source": [
    "cursor.execute(\"\"\"\n",
    "SELECT schools.school_name,\n",
    "       (schools.total_students - sat.num_test_takers) AS difference\n",
    "  FROM sat_records AS sat\n",
    "       JOIN\n",
    "       high_schools AS schools ON sat.dbn = schools.dbn\n",
    " ORDER BY difference DESC\n",
    " LIMIT 5;\n",
    "\"\"\")\n",
    "cursor.fetchall()"
   ]
  },
  {
   "cell_type": "markdown",
   "metadata": {},
   "source": [
    "* What is the difference between total students and number of test takers for each boro? Order your answer in ascending order "
   ]
  },
  {
   "cell_type": "code",
   "execution_count": 15,
   "metadata": {},
   "outputs": [
    {
     "data": {
      "text/plain": [
       "[('R', 15627.0),\n",
       " ('X', 35972.0),\n",
       " ('M', 41118.0),\n",
       " ('Q', 58712.0),\n",
       " ('K', 61192.0)]"
      ]
     },
     "execution_count": 15,
     "metadata": {},
     "output_type": "execute_result"
    }
   ],
   "source": [
    "cursor.execute(\"\"\"\n",
    "SELECT schools.boro,\n",
    "       SUM(schools.total_students - sat.num_test_takers) AS difference\n",
    "  FROM sat_records AS sat\n",
    "       JOIN\n",
    "       high_schools AS schools ON sat.dbn = schools.dbn\n",
    " GROUP BY schools.boro\n",
    " ORDER BY difference;\n",
    "\n",
    "\"\"\")\n",
    "cursor.fetchall()"
   ]
  },
  {
   "cell_type": "code",
   "execution_count": null,
   "metadata": {},
   "outputs": [],
   "source": []
  }
 ],
 "metadata": {
  "kernelspec": {
   "display_name": "Python 3 (ipykernel)",
   "language": "python",
   "name": "python3"
  },
  "language_info": {
   "codemirror_mode": {
    "name": "ipython",
    "version": 3
   },
   "file_extension": ".py",
   "mimetype": "text/x-python",
   "name": "python",
   "nbconvert_exporter": "python",
   "pygments_lexer": "ipython3",
   "version": "3.10.6"
  }
 },
 "nbformat": 4,
 "nbformat_minor": 4
}
