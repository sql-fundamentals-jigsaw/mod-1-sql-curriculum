{
 "cells": [
  {
   "cell_type": "markdown",
   "metadata": {},
   "source": [
    "# Belongs To High School Data"
   ]
  },
  {
   "cell_type": "markdown",
   "metadata": {},
   "source": [
    "### Introduction\n",
    "The database we are looking at in this lab has two tables, `sat_records` and `high_schools`. Each row of the `sat_records` table represents a school also found in the `high_schools` table. The records in the `sat_records` table \"belong to\" the schools in the `high_schools` table. Both tables have a key in the column \"dbn\" that is a unique identifier for each school, and will be our way of connecting the data between the two tables. We do this by using a JOIN clause."
   ]
  },
  {
   "cell_type": "markdown",
   "metadata": {},
   "source": [
    "Let's begin by connecting to the database and reviewing the structure of the tables:"
   ]
  },
  {
   "cell_type": "code",
   "execution_count": 1,
   "metadata": {},
   "outputs": [],
   "source": [
    "import sqlite3\n",
    "conn = sqlite3.connect('schools.db')\n",
    "cursor = conn.cursor()"
   ]
  },
  {
   "cell_type": "code",
   "execution_count": 2,
   "metadata": {},
   "outputs": [
    {
     "data": {
      "text/plain": [
       "478"
      ]
     },
     "execution_count": 2,
     "metadata": {},
     "output_type": "execute_result"
    }
   ],
   "source": [
    "import pandas as pd\n",
    "highschools_url = \"https://raw.githubusercontent.com/sql-fundamentals-jigsaw/mod-1-sql-curriculum/master/2-sql-relations/2-belongs-to-hs/data/highschools.csv\"\n",
    "sat_records_url = \"https://raw.githubusercontent.com/sql-fundamentals-jigsaw/mod-1-sql-curriculum/master/2-sql-relations/2-belongs-to-hs/data/sat_records.csv\"\n",
    "df_hs = pd.read_csv(highschools_url)\n",
    "df_sat = pd.read_csv(sat_records_url)\n",
    "df_hs.to_sql('high_schools' ,conn, index = False, if_exists = 'replace')\n",
    "df_sat.to_sql('sat_records' ,conn, index = False, if_exists = 'replace')"
   ]
  },
  {
   "cell_type": "code",
   "execution_count": 5,
   "metadata": {},
   "outputs": [
    {
     "data": {
      "text/html": [
       "<div>\n",
       "<style scoped>\n",
       "    .dataframe tbody tr th:only-of-type {\n",
       "        vertical-align: middle;\n",
       "    }\n",
       "\n",
       "    .dataframe tbody tr th {\n",
       "        vertical-align: top;\n",
       "    }\n",
       "\n",
       "    .dataframe thead th {\n",
       "        text-align: right;\n",
       "    }\n",
       "</style>\n",
       "<table border=\"1\" class=\"dataframe\">\n",
       "  <thead>\n",
       "    <tr style=\"text-align: right;\">\n",
       "      <th></th>\n",
       "      <th>id</th>\n",
       "      <th>dbn</th>\n",
       "      <th>school_name</th>\n",
       "      <th>boro</th>\n",
       "      <th>total_students</th>\n",
       "      <th>graduation_rate</th>\n",
       "      <th>attendance_rate</th>\n",
       "      <th>college_career_rate</th>\n",
       "    </tr>\n",
       "  </thead>\n",
       "  <tbody>\n",
       "    <tr>\n",
       "      <th>0</th>\n",
       "      <td>0</td>\n",
       "      <td>16K498</td>\n",
       "      <td>Brooklyn High School for Law and Technology</td>\n",
       "      <td>K</td>\n",
       "      <td>594</td>\n",
       "      <td>0.74</td>\n",
       "      <td>0.85</td>\n",
       "      <td>0.49</td>\n",
       "    </tr>\n",
       "  </tbody>\n",
       "</table>\n",
       "</div>"
      ],
      "text/plain": [
       "   id     dbn                                  school_name boro  \\\n",
       "0   0  16K498  Brooklyn High School for Law and Technology    K   \n",
       "\n",
       "   total_students  graduation_rate  attendance_rate  college_career_rate  \n",
       "0             594             0.74             0.85                 0.49  "
      ]
     },
     "execution_count": 5,
     "metadata": {},
     "output_type": "execute_result"
    }
   ],
   "source": [
    "pd.read_sql('select * from high_schools limit 1;',conn)"
   ]
  },
  {
   "cell_type": "code",
   "execution_count": 22,
   "metadata": {},
   "outputs": [],
   "source": [
    "pd.read_sql('select * from sat_records limit 1;',conn)"
   ]
  },
  {
   "cell_type": "markdown",
   "metadata": {},
   "source": [
    "### Exploring the Data"
   ]
  },
  {
   "cell_type": "code",
   "execution_count": 6,
   "metadata": {},
   "outputs": [
    {
     "data": {
      "text/plain": [
       "[('sat_records',), ('high_schools',)]"
      ]
     },
     "execution_count": 6,
     "metadata": {},
     "output_type": "execute_result"
    }
   ],
   "source": [
    "cursor.execute('SELECT name from sqlite_master where type= \"table\"')\n",
    "cursor.fetchall()"
   ]
  },
  {
   "cell_type": "code",
   "execution_count": 7,
   "metadata": {},
   "outputs": [
    {
     "data": {
      "text/plain": [
       "[(0, 'id', 'INTEGER', 0, None, 0),\n",
       " (1, 'dbn', 'TEXT', 0, None, 0),\n",
       " (2, 'school_name', 'TEXT', 0, None, 0),\n",
       " (3, 'boro', 'TEXT', 0, None, 0),\n",
       " (4, 'total_students', 'INTEGER', 0, None, 0),\n",
       " (5, 'graduation_rate', 'REAL', 0, None, 0),\n",
       " (6, 'attendance_rate', 'REAL', 0, None, 0),\n",
       " (7, 'college_career_rate', 'REAL', 0, None, 0)]"
      ]
     },
     "execution_count": 7,
     "metadata": {},
     "output_type": "execute_result"
    }
   ],
   "source": [
    "cursor.execute('PRAGMA table_info(high_schools)')\n",
    "cursor.fetchall()"
   ]
  },
  {
   "cell_type": "code",
   "execution_count": 8,
   "metadata": {},
   "outputs": [
    {
     "data": {
      "text/plain": [
       "[(0, 'id', 'INTEGER', 0, None, 0),\n",
       " (1, 'dbn', 'TEXT', 0, None, 0),\n",
       " (2, 'name', 'TEXT', 0, None, 0),\n",
       " (3, 'num_test_takers', 'REAL', 0, None, 0),\n",
       " (4, 'reading_avg', 'REAL', 0, None, 0),\n",
       " (5, 'math_avg', 'REAL', 0, None, 0),\n",
       " (6, 'writing_score', 'REAL', 0, None, 0)]"
      ]
     },
     "execution_count": 8,
     "metadata": {},
     "output_type": "execute_result"
    }
   ],
   "source": [
    "cursor.execute('PRAGMA table_info(sat_records)')\n",
    "cursor.fetchall()"
   ]
  },
  {
   "cell_type": "markdown",
   "metadata": {},
   "source": [
    "Each of the following questions require information in both of the tables in the database. Use the JOIN clause to find the solution."
   ]
  },
  {
   "cell_type": "markdown",
   "metadata": {},
   "source": [
    "* In which boro is the school that has the highest writing score?"
   ]
  },
  {
   "cell_type": "code",
   "execution_count": null,
   "metadata": {},
   "outputs": [],
   "source": [
    "\n",
    "\n",
    "# [('M', 682.0)]"
   ]
  },
  {
   "cell_type": "markdown",
   "metadata": {},
   "source": [
    "* In which boro is the school with the lowest math average?"
   ]
  },
  {
   "cell_type": "code",
   "execution_count": null,
   "metadata": {},
   "outputs": [],
   "source": [
    "\n",
    "\n",
    "# [('X', 312.0)]"
   ]
  },
  {
   "cell_type": "markdown",
   "metadata": {},
   "source": [
    "* What is the highest math_avg for schools with more than 1000 students?"
   ]
  },
  {
   "cell_type": "code",
   "execution_count": null,
   "metadata": {},
   "outputs": [],
   "source": [
    "\n",
    "\n",
    "# [(735.0,)]"
   ]
  },
  {
   "cell_type": "markdown",
   "metadata": {},
   "source": [
    "* What is the average number of test takers in each boro?"
   ]
  },
  {
   "cell_type": "code",
   "execution_count": null,
   "metadata": {},
   "outputs": [],
   "source": [
    "\n",
    "\n",
    "# [('K', 126.33673469387755),\n",
    "#  ('M', 110.34177215189874),\n",
    "#  ('Q', 199.51666666666668),\n",
    "#  ('R', 300.5),\n",
    "#  ('X', 80.3875)]"
   ]
  },
  {
   "cell_type": "markdown",
   "metadata": {},
   "source": [
    "* What is the attendance rate of schools with math_avg greater than 500? Order your results by the attendance rate (descending) limit to the first five results"
   ]
  },
  {
   "cell_type": "code",
   "execution_count": 4,
   "metadata": {},
   "outputs": [
    {
     "data": {
      "text/plain": [
       "[(0.98,), (0.97,), (0.97,), (0.97,), (0.97,)]"
      ]
     },
     "execution_count": 4,
     "metadata": {},
     "output_type": "execute_result"
    }
   ],
   "source": [
    "\n",
    "\n",
    "\n",
    "\n",
    "# [(0.98,), (0.97,), (0.97,), (0.97,), (0.97,)]\n"
   ]
  },
  {
   "cell_type": "markdown",
   "metadata": {},
   "source": [
    "* What is the graduation rate of schools with a math_avg less than 500? Order your results by the graduation rate (ascending) limit to ten results"
   ]
  },
  {
   "cell_type": "code",
   "execution_count": 7,
   "metadata": {},
   "outputs": [],
   "source": [
    "\n",
    "\n",
    "# [(None,),\n",
    "#  (None,),\n",
    "#  (None,),\n",
    "#  (None,),\n",
    "#  (0.39,),\n",
    "#  (0.46,),\n",
    "#  (0.47,),\n",
    "#  (0.49,),\n",
    "#  (0.5,),\n",
    "#  (0.5,)]"
   ]
  },
  {
   "cell_type": "markdown",
   "metadata": {},
   "source": [
    "* For schools with a math avg greater than 500, what is the average graduation rate?"
   ]
  },
  {
   "cell_type": "code",
   "execution_count": null,
   "metadata": {},
   "outputs": [],
   "source": [
    "\n",
    "\n",
    "# [(0.9769999999999999,)]"
   ]
  },
  {
   "cell_type": "markdown",
   "metadata": {},
   "source": [
    "* What is the total number of test takers in each boro?"
   ]
  },
  {
   "cell_type": "code",
   "execution_count": null,
   "metadata": {},
   "outputs": [],
   "source": [
    "\n",
    "\n",
    "# [('K', 12381.0), ('M', 8717.0), ('Q', 11971.0), ('R', 3005.0), ('X', 6431.0)]"
   ]
  },
  {
   "cell_type": "markdown",
   "metadata": {},
   "source": [
    "* What is the average combined reading and math scores for each boro?"
   ]
  },
  {
   "cell_type": "code",
   "execution_count": null,
   "metadata": {},
   "outputs": [],
   "source": [
    "\n",
    "\n",
    "# [('K', 795.2857142857143),\n",
    "#  ('M', 869.5822784810126),\n",
    "#  ('Q', 874.5666666666667),\n",
    "#  ('R', 930.0),\n",
    "#  ('X', 778.2375)]"
   ]
  },
  {
   "cell_type": "markdown",
   "metadata": {},
   "source": [
    "* Find the top five schools that have the largest differences between num_test_takers and total_students"
   ]
  },
  {
   "cell_type": "code",
   "execution_count": null,
   "metadata": {},
   "outputs": [],
   "source": [
    "\n",
    "\n",
    "# [('Brooklyn Technical High School', 4561.0),\n",
    "#  ('Fort Hamilton High School', 3888.0),\n",
    "#  ('Francis Lewis High School', 3623.0),\n",
    "#  ('Midwood High School', 3234.0),\n",
    "#  ('James Madison High School', 3139.0)]"
   ]
  },
  {
   "cell_type": "markdown",
   "metadata": {},
   "source": [
    "* What is the difference between total students and number of test takers for each boro? Order your answer in ascending order "
   ]
  },
  {
   "cell_type": "code",
   "execution_count": null,
   "metadata": {},
   "outputs": [],
   "source": [
    "\n",
    "\n",
    "# [('R', 15627.0),\n",
    "#  ('X', 35972.0),\n",
    "#  ('M', 41118.0),\n",
    "#  ('Q', 58712.0),\n",
    "#  ('K', 61192.0)]"
   ]
  },
  {
   "cell_type": "markdown",
   "metadata": {},
   "source": [
    "### Conclusion\n",
    "This lab presented us with a database in which records from one table \"belong to\" records from another table. Specifically, we saw that the data in the `sat_records` table belonged to the schools in the `high_schools` table. We used JOIN clauses to combine the data in both tables to find solutions to questions that required information in both tables. "
   ]
  },
  {
   "cell_type": "markdown",
   "metadata": {},
   "source": [
    "### Resources\n",
    "\n",
    "[School District Breakdown](https://data.cityofnewyork.us/Education/School-District-Breakdowns/g3vh-kbnw)"
   ]
  },
  {
   "cell_type": "markdown",
   "metadata": {},
   "source": [
    "[SAT Results](https://data.cityofnewyork.us/Education/2012-SAT-Results/f9bf-2cp4)"
   ]
  }
 ],
 "metadata": {
  "kernelspec": {
   "display_name": "Python 3 (ipykernel)",
   "language": "python",
   "name": "python3"
  },
  "language_info": {
   "codemirror_mode": {
    "name": "ipython",
    "version": 3
   },
   "file_extension": ".py",
   "mimetype": "text/x-python",
   "name": "python",
   "nbconvert_exporter": "python",
   "pygments_lexer": "ipython3",
   "version": "3.10.6"
  }
 },
 "nbformat": 4,
 "nbformat_minor": 4
}
