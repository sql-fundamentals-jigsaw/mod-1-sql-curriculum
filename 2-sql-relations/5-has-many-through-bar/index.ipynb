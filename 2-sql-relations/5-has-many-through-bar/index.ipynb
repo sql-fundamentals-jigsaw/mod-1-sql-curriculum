{
 "cells": [
  {
   "cell_type": "markdown",
   "metadata": {},
   "source": [
    "# Moe's Bar Lab"
   ]
  },
  {
   "cell_type": "markdown",
   "metadata": {},
   "source": [
    "### Introduction"
   ]
  },
  {
   "cell_type": "markdown",
   "metadata": {},
   "source": [
    "In this lesson, we'll apply our knowledge of querying tables with has many through to ask questions of customers and bartenders at a bar."
   ]
  },
  {
   "cell_type": "markdown",
   "metadata": {},
   "source": [
    "### Loading Our Data"
   ]
  },
  {
   "cell_type": "markdown",
   "metadata": {},
   "source": [
    "Then we can connect to our database with the following."
   ]
  },
  {
   "cell_type": "code",
   "execution_count": 5,
   "metadata": {},
   "outputs": [],
   "source": [
    "import sqlite3\n",
    "conn = sqlite3.connect('./moes_bar.db')\n",
    "cursor = conn.cursor()"
   ]
  },
  {
   "cell_type": "markdown",
   "metadata": {},
   "source": [
    "Next we load our data."
   ]
  },
  {
   "cell_type": "code",
   "execution_count": 1,
   "metadata": {},
   "outputs": [],
   "source": [
    "import pandas as pd\n",
    "root_url = \"https://raw.githubusercontent.com/jigsawlabs-student/curriculum-images/main/has-many-through-bar/data/\"\n",
    "names = ['bartenders', 'customers', 'drinks', 'orders', 'ingredients', 'ingredients_drinks']\n",
    "loaded_dfs = [pd.read_csv(f'{root_url}{name}.csv') for name in names]"
   ]
  },
  {
   "cell_type": "code",
   "execution_count": 26,
   "metadata": {},
   "outputs": [],
   "source": [
    "for index, name in enumerate(names):\n",
    "    loaded_dfs[index].to_sql(f'{name}', conn, index = False)"
   ]
  },
  {
   "cell_type": "code",
   "execution_count": null,
   "metadata": {},
   "outputs": [
    {
     "data": {
      "text/plain": [
       "[('bartenders',),\n",
       " ('customers',),\n",
       " ('drinks',),\n",
       " ('orders',),\n",
       " ('ingredients',),\n",
       " ('ingredients_drinks',)]"
      ]
     },
     "execution_count": 12,
     "metadata": {},
     "output_type": "execute_result"
    }
   ],
   "source": [
    "cursor.execute(\"SELECT name FROM sqlite_master WHERE type='table';\")\n",
    "cursor.fetchall()"
   ]
  },
  {
   "cell_type": "markdown",
   "metadata": {},
   "source": [
    "### Exploring our Database"
   ]
  },
  {
   "cell_type": "markdown",
   "metadata": {},
   "source": [
    "Now we list of all of the tables with the following."
   ]
  },
  {
   "cell_type": "code",
   "execution_count": 5,
   "metadata": {},
   "outputs": [
    {
     "data": {
      "text/plain": [
       "<sqlite3.Cursor at 0x109c86500>"
      ]
     },
     "execution_count": 5,
     "metadata": {},
     "output_type": "execute_result"
    }
   ],
   "source": [
    "cursor.execute(\"SELECT name FROM sqlite_master WHERE type='table';\")\n",
    "cursor.fetchall()"
   ]
  },
  {
   "cell_type": "markdown",
   "metadata": {},
   "source": [
    "And then we can see the details of a particular table with the following."
   ]
  },
  {
   "cell_type": "code",
   "execution_count": 28,
   "metadata": {},
   "outputs": [
    {
     "data": {
      "text/plain": [
       "[(0, 'id', 'INTEGER', 0, None, 1),\n",
       " (1, 'name', 'TEXT', 0, None, 0),\n",
       " (2, 'hometown', 'TEXT', 0, None, 0),\n",
       " (3, 'birthyear', 'INTEGER', 0, None, 0)]"
      ]
     },
     "execution_count": 28,
     "metadata": {},
     "output_type": "execute_result"
    }
   ],
   "source": [
    "cursor.execute(\"pragma table_info(customers)\")\n",
    "cursor.fetchall()"
   ]
  },
  {
   "cell_type": "markdown",
   "metadata": {},
   "source": [
    "### Making our queries"
   ]
  },
  {
   "cell_type": "markdown",
   "metadata": {},
   "source": [
    "* Find the name of the youngest customer "
   ]
  },
  {
   "cell_type": "code",
   "execution_count": 23,
   "metadata": {},
   "outputs": [],
   "source": [
    "youngest_customer = None\n",
    "\n",
    "# cursor.execute(youngest_customer)\n",
    "# cursor.fetchall()\n",
    "# # [('lisa simpson', 2006)]"
   ]
  },
  {
   "cell_type": "markdown",
   "metadata": {},
   "source": [
    "* Order the drinks from most to least expensive"
   ]
  },
  {
   "cell_type": "code",
   "execution_count": 24,
   "metadata": {},
   "outputs": [],
   "source": [
    "cheapest_drinks = None\n",
    "\n",
    "# cursor.execute(cheapest_drinks)\n",
    "# cursor.fetchall()\n",
    "# [('ice cream float', 8),\n",
    "#  ('duff beer', 7),\n",
    "#  ('gin and tonic', 7),\n",
    "#  ('rootbeer', 6),\n",
    "#  ('milkshake', 5),\n",
    "#  ('egg cream soda', 3)]"
   ]
  },
  {
   "cell_type": "markdown",
   "metadata": {},
   "source": [
    "* Find the most expensive drink that bart simpson ordered"
   ]
  },
  {
   "cell_type": "code",
   "execution_count": 26,
   "metadata": {},
   "outputs": [],
   "source": [
    "# barts_orders = None\n",
    "\n",
    "# cursor.execute()\n",
    "# cursor.fetchall()\n",
    "# [('milkshake', 5)]"
   ]
  },
  {
   "cell_type": "markdown",
   "metadata": {},
   "source": [
    "* Find a list of all of the customers of moe"
   ]
  },
  {
   "cell_type": "code",
   "execution_count": 27,
   "metadata": {},
   "outputs": [],
   "source": [
    "# moes_customers = None\n",
    "\n",
    "# cursor.execute(moes_customers)\n",
    "# cursor.fetchall()\n",
    "# [('bart simpson',), ('maggie simpson',)]"
   ]
  }
 ],
 "metadata": {
  "kernelspec": {
   "display_name": "Python 3 (ipykernel)",
   "language": "python",
   "name": "python3"
  },
  "language_info": {
   "codemirror_mode": {
    "name": "ipython",
    "version": 3
   },
   "file_extension": ".py",
   "mimetype": "text/x-python",
   "name": "python",
   "nbconvert_exporter": "python",
   "pygments_lexer": "ipython3",
   "version": "3.10.6"
  }
 },
 "nbformat": 4,
 "nbformat_minor": 4
}
