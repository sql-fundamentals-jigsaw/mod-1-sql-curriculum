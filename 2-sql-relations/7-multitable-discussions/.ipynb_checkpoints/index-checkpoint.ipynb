{
 "cells": [
  {
   "cell_type": "markdown",
   "id": "5675a443-a9fd-4306-b09b-8d1f0c41163c",
   "metadata": {},
   "source": [
    "# Database Discussion Questions"
   ]
  },
  {
   "cell_type": "markdown",
   "id": "701ab9fb-6d9d-46a9-980f-85ce1f51ea77",
   "metadata": {},
   "source": [
    "### Introduction"
   ]
  },
  {
   "cell_type": "markdown",
   "id": "18a428c6-cfb8-4898-aa34-6084cf745856",
   "metadata": {},
   "source": [
    "In this lesson, let's review some of our concepts about database.  Let's get started."
   ]
  },
  {
   "cell_type": "markdown",
   "id": "0275bccf-ddcc-4015-b4b1-9ae0bc083f3d",
   "metadata": {},
   "source": [
    "### Initial Questions"
   ]
  },
  {
   "cell_type": "markdown",
   "id": "a9f5a6d8-1883-422b-b4de-8661f09e12c3",
   "metadata": {},
   "source": [
    "* What is a primary key?"
   ]
  },
  {
   "cell_type": "markdown",
   "id": "1e89ac85-b48b-4a34-86cf-3427344849b6",
   "metadata": {},
   "source": [
    "* What is a foreign key?"
   ]
  },
  {
   "cell_type": "markdown",
   "id": "dcfd43b3-6468-4beb-84f7-97087bc42441",
   "metadata": {},
   "source": [
    "### Database Relational Modeling Questions"
   ]
  },
  {
   "cell_type": "markdown",
   "id": "ee16de5e-eb7f-431f-bdcb-d7a1a48a6128",
   "metadata": {},
   "source": [
    "Now look at the following database modeling -- of the albums table."
   ]
  },
  {
   "cell_type": "markdown",
   "id": "d44c556e-2c45-4e63-a39c-774c86aae692",
   "metadata": {},
   "source": [
    "<img src=\"./albums-table.png\">"
   ]
  },
  {
   "cell_type": "markdown",
   "id": "874a6bc7-c4e3-4a33-bdd5-d08602678afd",
   "metadata": {},
   "source": [
    "How should the structure of this table be changed.  "
   ]
  },
  {
   "cell_type": "markdown",
   "id": "a6d24e26-3c53-44bf-aef3-6fc33faa3e4b",
   "metadata": {},
   "source": [
    "What are the benefits of breaking this into multiple tables."
   ]
  },
  {
   "cell_type": "code",
   "execution_count": null,
   "id": "ca3a0049-20e5-4876-9985-d83c64cd13c4",
   "metadata": {},
   "outputs": [],
   "source": []
  }
 ],
 "metadata": {
  "kernelspec": {
   "display_name": "Python 3 (ipykernel)",
   "language": "python",
   "name": "python3"
  },
  "language_info": {
   "codemirror_mode": {
    "name": "ipython",
    "version": 3
   },
   "file_extension": ".py",
   "mimetype": "text/x-python",
   "name": "python",
   "nbconvert_exporter": "python",
   "pygments_lexer": "ipython3",
   "version": "3.9.12"
  }
 },
 "nbformat": 4,
 "nbformat_minor": 5
}
