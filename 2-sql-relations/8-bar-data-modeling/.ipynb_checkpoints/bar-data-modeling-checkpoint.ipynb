{
 "cells": [
  {
   "cell_type": "markdown",
   "id": "5e9bba1f-0f8b-49cf-83e9-8443a8558e07",
   "metadata": {},
   "source": [
    "# Moe's Bar Data Modeling"
   ]
  },
  {
   "cell_type": "markdown",
   "id": "8a1d38f1-3456-4fe1-a5eb-583b0e8b573d",
   "metadata": {},
   "source": [
    "<img src=\"./moe-bar.png\">"
   ]
  },
  {
   "cell_type": "markdown",
   "id": "5175bfd8-235c-4803-825c-6891a01badd3",
   "metadata": {},
   "source": [
    "* Imagine that the owner of Moe's bar asked you to design their database.  We particularly care about the foreign keys in the following tables. "
   ]
  },
  {
   "cell_type": "markdown",
   "id": "bfcf5d5b-6e10-434d-8f09-6e79d879efab",
   "metadata": {},
   "source": [
    "* bartenders\n",
    "* customers\n",
    "* drinks\n",
    "* orders\n",
    "* ingredients\n",
    "* ingredients_drinks"
   ]
  },
  {
   "cell_type": "markdown",
   "id": "a4a61311-f5ee-4f4c-82ad-a82efe8bf10c",
   "metadata": {},
   "source": [
    "Write the foreign keys (and a couple other columns of your choosing for each of the tables above)."
   ]
  }
 ],
 "metadata": {
  "kernelspec": {
   "display_name": "Python 3 (ipykernel)",
   "language": "python",
   "name": "python3"
  },
  "language_info": {
   "codemirror_mode": {
    "name": "ipython",
    "version": 3
   },
   "file_extension": ".py",
   "mimetype": "text/x-python",
   "name": "python",
   "nbconvert_exporter": "python",
   "pygments_lexer": "ipython3",
   "version": "3.9.12"
  }
 },
 "nbformat": 4,
 "nbformat_minor": 5
}
