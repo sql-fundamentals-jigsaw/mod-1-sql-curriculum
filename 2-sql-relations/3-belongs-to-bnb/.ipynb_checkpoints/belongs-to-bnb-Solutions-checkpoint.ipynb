{
 "cells": [
  {
   "cell_type": "markdown",
   "metadata": {},
   "source": [
    "# Belongs to Airbnb Lab"
   ]
  },
  {
   "cell_type": "markdown",
   "metadata": {},
   "source": [
    "### Introduction\n",
    "In this lab we will continue to explore the relationships between data in different tables of a database. The Airbnb database for this lab contains four tables, `hosts`, `listings`, `locations`, and `neighborhoods`. In order to understand and analyze the data, we need to first understand the relationships between the tables. Relationships include \"Has One\" and \"Has Many\". For example, the `listings` table has a column \"host_id\" which HAS ONE record in hosts table that it corresponds to (a listing will only have one host). The `locations` table has an id column which HAS MANY corresponding records in the `listings` table (a location will have more than one listing). "
   ]
  },
  {
   "cell_type": "markdown",
   "metadata": {},
   "source": [
    "Let's begin by connecting to the database and reviewing the schema of the tables."
   ]
  },
  {
   "cell_type": "code",
   "execution_count": 2,
   "metadata": {},
   "outputs": [],
   "source": [
    "import sqlite3\n",
    "conn = sqlite3.connect('airbnb.db')\n",
    "cursor = conn.cursor()"
   ]
  },
  {
   "cell_type": "code",
   "execution_count": 2,
   "metadata": {},
   "outputs": [
    {
     "data": {
      "text/plain": [
       "[('hosts',), ('neighborhoods',), ('locations',), ('listings',)]"
      ]
     },
     "execution_count": 2,
     "metadata": {},
     "output_type": "execute_result"
    }
   ],
   "source": [
    "cursor.execute('SELECT name from sqlite_master where type= \"table\"')\n",
    "cursor.fetchall()"
   ]
  },
  {
   "cell_type": "code",
   "execution_count": 3,
   "metadata": {},
   "outputs": [
    {
     "data": {
      "text/plain": [
       "[(0, 'id', 'INTEGER', 0, None, 0), (1, 'host_name', 'TEXT', 0, None, 0)]"
      ]
     },
     "execution_count": 3,
     "metadata": {},
     "output_type": "execute_result"
    }
   ],
   "source": [
    "cursor.execute('PRAGMA table_info(hosts)')\n",
    "cursor.fetchall()"
   ]
  },
  {
   "cell_type": "code",
   "execution_count": 4,
   "metadata": {},
   "outputs": [
    {
     "data": {
      "text/plain": [
       "[(0, 'id', 'INTEGER', 0, None, 0),\n",
       " (1, 'name', 'TEXT', 0, None, 0),\n",
       " (2, 'neighbourhood_group', 'TEXT', 0, None, 0)]"
      ]
     },
     "execution_count": 4,
     "metadata": {},
     "output_type": "execute_result"
    }
   ],
   "source": [
    "cursor.execute('PRAGMA table_info(neighborhoods)')\n",
    "cursor.fetchall()"
   ]
  },
  {
   "cell_type": "code",
   "execution_count": 5,
   "metadata": {},
   "outputs": [
    {
     "data": {
      "text/plain": [
       "[(0, 'id', 'INTEGER', 0, None, 0),\n",
       " (1, 'longitude', 'REAL', 0, None, 0),\n",
       " (2, 'latitude', 'REAL', 0, None, 0),\n",
       " (3, 'neighborhood_id', 'INTEGER', 0, None, 0)]"
      ]
     },
     "execution_count": 5,
     "metadata": {},
     "output_type": "execute_result"
    }
   ],
   "source": [
    "cursor.execute('PRAGMA table_info(locations)')\n",
    "cursor.fetchall()"
   ]
  },
  {
   "cell_type": "code",
   "execution_count": 6,
   "metadata": {},
   "outputs": [
    {
     "data": {
      "text/plain": [
       "[(0, 'id', 'INTEGER', 0, None, 0),\n",
       " (1, 'name', 'TEXT', 0, None, 0),\n",
       " (2, 'host_id', 'INTEGER', 0, None, 0),\n",
       " (3, 'location_id', 'INTEGER', 0, None, 0),\n",
       " (4, 'number_of_reviews', 'INTEGER', 0, None, 0),\n",
       " (5, 'occupancy', 'INTEGER', 0, None, 0),\n",
       " (6, 'price', 'INTEGER', 0, None, 0),\n",
       " (7, 'room_type', 'TEXT', 0, None, 0),\n",
       " (8, 'host_listings_count', 'INTEGER', 0, None, 0)]"
      ]
     },
     "execution_count": 6,
     "metadata": {},
     "output_type": "execute_result"
    }
   ],
   "source": [
    "cursor.execute('PRAGMA table_info(listings)')\n",
    "cursor.fetchall()"
   ]
  },
  {
   "cell_type": "markdown",
   "metadata": {},
   "source": [
    "We'll start off with some basic one table queries:"
   ]
  },
  {
   "cell_type": "markdown",
   "metadata": {},
   "source": [
    "* Which listing name has the highest price?"
   ]
  },
  {
   "cell_type": "code",
   "execution_count": 7,
   "metadata": {},
   "outputs": [
    {
     "data": {
      "text/plain": [
       "[('Furnished room in Astoria apartment',)]"
      ]
     },
     "execution_count": 7,
     "metadata": {},
     "output_type": "execute_result"
    }
   ],
   "source": [
    "cursor.execute('SELECT name FROM listings ORDER BY price DESC LIMIT 1;')\n",
    "cursor.fetchall()"
   ]
  },
  {
   "cell_type": "markdown",
   "metadata": {},
   "source": [
    "* What is the id of the location with the lowest longitude?"
   ]
  },
  {
   "cell_type": "code",
   "execution_count": 8,
   "metadata": {},
   "outputs": [
    {
     "data": {
      "text/plain": [
       "[(45652,)]"
      ]
     },
     "execution_count": 8,
     "metadata": {},
     "output_type": "execute_result"
    }
   ],
   "source": [
    "cursor.execute('SELECT id FROM locations ORDER BY longitude LIMIT 1;')\n",
    "cursor.fetchall()"
   ]
  },
  {
   "cell_type": "markdown",
   "metadata": {},
   "source": [
    "* What is the greatest occupancy of a listing?"
   ]
  },
  {
   "cell_type": "code",
   "execution_count": 9,
   "metadata": {},
   "outputs": [
    {
     "data": {
      "text/plain": [
       "[(365,)]"
      ]
     },
     "execution_count": 9,
     "metadata": {},
     "output_type": "execute_result"
    }
   ],
   "source": [
    "cursor.execute('SELECT MAX(occupancy) FROM listings;')\n",
    "cursor.fetchall()"
   ]
  },
  {
   "cell_type": "markdown",
   "metadata": {},
   "source": [
    "* What is the average price of a listing?"
   ]
  },
  {
   "cell_type": "code",
   "execution_count": 10,
   "metadata": {},
   "outputs": [
    {
     "data": {
      "text/plain": [
       "[(152.7206871868289,)]"
      ]
     },
     "execution_count": 10,
     "metadata": {},
     "output_type": "execute_result"
    }
   ],
   "source": [
    "cursor.execute('SELECT AVG(price) FROM listings;')\n",
    "cursor.fetchall()"
   ]
  },
  {
   "cell_type": "markdown",
   "metadata": {},
   "source": [
    "* What is the count of number of hosts?"
   ]
  },
  {
   "cell_type": "code",
   "execution_count": 11,
   "metadata": {},
   "outputs": [
    {
     "data": {
      "text/plain": [
       "[(37457,)]"
      ]
     },
     "execution_count": 11,
     "metadata": {},
     "output_type": "execute_result"
    }
   ],
   "source": [
    "cursor.execute('SELECT COUNT(id) FROM hosts;')\n",
    "cursor.fetchall()"
   ]
  },
  {
   "cell_type": "markdown",
   "metadata": {},
   "source": [
    "### Move onto relationships"
   ]
  },
  {
   "cell_type": "markdown",
   "metadata": {},
   "source": [
    "Have them map out the relationships "
   ]
  },
  {
   "cell_type": "markdown",
   "metadata": {},
   "source": [
    "*  host\n",
    "    * include the host name, and host id\n",
    "    \n",
    "* A location belongs to a neighborhoods \n",
    "    * neighborhood_id, latitude, longitude\n",
    "* A neighborhood belongs to a neighborhood group\n",
    "\n",
    "* listing \n",
    "    * name, host_id, location_id, room_type, price, occupancy"
   ]
  },
  {
   "cell_type": "markdown",
   "metadata": {},
   "source": [
    "For the following queries, use the relationships between the tables to find the solutions"
   ]
  },
  {
   "cell_type": "markdown",
   "metadata": {},
   "source": [
    "* What is the longitude and latitude of the listing of the highest price?"
   ]
  },
  {
   "cell_type": "code",
   "execution_count": 12,
   "metadata": {},
   "outputs": [
    {
     "data": {
      "text/plain": [
       "[(-73.91651, 40.7681)]"
      ]
     },
     "execution_count": 12,
     "metadata": {},
     "output_type": "execute_result"
    }
   ],
   "source": [
    "cursor.execute(\"\"\"\n",
    "SELECT a.longitude,\n",
    "       a.latitude\n",
    "  FROM locations AS a\n",
    "       JOIN\n",
    "       listings AS b ON a.id = b.location_id\n",
    " ORDER BY b.price DESC\n",
    " LIMIT 1;\n",
    "\"\"\")\n",
    "cursor.fetchall()"
   ]
  },
  {
   "cell_type": "markdown",
   "metadata": {},
   "source": [
    "* What is the neighborhood id of the listing with the lowest price?"
   ]
  },
  {
   "cell_type": "code",
   "execution_count": 14,
   "metadata": {},
   "outputs": [
    {
     "data": {
      "text/plain": [
       "[(6,)]"
      ]
     },
     "execution_count": 14,
     "metadata": {},
     "output_type": "execute_result"
    }
   ],
   "source": [
    "cursor.execute(\"\"\"\n",
    "SELECT a.neighborhood_id\n",
    "  FROM locations AS a\n",
    "       JOIN\n",
    "       listings AS b ON a.id = b.location_id\n",
    " ORDER BY b.price\n",
    " LIMIT 1;\n",
    "\n",
    "\"\"\")\n",
    "cursor.fetchall()"
   ]
  },
  {
   "cell_type": "markdown",
   "metadata": {},
   "source": [
    "* What is the longitude and latitude of the listing of the lowest price?"
   ]
  },
  {
   "cell_type": "code",
   "execution_count": 15,
   "metadata": {},
   "outputs": [
    {
     "data": {
      "text/plain": [
       "[(-73.95428000000001, 40.69023)]"
      ]
     },
     "execution_count": 15,
     "metadata": {},
     "output_type": "execute_result"
    }
   ],
   "source": [
    "cursor.execute(\"\"\"\n",
    "SELECT a.longitude,\n",
    "       a.latitude\n",
    "  FROM locations AS a\n",
    "       JOIN\n",
    "       listings AS b ON a.id = b.location_id\n",
    " ORDER BY b.price\n",
    " LIMIT 1;\n",
    "\"\"\")\n",
    "cursor.fetchall()"
   ]
  },
  {
   "cell_type": "markdown",
   "metadata": {},
   "source": [
    "### Relations and GROUP BY"
   ]
  },
  {
   "cell_type": "markdown",
   "metadata": {},
   "source": [
    "* What is the name of the host has the most number of reviews?"
   ]
  },
  {
   "cell_type": "code",
   "execution_count": 24,
   "metadata": {},
   "outputs": [
    {
     "data": {
      "text/plain": [
       "[('Maya', 2273)]"
      ]
     },
     "execution_count": 24,
     "metadata": {},
     "output_type": "execute_result"
    }
   ],
   "source": [
    "cursor.execute(\"\"\"\n",
    "SELECT h.host_name,\n",
    "       SUM(l.number_of_reviews) \n",
    "  FROM hosts AS h\n",
    "       JOIN\n",
    "       listings AS l ON h.id = l.host_id\n",
    " GROUP BY l.host_id\n",
    " ORDER BY SUM(l.number_of_reviews) DESC\n",
    " LIMIT 1;\n",
    "\"\"\")\n",
    "cursor.fetchall()"
   ]
  },
  {
   "cell_type": "markdown",
   "metadata": {},
   "source": [
    "* What is the name of the host with the highest average listing price?"
   ]
  },
  {
   "cell_type": "code",
   "execution_count": 3,
   "metadata": {},
   "outputs": [
    {
     "data": {
      "text/plain": [
       "[('Jelena',)]"
      ]
     },
     "execution_count": 3,
     "metadata": {},
     "output_type": "execute_result"
    }
   ],
   "source": [
    "cursor.execute(\"\"\"\n",
    "SELECT h.host_name\n",
    "  FROM hosts AS h\n",
    "       JOIN\n",
    "       listings AS l ON h.id = l.host_id\n",
    " GROUP BY l.host_id\n",
    " ORDER BY AVG(l.price) desc \n",
    " LIMIT 1;\n",
    "\"\"\")\n",
    "cursor.fetchall()"
   ]
  },
  {
   "cell_type": "markdown",
   "metadata": {},
   "source": [
    "* What is the name of the host with the lowest average listing price?"
   ]
  },
  {
   "cell_type": "code",
   "execution_count": 17,
   "metadata": {},
   "outputs": [
    {
     "data": {
      "text/plain": [
       "[('Aymeric',)]"
      ]
     },
     "execution_count": 17,
     "metadata": {},
     "output_type": "execute_result"
    }
   ],
   "source": [
    "cursor.execute(\"\"\"\n",
    "SELECT h.host_name\n",
    "  FROM hosts AS h\n",
    "       JOIN\n",
    "       listings AS l ON h.id = l.host_id\n",
    " GROUP BY l.host_id\n",
    " ORDER BY AVG(l.price) \n",
    " LIMIT 1;\n",
    "\"\"\")\n",
    "cursor.fetchall()"
   ]
  },
  {
   "cell_type": "markdown",
   "metadata": {},
   "source": [
    "* What is the name of the neighborhood with the most number of locations"
   ]
  },
  {
   "cell_type": "code",
   "execution_count": 18,
   "metadata": {},
   "outputs": [
    {
     "data": {
      "text/plain": [
       "[('Williamsburg',)]"
      ]
     },
     "execution_count": 18,
     "metadata": {},
     "output_type": "execute_result"
    }
   ],
   "source": [
    "cursor.execute(\"\"\"\n",
    "SELECT n.name\n",
    "  FROM neighborhoods AS n\n",
    "       JOIN\n",
    "       locations AS l ON n.id = l.neighborhood_id\n",
    " GROUP BY n.id\n",
    " ORDER BY COUNT(n.id) DESC\n",
    " LIMIT 1;\n",
    "\n",
    "\"\"\")\n",
    "cursor.fetchall()\n"
   ]
  },
  {
   "cell_type": "markdown",
   "metadata": {},
   "source": [
    "* What are the names of the neighborhoods with 10 locations?"
   ]
  },
  {
   "cell_type": "code",
   "execution_count": 19,
   "metadata": {},
   "outputs": [
    {
     "data": {
      "text/plain": [
       "[('North Riverdale',),\n",
       " ('Great Kills',),\n",
       " ('East Morrisania',),\n",
       " ('Melrose',),\n",
       " ('Bergen Beach',),\n",
       " ('Westchester Square',)]"
      ]
     },
     "execution_count": 19,
     "metadata": {},
     "output_type": "execute_result"
    }
   ],
   "source": [
    "cursor.execute(\"\"\"\n",
    "SELECT n.name\n",
    "  FROM neighborhoods AS n\n",
    "       JOIN\n",
    "       locations AS l ON n.id = l.neighborhood_id\n",
    " GROUP BY n.id\n",
    "HAVING COUNT(n.id) = 10;\n",
    "\"\"\")\n",
    "cursor.fetchall()"
   ]
  },
  {
   "cell_type": "markdown",
   "metadata": {},
   "source": [
    "The following questions will require joins of three tables"
   ]
  },
  {
   "cell_type": "markdown",
   "metadata": {},
   "source": [
    "**To add**"
   ]
  },
  {
   "cell_type": "markdown",
   "metadata": {},
   "source": [
    "* What is the average occupancy of each neighborhood?"
   ]
  },
  {
   "cell_type": "code",
   "execution_count": 5,
   "metadata": {},
   "outputs": [
    {
     "data": {
      "text/plain": [
       "[('Kensington', 281.0514285714286),\n",
       " ('Midtown', 207.29644012944985),\n",
       " ('Harlem', 258.4224981188864),\n",
       " ('Clinton Hill', 269.986013986014),\n",
       " ('East Harlem', 266.0268576544315)]"
      ]
     },
     "execution_count": 5,
     "metadata": {},
     "output_type": "execute_result"
    }
   ],
   "source": [
    "cursor.execute(\"\"\"\n",
    "SELECT n.name,\n",
    "       AVG(l.occupancy) \n",
    "  FROM neighborhoods AS n\n",
    "       JOIN\n",
    "       locations AS lo ON n.id = lo.neighborhood_id\n",
    "       JOIN\n",
    "       listings AS l ON lo.id = l.location_id\n",
    " GROUP BY lo.neighborhood_id limit 5;\n",
    "\"\"\")\n",
    "cursor.fetchall()"
   ]
  },
  {
   "cell_type": "markdown",
   "metadata": {},
   "source": [
    "* What is the total number of reviews for each neighborhood?"
   ]
  },
  {
   "cell_type": "code",
   "execution_count": 7,
   "metadata": {},
   "outputs": [
    {
     "data": {
      "text/plain": [
       "[('Kensington', 2972),\n",
       " ('Midtown', 19444),\n",
       " ('Harlem', 75962),\n",
       " ('Clinton Hill', 14586),\n",
       " ('East Harlem', 36446)]"
      ]
     },
     "execution_count": 7,
     "metadata": {},
     "output_type": "execute_result"
    }
   ],
   "source": [
    "cursor.execute(\"\"\"\n",
    "SELECT n.name,\n",
    "       SUM(l.number_of_reviews) \n",
    "  FROM neighborhoods AS n\n",
    "       JOIN\n",
    "       locations AS lo ON n.id = lo.neighborhood_id\n",
    "       JOIN\n",
    "       listings AS l ON lo.id = l.location_id\n",
    " GROUP BY lo.neighborhood_id limit 5;\n",
    "\"\"\")\n",
    "cursor.fetchall()"
   ]
  },
  {
   "cell_type": "markdown",
   "metadata": {},
   "source": [
    "* Write a query that returns the name and average listing price of each neighborhood"
   ]
  },
  {
   "cell_type": "code",
   "execution_count": 8,
   "metadata": {},
   "outputs": [
    {
     "data": {
      "text/plain": [
       "[('Kensington', 92.88571428571429),\n",
       " ('Midtown', 282.7190938511327),\n",
       " ('Harlem', 118.97404063205417),\n",
       " ('Clinton Hill', 181.89335664335664),\n",
       " ('East Harlem', 133.1987466427932),\n",
       " ('Murray Hill', 220.95876288659792),\n",
       " ('Bedford-Stuyvesant', 107.67824448034465),\n",
       " (\"Hell's Kitchen\", 204.79417773237998),\n",
       " ('Upper West Side', 210.91831557584982),\n",
       " ('Chinatown', 161.49728260869566),\n",
       " ('South Slope', 146.72535211267606),\n",
       " ('West Village', 267.6822916666667),\n",
       " ('Williamsburg', 143.80280612244897),\n",
       " ('Fort Greene', 151.37423312883436),\n",
       " ('Chelsea', 249.73854447439354),\n",
       " ('Crown Heights', 112.480179028133),\n",
       " ('Park Slope', 176.31225296442688),\n",
       " ('Windsor Terrace', 138.9936305732484),\n",
       " ('Inwood', 88.89682539682539),\n",
       " ('East Village', 186.0831084727469),\n",
       " ('Greenpoint', 144.82242152466367),\n",
       " ('Bushwick', 84.80040567951319),\n",
       " ('Flatbush', 92.21256038647343),\n",
       " ('Lower East Side', 186.31284302963775),\n",
       " ('Prospect-Lefferts Gardens', 110.40186915887851),\n",
       " ('Long Island City', 127.46554934823091),\n",
       " ('Kips Bay', 202.40851063829788),\n",
       " ('SoHo', 287.1033519553073),\n",
       " ('Upper East Side', 188.94827586206895),\n",
       " ('Prospect Heights', 173.37254901960785),\n",
       " ('Washington Heights', 89.6106785317019),\n",
       " ('Woodside', 85.09787234042552),\n",
       " ('Brooklyn Heights', 209.06493506493507),\n",
       " ('Carroll Gardens', 175.91416309012877),\n",
       " ('Gowanus', 158.80161943319837),\n",
       " ('Flatlands', 126.43373493975903),\n",
       " ('Cobble Hill', 211.92929292929293),\n",
       " ('Flushing', 93.51408450704226),\n",
       " ('Boerum Hill', 176.135593220339),\n",
       " ('Sunnyside', 84.86501377410468),\n",
       " ('DUMBO', 196.30555555555554),\n",
       " ('St. George', 118.14583333333333),\n",
       " ('Highbridge', 71.11111111111111),\n",
       " ('Financial District', 225.49059139784947),\n",
       " ('Ridgewood', 77.18439716312056),\n",
       " ('Morningside Heights', 114.78323699421965),\n",
       " ('Jamaica', 95.77056277056278),\n",
       " ('Middle Village', 109.58064516129032),\n",
       " ('NoHo', 295.71794871794873),\n",
       " ('Ditmars Steinway', 95.02912621359224),\n",
       " ('Flatiron District', 341.925),\n",
       " ('Roosevelt Island', 113.25974025974025),\n",
       " ('Greenwich Village', 263.40561224489795),\n",
       " ('Little Italy', 222.06611570247935),\n",
       " ('East Flatbush', 104.222),\n",
       " ('Tompkinsville', 76.19047619047619),\n",
       " ('Astoria', 117.18777777777778),\n",
       " ('Clason Point', 112.76190476190476),\n",
       " ('Eastchester', 141.69230769230768),\n",
       " ('Kingsbridge', 77.92857142857143),\n",
       " ('Two Bridges', 127.06944444444444),\n",
       " ('Queens Village', 83.93333333333334),\n",
       " ('Rockaway Beach', 132.17857142857142),\n",
       " ('Forest Hills', 121.625),\n",
       " ('Nolita', 230.13833992094862),\n",
       " ('Woodlawn', 60.09090909090909),\n",
       " ('University Heights', 69.57142857142857),\n",
       " ('Gravesend', 79.01470588235294),\n",
       " ('Gramercy', 222.75443786982248),\n",
       " ('Allerton', 87.5952380952381),\n",
       " ('East New York', 85.42660550458716),\n",
       " ('Theater District', 248.01388888888889),\n",
       " ('Concourse Village', 73.78125),\n",
       " ('Sheepshead Bay', 105.77439024390245),\n",
       " ('Emerson Hill', 68.2),\n",
       " ('Fort Hamilton', 93.81818181818181),\n",
       " ('Bensonhurst', 75.78666666666666),\n",
       " ('Tribeca', 490.638418079096),\n",
       " ('Shore Acres', 152.71428571428572),\n",
       " ('Sunset Park', 113.04102564102564),\n",
       " ('Concourse', 86.18),\n",
       " ('Elmhurst', 80.45991561181435),\n",
       " ('Brighton Beach', 131.93333333333334),\n",
       " ('Jackson Heights', 80.89784946236558),\n",
       " ('Cypress Hills', 128.9037037037037),\n",
       " ('St. Albans', 100.82894736842105),\n",
       " ('Arrochar', 115.0),\n",
       " ('Rego Park', 83.87735849056604),\n",
       " ('Wakefield', 85.58),\n",
       " ('Clifton', 84.93333333333334),\n",
       " ('Bay Ridge', 144.43262411347519),\n",
       " ('Graniteville', 68.66666666666667),\n",
       " ('Spuyten Duyvil', 154.75),\n",
       " ('Stapleton', 98.96296296296296),\n",
       " ('Briarwood', 105.875),\n",
       " ('Ozone Park', 85.2741935483871),\n",
       " ('Columbia St', 162.95238095238096),\n",
       " ('Vinegar Hill', 187.1764705882353),\n",
       " ('Mott Haven', 88.91666666666667),\n",
       " ('Longwood', 91.91935483870968),\n",
       " ('Canarsie', 104.36734693877551),\n",
       " ('Battery Park City', 367.5571428571429),\n",
       " ('Civic Center', 191.94230769230768),\n",
       " ('East Elmhurst', 81.18378378378378),\n",
       " ('New Springville', 76.0),\n",
       " ('Morris Heights', 76.94117647058823),\n",
       " ('Arverne', 171.7792207792208),\n",
       " ('Cambria Heights', 81.73076923076923),\n",
       " ('Tottenville', 144.85714285714286),\n",
       " ('Mariners Harbor', 94.625),\n",
       " ('Concord', 58.19230769230769),\n",
       " ('Borough Park', 63.06617647058823),\n",
       " ('Bayside', 157.94871794871796),\n",
       " ('Downtown Brooklyn', 150.34939759036143),\n",
       " ('Port Morris', 79.8913043478261),\n",
       " ('Fieldston', 75.08333333333333),\n",
       " ('Kew Gardens', 88.375),\n",
       " ('Midwood', 80.33944954128441),\n",
       " ('College Point', 88.0),\n",
       " ('Mount Eden', 58.5),\n",
       " ('City Island', 173.0),\n",
       " ('Glendale', 90.79629629629629),\n",
       " ('Port Richmond', 90.11111111111111),\n",
       " ('Red Hook', 143.45569620253164),\n",
       " ('Richmond Hill', 87.11702127659575),\n",
       " ('Bellerose', 99.35714285714286),\n",
       " ('Maspeth', 83.64545454545454),\n",
       " ('Williamsbridge', 96.75),\n",
       " ('Soundview', 53.46666666666667),\n",
       " ('Woodhaven', 67.17045454545455),\n",
       " ('Woodrow', 700.0),\n",
       " ('Co-op City', 77.5),\n",
       " ('Stuyvesant Town', 169.1081081081081),\n",
       " ('Parkchester', 69.07692307692308),\n",
       " ('North Riverdale', 79.9),\n",
       " ('Dyker Heights', 93.41666666666667),\n",
       " ('Bronxdale', 57.10526315789474),\n",
       " ('Sea Gate', 487.85714285714283),\n",
       " ('Riverdale', 442.09090909090907),\n",
       " ('Kew Gardens Hills', 112.3076923076923),\n",
       " ('Bay Terrace', 142.0),\n",
       " ('Norwood', 75.54838709677419),\n",
       " ('Claremont Village', 87.46428571428571),\n",
       " ('Whitestone', 107.54545454545455),\n",
       " ('Fordham', 69.44444444444444),\n",
       " ('Bayswater', 87.47058823529412),\n",
       " ('Navy Yard', 151.64285714285714),\n",
       " ('Brownsville', 76.45901639344262),\n",
       " ('Eltingville', 141.66666666666666),\n",
       " ('Fresh Meadows', 99.5),\n",
       " ('Mount Hope', 77.5),\n",
       " ('Lighthouse Hill', 157.5),\n",
       " ('Springfield Gardens', 94.23529411764706),\n",
       " ('Howard Beach', 115.4),\n",
       " ('Belle Harbor', 171.5),\n",
       " ('Jamaica Estates', 182.94736842105263),\n",
       " ('Van Nest', 113.81818181818181),\n",
       " ('Morris Park', 69.33333333333333),\n",
       " ('West Brighton', 80.55555555555556),\n",
       " ('Far Rockaway', 165.86206896551724),\n",
       " ('South Ozone Park', 82.4),\n",
       " ('Tremont', 51.54545454545455),\n",
       " ('Corona', 59.171875),\n",
       " ('Great Kills', 100.6),\n",
       " ('Manhattan Beach', 103.5),\n",
       " ('Marble Hill', 89.16666666666667),\n",
       " ('Dongan Hills', 79.42857142857143),\n",
       " ('Castleton Corners', 139.75),\n",
       " ('East Morrisania', 85.0),\n",
       " ('Hunts Point', 50.5),\n",
       " ('Neponsit', 274.6666666666667),\n",
       " ('Pelham Bay', 105.0),\n",
       " ('Randall Manor', 336.0),\n",
       " ('Throgs Neck', 91.04166666666667),\n",
       " ('Todt Hill', 169.0),\n",
       " ('West Farms', 122.0),\n",
       " ('Silver Lake', 70.0),\n",
       " ('Morrisania', 83.44444444444444),\n",
       " ('Laurelton', 95.33333333333333),\n",
       " ('Grymes Hill', 159.14285714285714),\n",
       " ('Holliswood', 135.75),\n",
       " ('Pelham Gardens', 93.60714285714286),\n",
       " ('Belmont', 77.125),\n",
       " ('Rosedale', 76.69491525423729),\n",
       " ('Edgemere', 94.72727272727273),\n",
       " ('New Brighton', 101.8),\n",
       " ('Midland Beach', 91.83333333333333),\n",
       " ('Baychester', 75.42857142857143),\n",
       " ('Melrose', 83.3),\n",
       " ('Bergen Beach', 106.7),\n",
       " ('Richmondtown', 78.0),\n",
       " ('Howland Hook', 100.0),\n",
       " ('Schuylerville', 69.23076923076923),\n",
       " ('Coney Island', 123.70588235294117),\n",
       " ('New Dorp Beach', 57.4),\n",
       " (\"Prince's Bay\", 409.5),\n",
       " ('South Beach', 89.25),\n",
       " ('Bath Beach', 81.76470588235294),\n",
       " ('Jamaica Hills', 132.125),\n",
       " ('Oakwood', 81.2),\n",
       " ('Castle Hill', 63.0),\n",
       " ('Hollis', 88.64285714285714),\n",
       " ('Douglaston', 82.75),\n",
       " ('Huguenot', 118.33333333333333),\n",
       " ('Olinville', 64.0),\n",
       " ('Edenwald', 82.0),\n",
       " ('Grant City', 57.666666666666664),\n",
       " ('Westerleigh', 71.5),\n",
       " ('Bay Terrace, Staten Island', 102.5),\n",
       " ('Westchester Square', 122.2),\n",
       " ('Little Neck', 75.2),\n",
       " ('Fort Wadsworth', 800.0),\n",
       " ('Rosebank', 111.85714285714286),\n",
       " ('Unionport', 137.14285714285714),\n",
       " ('Mill Basin', 179.75),\n",
       " ('Arden Heights', 67.25),\n",
       " (\"Bull's Head\", 47.333333333333336),\n",
       " ('New Dorp', 57.0),\n",
       " ('Rossville', 75.0),\n",
       " ('Breezy Point', 213.33333333333334),\n",
       " ('Willowbrook', 249.0)]"
      ]
     },
     "execution_count": 8,
     "metadata": {},
     "output_type": "execute_result"
    }
   ],
   "source": [
    "cursor.execute(\"\"\"\n",
    "SELECT n.name,\n",
    "       AVG(l.price) \n",
    "  FROM neighborhoods AS n\n",
    "       JOIN\n",
    "       locations AS lo ON n.id = lo.neighborhood_id\n",
    "       JOIN\n",
    "       listings AS l ON lo.id = l.location_id\n",
    " GROUP BY lo.neighborhood_id;\n",
    "\"\"\")\n",
    "cursor.fetchall()"
   ]
  },
  {
   "cell_type": "markdown",
   "metadata": {},
   "source": [
    "### Conclusion\n",
    "In this lab we worked on the \"Has One\" and \"Has Many\" relations in SQL. We began by mapping out the relations between the tables, which gave us a better idea of how we could then join them in our queries. We finished the lab by creating queries using JOIN clauses that connect the tables using these relationships."
   ]
  }
 ],
 "metadata": {
  "kernelspec": {
   "display_name": "Python 3 (ipykernel)",
   "language": "python",
   "name": "python3"
  },
  "language_info": {
   "codemirror_mode": {
    "name": "ipython",
    "version": 3
   },
   "file_extension": ".py",
   "mimetype": "text/x-python",
   "name": "python",
   "nbconvert_exporter": "python",
   "pygments_lexer": "ipython3",
   "version": "3.10.6"
  }
 },
 "nbformat": 4,
 "nbformat_minor": 4
}
