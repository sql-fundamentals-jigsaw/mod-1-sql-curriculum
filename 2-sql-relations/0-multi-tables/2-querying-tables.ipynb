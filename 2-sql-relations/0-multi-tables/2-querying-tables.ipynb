{
 "cells": [
  {
   "cell_type": "markdown",
   "metadata": {},
   "source": [
    "# Querying Tables"
   ]
  },
  {
   "cell_type": "markdown",
   "metadata": {},
   "source": [
    "### Introduction"
   ]
  },
  {
   "cell_type": "markdown",
   "metadata": {},
   "source": [
    "Now so far in our journey through SQL we've worked with a single table.  We can say that we've focused on single table queries.  In this table we'll see what it's like to work with a project that has multiple tables, and how we can see the relationships between entities in different tables."
   ]
  },
  {
   "cell_type": "markdown",
   "metadata": {},
   "source": [
    "### Loading our data"
   ]
  },
  {
   "cell_type": "code",
   "execution_count": null,
   "metadata": {
    "tags": []
   },
   "outputs": [],
   "source": [
    "import pandas as pd\n",
    "albums_url = \"https://raw.githubusercontent.com/sql-fundamentals-jigsaw/mod-1-sql-curriculum/master/2-sql-relations/0-multi-tables/albums.csv\"\n",
    "albums_df = pd.read_csv(albums_url)\n",
    "artists_url = \"https://raw.githubusercontent.com/sql-fundamentals-jigsaw/mod-1-sql-curriculum/master/2-sql-relations/0-multi-tables/artists.csv\"\n",
    "artists_df = pd.read_csv(artists_url)"
   ]
  },
  {
   "cell_type": "code",
   "execution_count": 32,
   "metadata": {},
   "outputs": [
    {
     "data": {
      "text/html": [
       "<div>\n",
       "<style scoped>\n",
       "    .dataframe tbody tr th:only-of-type {\n",
       "        vertical-align: middle;\n",
       "    }\n",
       "\n",
       "    .dataframe tbody tr th {\n",
       "        vertical-align: top;\n",
       "    }\n",
       "\n",
       "    .dataframe thead th {\n",
       "        text-align: right;\n",
       "    }\n",
       "</style>\n",
       "<table border=\"1\" class=\"dataframe\">\n",
       "  <thead>\n",
       "    <tr style=\"text-align: right;\">\n",
       "      <th></th>\n",
       "      <th>date</th>\n",
       "      <th>artist_id</th>\n",
       "      <th>tracks</th>\n",
       "      <th>track_length</th>\n",
       "      <th>title</th>\n",
       "    </tr>\n",
       "    <tr>\n",
       "      <th>id</th>\n",
       "      <th></th>\n",
       "      <th></th>\n",
       "      <th></th>\n",
       "      <th></th>\n",
       "      <th></th>\n",
       "    </tr>\n",
       "  </thead>\n",
       "  <tbody>\n",
       "    <tr>\n",
       "      <th>1</th>\n",
       "      <td>2019-01-19</td>\n",
       "      <td>2</td>\n",
       "      <td>17</td>\n",
       "      <td>256500.0</td>\n",
       "      <td>The Very Best Of Prince</td>\n",
       "    </tr>\n",
       "    <tr>\n",
       "      <th>2</th>\n",
       "      <td>2017-06-03</td>\n",
       "      <td>2</td>\n",
       "      <td>40</td>\n",
       "      <td>233901.0</td>\n",
       "      <td>4Ever</td>\n",
       "    </tr>\n",
       "    <tr>\n",
       "      <th>3</th>\n",
       "      <td>2016-07-16</td>\n",
       "      <td>1</td>\n",
       "      <td>11</td>\n",
       "      <td>202174.0</td>\n",
       "      <td>Stranger To Stranger</td>\n",
       "    </tr>\n",
       "  </tbody>\n",
       "</table>\n",
       "</div>"
      ],
      "text/plain": [
       "          date  artist_id  tracks  track_length                    title\n",
       "id                                                                      \n",
       "1   2019-01-19          2      17      256500.0  The Very Best Of Prince\n",
       "2   2017-06-03          2      40      233901.0                    4Ever\n",
       "3   2016-07-16          1      11      202174.0     Stranger To Stranger"
      ]
     },
     "execution_count": 32,
     "metadata": {},
     "output_type": "execute_result"
    }
   ],
   "source": [
    "albums_df = pd.read_csv(albums_url, index_col = 0)\n",
    "albums_df"
   ]
  },
  {
   "cell_type": "code",
   "execution_count": 33,
   "metadata": {},
   "outputs": [],
   "source": [
    "import sqlite3\n",
    "conn = sqlite3.connect('billboard_sample.db')"
   ]
  },
  {
   "cell_type": "code",
   "execution_count": 34,
   "metadata": {},
   "outputs": [],
   "source": [
    "albums_df.to_sql('albums', conn, index = False)\n",
    "artists_df.to_sql('artists', conn, index = False)"
   ]
  },
  {
   "cell_type": "code",
   "execution_count": 35,
   "metadata": {},
   "outputs": [],
   "source": [
    "cursor = conn.cursor()"
   ]
  },
  {
   "cell_type": "code",
   "execution_count": 36,
   "metadata": {},
   "outputs": [
    {
     "data": {
      "text/html": [
       "<div>\n",
       "<style scoped>\n",
       "    .dataframe tbody tr th:only-of-type {\n",
       "        vertical-align: middle;\n",
       "    }\n",
       "\n",
       "    .dataframe tbody tr th {\n",
       "        vertical-align: top;\n",
       "    }\n",
       "\n",
       "    .dataframe thead th {\n",
       "        text-align: right;\n",
       "    }\n",
       "</style>\n",
       "<table border=\"1\" class=\"dataframe\">\n",
       "  <thead>\n",
       "    <tr style=\"text-align: right;\">\n",
       "      <th></th>\n",
       "      <th>id</th>\n",
       "      <th>name</th>\n",
       "    </tr>\n",
       "  </thead>\n",
       "  <tbody>\n",
       "    <tr>\n",
       "      <th>0</th>\n",
       "      <td>1</td>\n",
       "      <td>Paul Simon</td>\n",
       "    </tr>\n",
       "    <tr>\n",
       "      <th>1</th>\n",
       "      <td>2</td>\n",
       "      <td>Prince</td>\n",
       "    </tr>\n",
       "  </tbody>\n",
       "</table>\n",
       "</div>"
      ],
      "text/plain": [
       "   id        name\n",
       "0   1  Paul Simon\n",
       "1   2      Prince"
      ]
     },
     "execution_count": 36,
     "metadata": {},
     "output_type": "execute_result"
    }
   ],
   "source": [
    "pd.read_sql('select * from artists;', conn)"
   ]
  },
  {
   "cell_type": "code",
   "execution_count": 37,
   "metadata": {},
   "outputs": [
    {
     "data": {
      "text/html": [
       "<div>\n",
       "<style scoped>\n",
       "    .dataframe tbody tr th:only-of-type {\n",
       "        vertical-align: middle;\n",
       "    }\n",
       "\n",
       "    .dataframe tbody tr th {\n",
       "        vertical-align: top;\n",
       "    }\n",
       "\n",
       "    .dataframe thead th {\n",
       "        text-align: right;\n",
       "    }\n",
       "</style>\n",
       "<table border=\"1\" class=\"dataframe\">\n",
       "  <thead>\n",
       "    <tr style=\"text-align: right;\">\n",
       "      <th></th>\n",
       "      <th>date</th>\n",
       "      <th>artist_id</th>\n",
       "      <th>tracks</th>\n",
       "      <th>track_length</th>\n",
       "      <th>title</th>\n",
       "    </tr>\n",
       "  </thead>\n",
       "  <tbody>\n",
       "    <tr>\n",
       "      <th>0</th>\n",
       "      <td>2019-01-19</td>\n",
       "      <td>2</td>\n",
       "      <td>17</td>\n",
       "      <td>256500.0</td>\n",
       "      <td>The Very Best Of Prince</td>\n",
       "    </tr>\n",
       "    <tr>\n",
       "      <th>1</th>\n",
       "      <td>2017-06-03</td>\n",
       "      <td>2</td>\n",
       "      <td>40</td>\n",
       "      <td>233901.0</td>\n",
       "      <td>4Ever</td>\n",
       "    </tr>\n",
       "    <tr>\n",
       "      <th>2</th>\n",
       "      <td>2016-07-16</td>\n",
       "      <td>1</td>\n",
       "      <td>11</td>\n",
       "      <td>202174.0</td>\n",
       "      <td>Stranger To Stranger</td>\n",
       "    </tr>\n",
       "  </tbody>\n",
       "</table>\n",
       "</div>"
      ],
      "text/plain": [
       "         date  artist_id  tracks  track_length                    title\n",
       "0  2019-01-19          2      17      256500.0  The Very Best Of Prince\n",
       "1  2017-06-03          2      40      233901.0                    4Ever\n",
       "2  2016-07-16          1      11      202174.0     Stranger To Stranger"
      ]
     },
     "execution_count": 37,
     "metadata": {},
     "output_type": "execute_result"
    }
   ],
   "source": [
    "pd.read_sql('select * from albums;', conn)"
   ]
  },
  {
   "cell_type": "markdown",
   "metadata": {},
   "source": [
    "### Describing Relationships"
   ]
  },
  {
   "cell_type": "markdown",
   "metadata": {},
   "source": [
    "Finally, let's take a moment to describe the relationship between albums and artists.  \n",
    "\n",
    "We say that\n",
    "* an artist `has many` albums, and\n",
    "* an album `has one` artist.  "
   ]
  },
  {
   "cell_type": "markdown",
   "metadata": {},
   "source": [
    "`albums`\n",
    "\n",
    "| id| date    | length| track_length | artist_id | title\n",
    "| --|:-------:|-------| --------------| -------| ------|\n",
    "144 | '2019-01-19'| 17 | 256500 | 1| The Very Best Of Prince\n",
    "17155| '2017-06-03' | 40| 233901| 1|  '4Ever' \n",
    "6269 | '2016-07-16'  | 11 | 202174.0 | 2| 'Stranger To Stranger'  "
   ]
  },
  {
   "cell_type": "markdown",
   "metadata": {},
   "source": [
    "`artists`\n",
    "\n",
    "| id        | name           | \n",
    "| ------------- |:-------------:|\n",
    "| 1               |Prince | 1| \n",
    "| 2      | Paul Simon  |   3| \n",
    "\n",
    "\n"
   ]
  },
  {
   "cell_type": "markdown",
   "metadata": {},
   "source": [
    "### Querying our tables"
   ]
  },
  {
   "cell_type": "markdown",
   "metadata": {},
   "source": [
    "Now that we have an idea of how our tables fit together, we can think about constructing queryies for our tables.  There are two questions we can ask:\n",
    "\n",
    "1. Given an album, what is the artist\n",
    "2. Given an artist, what are all of the listed albums"
   ]
  },
  {
   "cell_type": "markdown",
   "metadata": {},
   "source": [
    "Let's tackle these in turn.  Once again these are our tables."
   ]
  },
  {
   "cell_type": "markdown",
   "metadata": {},
   "source": [
    "`artists`\n",
    "\n",
    "| id        | name           | \n",
    "| ------------- |:-------------:| \n",
    "| 1               |Prince | \n",
    "| 2      | Paul Simon      |\n",
    "\n",
    "\n",
    "`albums`\n",
    "\n",
    "| id| date    | rank| length| track_length | artist_id | title\n",
    "| --|:-------:| ----|-------| --------------| -------| ------|\n",
    "144 | '2019-01-19'|'143' | 17 | 256500 | 1| The Very Best Of Prince\n",
    "17155| '2017-06-03'| '154'| 40| 233901| 1|  '4Ever' \n",
    "6269 | '2016-07-16' | '68'| 11 | 202174.0 | 2| 'Stranger To Stranger'  "
   ]
  },
  {
   "cell_type": "markdown",
   "metadata": {},
   "source": [
    "This is the first question we want to answer: \n",
    "\n",
    "* Find the artist who wrote \"Stranger to Stranger\".  "
   ]
  },
  {
   "cell_type": "markdown",
   "metadata": {},
   "source": [
    "Here is the query:"
   ]
  },
  {
   "cell_type": "markdown",
   "metadata": {},
   "source": [
    "```sql\n",
    "SELECT name FROM artists \n",
    "\n",
    "JOIN albums on albums.artist_id = artists.id \n",
    "\n",
    "WHERE title = 'Stranger to Stranger'\n",
    "```"
   ]
  },
  {
   "cell_type": "markdown",
   "metadata": {},
   "source": [
    "1. The Join statement"
   ]
  },
  {
   "cell_type": "markdown",
   "metadata": {},
   "source": [
    "The key part is the middle `JOIN` component.\n",
    "  \n",
    "```sql \n",
    "JOIN albums on albums.artist_id = artists.id \n",
    "```\n",
    "\n"
   ]
  },
  {
   "cell_type": "markdown",
   "metadata": {},
   "source": [
    "This links up the rows of the table, by combining each row where the album's table `artist_id` column equals the artist's tables `id` column.  By joining on these two columns, we can think of sql as creating a joined table that looks like the following: "
   ]
  },
  {
   "cell_type": "markdown",
   "metadata": {},
   "source": [
    "| id| date    | rank| length| track_length | artist_id | album    | id        | name           | \n",
    "| --|:-------:| ----|-------| --------------| -------| ------|------------- |---|\n",
    "|144 | '2019-01-19'|'143' | 17 | 256500 | 1| The Very Best Of Prince | 1     |Prince | \n",
    "|17155| '2017-06-03'| '154'| 40| 233901| 1|  '4Ever' | 1               |Prince | \n",
    "|6269 | '2016-07-16' | '68'| 11 | 202174.0 | 2| 'Stranger To Stranger'  | 2      | Paul Simon      |"
   ]
  },
  {
   "cell_type": "markdown",
   "metadata": {},
   "source": [
    "So notice that in the chart above, we have the columns from both tables linked together, and they are linked by having each row's `artist_id` equal to the id from the table `artists`.\n",
    "\n",
    "2. The Where Statement\n",
    "\n",
    "```sql \n",
    "WHERE album = 'Stranger to Stranger'\n",
    "```\n",
    "\n",
    "Now that JOIN statement has linked up the two tables, the WHERE statement can scope down the rows of the table.  Here our WHERE statement says we are only interested in the rows where the album column is 'Stranger to Stranger'."
   ]
  },
  {
   "cell_type": "markdown",
   "metadata": {},
   "source": [
    "| id| date    | rank| length| track_length | artist_id | album    | id        | name           | \n",
    "| --|:-------:| ----|-------| --------------| -------| ------|------------- |---|\n",
    "|6269 | '2016-07-16' | '68'| 11 | 202174.0 | 2| 'Stranger To Stranger'  | 2      | Paul Simon      |"
   ]
  },
  {
   "cell_type": "markdown",
   "metadata": {},
   "source": [
    "3. The SELECT statement\n",
    "\n",
    "```SQL\n",
    "SELECT name FROM artists\n",
    "```"
   ]
  },
  {
   "cell_type": "markdown",
   "metadata": {},
   "source": [
    "Finally, the SELECT statement indicates the columns that should be returned from the selected rows.  Here, it's the name column."
   ]
  },
  {
   "cell_type": "markdown",
   "metadata": {},
   "source": [
    "name           | \n",
    "---|\n",
    " Paul Simon      |"
   ]
  },
  {
   "cell_type": "markdown",
   "metadata": {},
   "source": [
    "Which answers our question:\n",
    "    \n",
    "* Find the artist who wrote \"Stranger to Stranger\".  \n",
    "\n",
    "And which came from the query:\n",
    "\n",
    "```sql\n",
    "SELECT name FROM artists \n",
    "JOIN albums on albums.artist_id = artists.id \n",
    "WHERE album = 'Stranger to Stranger'\n",
    "```"
   ]
  },
  {
   "cell_type": "markdown",
   "metadata": {},
   "source": [
    "### Table Prefixes"
   ]
  },
  {
   "cell_type": "markdown",
   "metadata": {},
   "source": [
    "Now that we are working with more than one table, it's a good time to introduce the idea of table prefixes.  In the query above, where we say `artists.id` we are using a table prefix.  The table name is `artists` and the column on that table is `id`.  So `artists.id` allows us to specify a column by first indicating the table the column is on.  We do so with the pattern: `table_name.column`.\n",
    "\n",
    "You'll often see the table prefixes in the select statement.  For example, we could have written the above statement as:"
   ]
  },
  {
   "cell_type": "markdown",
   "metadata": {},
   "source": [
    "```sql\n",
    "SELECT artists.name FROM artists \n",
    "JOIN albums on albums.artist_id = artists.id \n",
    "WHERE album = 'Stranger to Stranger'\n",
    "```"
   ]
  },
  {
   "cell_type": "markdown",
   "metadata": {},
   "source": [
    "Or if we wanted to return all of the columns on the artists table, we could have written the following:"
   ]
  },
  {
   "cell_type": "markdown",
   "metadata": {},
   "source": [
    "```sql\n",
    "SELECT artists.* FROM artists \n",
    "JOIN albums on albums.artist_id = artists.id \n",
    "WHERE album = 'Stranger to Stranger'\n",
    "```"
   ]
  },
  {
   "cell_type": "markdown",
   "metadata": {},
   "source": [
    "### Summary"
   ]
  },
  {
   "cell_type": "markdown",
   "metadata": {},
   "source": [
    "In this lesson, we learned about how to "
   ]
  },
  {
   "cell_type": "markdown",
   "metadata": {},
   "source": [
    "### Additional Resources\n",
    "\n",
    "[music story api](http://developers.music-story.com/developers/artist)"
   ]
  }
 ],
 "metadata": {
  "kernelspec": {
   "display_name": "Python 3 (ipykernel)",
   "language": "python",
   "name": "python3"
  },
  "language_info": {
   "codemirror_mode": {
    "name": "ipython",
    "version": 3
   },
   "file_extension": ".py",
   "mimetype": "text/x-python",
   "name": "python",
   "nbconvert_exporter": "python",
   "pygments_lexer": "ipython3",
   "version": "3.11.1"
  },
  "vscode": {
   "interpreter": {
    "hash": "5c7b89af1651d0b8571dde13640ecdccf7d5a6204171d6ab33e7c296e100e08a"
   }
  }
 },
 "nbformat": 4,
 "nbformat_minor": 4
}
