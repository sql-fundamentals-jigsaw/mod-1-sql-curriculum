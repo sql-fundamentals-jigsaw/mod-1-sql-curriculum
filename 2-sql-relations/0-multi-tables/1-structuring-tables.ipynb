{
 "cells": [
  {
   "cell_type": "markdown",
   "metadata": {},
   "source": [
    "# Multiple Tables"
   ]
  },
  {
   "cell_type": "markdown",
   "metadata": {},
   "source": [
    "### Introduction"
   ]
  },
  {
   "cell_type": "markdown",
   "metadata": {},
   "source": [
    "Now so far in our journey through SQL we've worked with a single table.  We can say that we've focused on single table queries.  In this table we'll see what it's like to work with a project that has multiple tables, and how we can see the relationships between entities in different tables."
   ]
  },
  {
   "cell_type": "markdown",
   "metadata": {},
   "source": [
    "### Loading our data"
   ]
  },
  {
   "cell_type": "markdown",
   "metadata": {},
   "source": [
    "Let's imagine that we are working with a dataset of top albums as determined by billboard.  Here, our data is loaded into a database called `billboard-200.db`, which we then connect to."
   ]
  },
  {
   "cell_type": "markdown",
   "metadata": {},
   "source": [
    "```python\n",
    "import sqlite3\n",
    "conn = sqlite3.connect('./billboard-200.db')\n",
    "cursor = conn.cursor()\n",
    "```"
   ]
  },
  {
   "cell_type": "markdown",
   "metadata": {},
   "source": [
    "Now if we take a look at the top albums, we would see something like the following."
   ]
  },
  {
   "cell_type": "markdown",
   "metadata": {},
   "source": [
    "```python\n",
    "cursor.execute('PRAGMA table_info(albums);')\n",
    "cursor.fetchall()\n",
    "\n",
    "# [(0, 'id', 'integer', 0, None, 1),\n",
    "#  (1, 'date', 'text', 0, None, 0),\n",
    "#  (2, 'artist', 'text', 0, None, 0),\n",
    "#  (3, 'album', 'text', 0, None, 0),\n",
    "#  (4, 'rank', 'text', 0, None, 0),\n",
    "#  (5, 'length', 'integer', 0, None, 0),\n",
    "#  (6, 'track_length', 'real', 0, None, 0)]\n",
    "\n",
    "```"
   ]
  },
  {
   "cell_type": "markdown",
   "metadata": {},
   "source": [
    "So we can see that in the albums table there are the columns above.  Now the columns in the albums table look innocent enough, but trouble could be looming.  "
   ]
  },
  {
   "cell_type": "markdown",
   "metadata": {},
   "source": [
    "For example, we have the artist name listed in the albums table.  But notice that each time we store an album by the same artist, we have to repeat that artist's name.  This is violating our Don't Repeat Yourself rule.  Here, it means that if we ever wanted to change the Artist's name, we would have to change this information in multiple places."
   ]
  },
  {
   "cell_type": "markdown",
   "metadata": {},
   "source": [
    "It's best to create a separate table reserved for attributes directly about the artist.  Let's see how."
   ]
  },
  {
   "cell_type": "markdown",
   "metadata": {},
   "source": [
    "### Solving our Problem"
   ]
  },
  {
   "cell_type": "markdown",
   "metadata": {},
   "source": [
    "So we can start by creating a separate artists table that looks like the following."
   ]
  },
  {
   "cell_type": "markdown",
   "metadata": {},
   "source": [
    "`artists`\n",
    "\n",
    "| id        | name           | \n",
    "| ------------- |:-------------:| \n",
    "| 1               |Prince | \n",
    "| 2      | Paul Simon      | "
   ]
  },
  {
   "cell_type": "markdown",
   "metadata": {},
   "source": [
    "Then to link the information `artists` table with our `albums` table, we set up our albums table like so. "
   ]
  },
  {
   "cell_type": "markdown",
   "metadata": {},
   "source": [
    "| id| date    | rank| length| track_length | artist_id | album\n",
    "| --|:-------:| ----|-------| --------------| -------| ------|\n",
    "144 | '2019-01-19'|'143' | 17 | 256500 | 1| The Very Best Of Prince\n",
    "17155| '2017-06-03'| '154'| 40| 233901| 1|  '4Ever' \n",
    "6269 | '2016-07-16' | '68'| 11 | 202174.0 | 2| 'Stranger To Stranger'  "
   ]
  },
  {
   "cell_type": "markdown",
   "metadata": {},
   "source": [
    "The most important component is the `artist_id` column.  We can see that the `artist_id` is what tells us what information to look at on the artists table.  So for example, if we want to see who wrote the second album listed -- '4Ever', we look at the `artist_id`, which is `1` and then go to the artists table, to see the artist with an id of 1, Prince. \n",
    "\n",
    "\n",
    "> The `artist_id` column is referred to as a foreign key, or foreign id, because it refers to a number that is foreign to the current table of albums.  Here, our `artist_id` column in the albums table refers to the `id` on the `artists` table."
   ]
  },
  {
   "cell_type": "markdown",
   "metadata": {},
   "source": [
    "### Describing Relationships"
   ]
  },
  {
   "cell_type": "markdown",
   "metadata": {},
   "source": [
    "Finally, let's take a moment to describe the relationship between albums and artists.  \n",
    "\n",
    "We say that\n",
    "* an artist `has many` albums, and\n",
    "* an album `has one` artist.  "
   ]
  },
  {
   "cell_type": "markdown",
   "metadata": {},
   "source": [
    "> Take a moment to appreciate why this makes sense.\n",
    "\n",
    "In a `has one` to `has many` relationship, the foreign key always goes on the table that `has one`.  So a album has one artist, and the albums table gets the foreign key.  \n",
    "\n",
    "`albums`\n",
    "\n",
    "| id| date    | rank| length| track_length | artist_id | title\n",
    "| --|:-------:| ----|-------| --------------| -------| ------|\n",
    "144 | '2019-01-19'|'143' | 17 | 256500 | 1| The Very Best Of Prince\n",
    "17155| '2017-06-03'| '154'| 40| 233901| 1|  '4Ever' \n",
    "6269 | '2016-07-16' | '68'| 11 | 202174.0 | 2| 'Stranger To Stranger'  "
   ]
  },
  {
   "cell_type": "markdown",
   "metadata": {},
   "source": [
    "The reason why is because if we placed the foreign key on the has_many table, here artists, we would have to add multiple albums for a single row of an artist. "
   ]
  },
  {
   "cell_type": "markdown",
   "metadata": {},
   "source": [
    "`artists`\n",
    "\n",
    "| id        | name           | album_id| album_id|\n",
    "| ------------- |:-------------:| :-----:| :-----:| \n",
    "| 1               |Prince | 1| 2|\n",
    "| 2      | Paul Simon  |   3| _ | \n",
    "\n",
    "\n"
   ]
  },
  {
   "cell_type": "markdown",
   "metadata": {},
   "source": [
    "And it is impossible for us to know how many album_ids we would need for a single artist.  So by putting the foreign_key on the albums table, we can avoid this, as an album has_one artist."
   ]
  },
  {
   "cell_type": "markdown",
   "metadata": {},
   "source": [
    "### Summary"
   ]
  },
  {
   "cell_type": "markdown",
   "metadata": {},
   "source": [
    "In this lesson, we learned about how to structure a has many has one relationship.  We do so by storing the foreign key on the table with the has one relationship.  For example, if song `has_one` album, the song table has a foreign key of `album_id`. "
   ]
  },
  {
   "cell_type": "markdown",
   "metadata": {},
   "source": [
    "### Additional Resources\n",
    "\n",
    "[music story](http://developers.music-story.com/developers/artist)"
   ]
  }
 ],
 "metadata": {
  "kernelspec": {
   "display_name": "Python 3 (ipykernel)",
   "language": "python",
   "name": "python3"
  },
  "language_info": {
   "codemirror_mode": {
    "name": "ipython",
    "version": 3
   },
   "file_extension": ".py",
   "mimetype": "text/x-python",
   "name": "python",
   "nbconvert_exporter": "python",
   "pygments_lexer": "ipython3",
   "version": "3.11.1"
  }
 },
 "nbformat": 4,
 "nbformat_minor": 4
}
