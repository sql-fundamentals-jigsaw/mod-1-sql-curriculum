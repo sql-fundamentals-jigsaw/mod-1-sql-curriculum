{
 "cells": [
  {
   "cell_type": "markdown",
   "id": "1d73a1bb-4a03-4a84-b72a-6f939832899d",
   "metadata": {},
   "source": [
    "# Stackexchange"
   ]
  },
  {
   "cell_type": "markdown",
   "id": "d071f6df-7026-433e-aad5-eb58f357e52a",
   "metadata": {},
   "source": [
    "### Loading the data"
   ]
  },
  {
   "cell_type": "code",
   "execution_count": 1,
   "id": "d1b9f30f-0c86-4829-a24b-745f47dd51d3",
   "metadata": {
    "tags": []
   },
   "outputs": [],
   "source": [
    "datasets = ['badges', 'comments', 'posthistory',\n",
    "            'posts', 'tags', 'users', 'votes']"
   ]
  },
  {
   "cell_type": "code",
   "execution_count": 8,
   "id": "721fbe38-7f2d-4e27-84b8-30c940a9fa19",
   "metadata": {
    "tags": []
   },
   "outputs": [],
   "source": [
    "# !conda install pandas"
   ]
  },
  {
   "cell_type": "code",
   "execution_count": 11,
   "id": "727f1023-c886-483c-8b28-ee76167b53a3",
   "metadata": {
    "tags": []
   },
   "outputs": [],
   "source": [
    "# import pandas as pd\n",
    "# df = pd.read_csv('./data/badges.csv')"
   ]
  },
  {
   "cell_type": "code",
   "execution_count": null,
   "id": "9114f6d6-525a-4572-91b9-2e4f810a0152",
   "metadata": {},
   "outputs": [],
   "source": []
  }
 ],
 "metadata": {
  "kernelspec": {
   "display_name": "Python 3 (ipykernel)",
   "language": "python",
   "name": "python3"
  },
  "language_info": {
   "codemirror_mode": {
    "name": "ipython",
    "version": 3
   },
   "file_extension": ".py",
   "mimetype": "text/x-python",
   "name": "python",
   "nbconvert_exporter": "python",
   "pygments_lexer": "ipython3",
   "version": "3.11.1"
  }
 },
 "nbformat": 4,
 "nbformat_minor": 5
}
