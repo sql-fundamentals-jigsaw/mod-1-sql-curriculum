{
 "cells": [
  {
   "cell_type": "markdown",
   "id": "6fe50509-da67-4517-9deb-70d17f1b3c66",
   "metadata": {},
   "source": [
    "# Stackexchange"
   ]
  },
  {
   "cell_type": "markdown",
   "id": "1d0546cd-b59c-4bf1-a6d1-06f491818781",
   "metadata": {},
   "source": [
    "### Introduction"
   ]
  },
  {
   "cell_type": "markdown",
   "id": "094cd3aa-1239-47d6-b258-4943532a9568",
   "metadata": {},
   "source": [
    "In this lesson, we'll use data from the [stackexchange-postgres](https://github.com/Networks-Learning/stackexchange-dump-to-postgres) repository."
   ]
  },
  {
   "cell_type": "markdown",
   "id": "691c94ad-01b3-4ee7-82ac-a64e912b6152",
   "metadata": {},
   "source": [
    "### Connecting to the database with postgres"
   ]
  },
  {
   "cell_type": "markdown",
   "id": "4b05a87b-b0e6-41d4-a36e-5eac42e50bb1",
   "metadata": {},
   "source": [
    "With postgres, we can connect to the database with the following."
   ]
  },
  {
   "cell_type": "code",
   "execution_count": 1,
   "id": "f81f6d05-d4e5-4ee1-a168-7a7fb996fbff",
   "metadata": {},
   "outputs": [],
   "source": [
    "import pandas as pd\n",
    "from sqlalchemy import create_engine\n",
    "\n",
    "engine = create_engine('postgresql://@localhost:5432/beerSO')"
   ]
  },
  {
   "cell_type": "markdown",
   "id": "11bb36ff-5c39-4af2-984f-563494bca330",
   "metadata": {},
   "source": [
    "And a sample query, finding a couple users who created their account after 2020 looks like the following."
   ]
  },
  {
   "cell_type": "code",
   "execution_count": 65,
   "id": "c4e33b06-75bc-4d99-b5e3-39bd04bd7ace",
   "metadata": {
    "tags": []
   },
   "outputs": [
    {
     "data": {
      "text/html": [
       "<div>\n",
       "<style scoped>\n",
       "    .dataframe tbody tr th:only-of-type {\n",
       "        vertical-align: middle;\n",
       "    }\n",
       "\n",
       "    .dataframe tbody tr th {\n",
       "        vertical-align: top;\n",
       "    }\n",
       "\n",
       "    .dataframe thead th {\n",
       "        text-align: right;\n",
       "    }\n",
       "</style>\n",
       "<table border=\"1\" class=\"dataframe\">\n",
       "  <thead>\n",
       "    <tr style=\"text-align: right;\">\n",
       "      <th></th>\n",
       "      <th>id</th>\n",
       "      <th>reputation</th>\n",
       "      <th>creationdate</th>\n",
       "      <th>displayname</th>\n",
       "      <th>lastaccessdate</th>\n",
       "      <th>websiteurl</th>\n",
       "      <th>location</th>\n",
       "      <th>aboutme</th>\n",
       "      <th>views</th>\n",
       "      <th>upvotes</th>\n",
       "      <th>downvotes</th>\n",
       "      <th>profileimageurl</th>\n",
       "      <th>age</th>\n",
       "      <th>accountid</th>\n",
       "      <th>jsonfield</th>\n",
       "    </tr>\n",
       "  </thead>\n",
       "  <tbody>\n",
       "    <tr>\n",
       "      <th>0</th>\n",
       "      <td>10125</td>\n",
       "      <td>11</td>\n",
       "      <td>2020-03-02 16:43:11.310</td>\n",
       "      <td>David</td>\n",
       "      <td>2020-03-02 17:37:25.600</td>\n",
       "      <td>None</td>\n",
       "      <td>None</td>\n",
       "      <td>None</td>\n",
       "      <td>0</td>\n",
       "      <td>0</td>\n",
       "      <td>0</td>\n",
       "      <td>None</td>\n",
       "      <td>None</td>\n",
       "      <td>17887353</td>\n",
       "      <td>None</td>\n",
       "    </tr>\n",
       "    <tr>\n",
       "      <th>1</th>\n",
       "      <td>11428</td>\n",
       "      <td>1</td>\n",
       "      <td>2020-07-03 00:53:08.707</td>\n",
       "      <td>binarystone</td>\n",
       "      <td>2020-07-03 00:53:08.707</td>\n",
       "      <td>None</td>\n",
       "      <td>None</td>\n",
       "      <td>None</td>\n",
       "      <td>0</td>\n",
       "      <td>0</td>\n",
       "      <td>0</td>\n",
       "      <td>https://i.stack.imgur.com/nmcUe.png</td>\n",
       "      <td>None</td>\n",
       "      <td>18972238</td>\n",
       "      <td>None</td>\n",
       "    </tr>\n",
       "  </tbody>\n",
       "</table>\n",
       "</div>"
      ],
      "text/plain": [
       "      id  reputation            creationdate  displayname  \\\n",
       "0  10125          11 2020-03-02 16:43:11.310        David   \n",
       "1  11428           1 2020-07-03 00:53:08.707  binarystone   \n",
       "\n",
       "           lastaccessdate websiteurl location aboutme  views  upvotes  \\\n",
       "0 2020-03-02 17:37:25.600       None     None    None      0        0   \n",
       "1 2020-07-03 00:53:08.707       None     None    None      0        0   \n",
       "\n",
       "   downvotes                      profileimageurl   age  accountid jsonfield  \n",
       "0          0                                 None  None   17887353      None  \n",
       "1          0  https://i.stack.imgur.com/nmcUe.png  None   18972238      None  "
      ]
     },
     "execution_count": 65,
     "metadata": {},
     "output_type": "execute_result"
    }
   ],
   "source": [
    "pd.read_sql(\"\"\"select * from users where users.creationdate > '2020-01-01' limit 2\"\"\", engine)"
   ]
  },
  {
   "cell_type": "markdown",
   "id": "e2f5752a-26d1-4c15-9feb-8bcc4c9e4638",
   "metadata": {},
   "source": [
    "## Connecting with SQLite"
   ]
  },
  {
   "cell_type": "markdown",
   "id": "a00c7fb3-a2f2-4e3f-97c0-afb9971a8e70",
   "metadata": {},
   "source": [
    "> Run if the above did not work."
   ]
  },
  {
   "cell_type": "code",
   "execution_count": 3,
   "id": "21289146-0105-43ed-99e1-791c17c4ebd6",
   "metadata": {
    "tags": []
   },
   "outputs": [],
   "source": [
    "import sqlite3\n",
    "conn = sqlite3.connect('stackexchange.db')\n",
    "cursor = conn.cursor()"
   ]
  },
  {
   "cell_type": "code",
   "execution_count": 4,
   "id": "442b05b9-2305-4e45-be6f-712f84880190",
   "metadata": {
    "tags": []
   },
   "outputs": [],
   "source": [
    "import pandas as pd\n",
    "root_url = \"https://raw.githubusercontent.com/sql-fundamentals-jigsaw/mod-1-sql-curriculum/master/5-stackexchange/data/\"\n",
    "names = ['users', 'comments', 'posts', 'votes']\n",
    "loaded_dfs = [pd.read_csv(f'{root_url}{name}.csv') for name in names]"
   ]
  },
  {
   "cell_type": "code",
   "execution_count": 6,
   "id": "9c368325-da4e-4da5-a472-06382980f232",
   "metadata": {
    "tags": []
   },
   "outputs": [],
   "source": [
    "for index, name in enumerate(names):\n",
    "    loaded_dfs[index].to_sql(f'{name}', conn, index = False, if_exists = 'replace')"
   ]
  },
  {
   "cell_type": "code",
   "execution_count": 8,
   "id": "29bc7059-a51d-4837-8ac5-35556e7a6cab",
   "metadata": {
    "tags": []
   },
   "outputs": [
    {
     "data": {
      "text/html": [
       "<div>\n",
       "<style scoped>\n",
       "    .dataframe tbody tr th:only-of-type {\n",
       "        vertical-align: middle;\n",
       "    }\n",
       "\n",
       "    .dataframe tbody tr th {\n",
       "        vertical-align: top;\n",
       "    }\n",
       "\n",
       "    .dataframe thead th {\n",
       "        text-align: right;\n",
       "    }\n",
       "</style>\n",
       "<table border=\"1\" class=\"dataframe\">\n",
       "  <thead>\n",
       "    <tr style=\"text-align: right;\">\n",
       "      <th></th>\n",
       "      <th>id</th>\n",
       "      <th>reputation</th>\n",
       "      <th>creationdate</th>\n",
       "      <th>displayname</th>\n",
       "      <th>lastaccessdate</th>\n",
       "      <th>websiteurl</th>\n",
       "      <th>location</th>\n",
       "      <th>aboutme</th>\n",
       "      <th>views</th>\n",
       "      <th>upvotes</th>\n",
       "      <th>downvotes</th>\n",
       "      <th>profileimageurl</th>\n",
       "      <th>age</th>\n",
       "      <th>accountid</th>\n",
       "      <th>jsonfield</th>\n",
       "    </tr>\n",
       "  </thead>\n",
       "  <tbody>\n",
       "    <tr>\n",
       "      <th>0</th>\n",
       "      <td>10125</td>\n",
       "      <td>11</td>\n",
       "      <td>2020-03-02 16:43:11.31</td>\n",
       "      <td>David</td>\n",
       "      <td>2020-03-02 17:37:25.6</td>\n",
       "      <td>None</td>\n",
       "      <td>None</td>\n",
       "      <td>None</td>\n",
       "      <td>0</td>\n",
       "      <td>0</td>\n",
       "      <td>0</td>\n",
       "      <td>None</td>\n",
       "      <td>None</td>\n",
       "      <td>17887353</td>\n",
       "      <td>None</td>\n",
       "    </tr>\n",
       "    <tr>\n",
       "      <th>1</th>\n",
       "      <td>11428</td>\n",
       "      <td>1</td>\n",
       "      <td>2020-07-03 00:53:08.707</td>\n",
       "      <td>binarystone</td>\n",
       "      <td>2020-07-03 00:53:08.707</td>\n",
       "      <td>None</td>\n",
       "      <td>None</td>\n",
       "      <td>None</td>\n",
       "      <td>0</td>\n",
       "      <td>0</td>\n",
       "      <td>0</td>\n",
       "      <td>https://i.stack.imgur.com/nmcUe.png</td>\n",
       "      <td>None</td>\n",
       "      <td>18972238</td>\n",
       "      <td>None</td>\n",
       "    </tr>\n",
       "  </tbody>\n",
       "</table>\n",
       "</div>"
      ],
      "text/plain": [
       "      id  reputation             creationdate  displayname  \\\n",
       "0  10125          11   2020-03-02 16:43:11.31        David   \n",
       "1  11428           1  2020-07-03 00:53:08.707  binarystone   \n",
       "\n",
       "            lastaccessdate websiteurl location aboutme  views  upvotes  \\\n",
       "0    2020-03-02 17:37:25.6       None     None    None      0        0   \n",
       "1  2020-07-03 00:53:08.707       None     None    None      0        0   \n",
       "\n",
       "   downvotes                      profileimageurl   age  accountid jsonfield  \n",
       "0          0                                 None  None   17887353      None  \n",
       "1          0  https://i.stack.imgur.com/nmcUe.png  None   18972238      None  "
      ]
     },
     "execution_count": 8,
     "metadata": {},
     "output_type": "execute_result"
    }
   ],
   "source": [
    "pd.read_sql(\"\"\"select * from users \n",
    "where users.creationdate > '2020-01-01' limit 2\"\"\", conn)"
   ]
  },
  {
   "cell_type": "markdown",
   "id": "e13d38a0-c816-453a-b4a1-612f3973fe0f",
   "metadata": {},
   "source": [
    "# Exploring our tables"
   ]
  },
  {
   "cell_type": "markdown",
   "id": "5c432fcb-80cb-453a-b9d0-a6e7d55c243f",
   "metadata": {},
   "source": [
    "We have a couple of key tables.  \n",
    "* The comments table, which has a postid and a userid.\n",
    "* The posts table which has an `owneruserid` who made the post, and information like score, viewcount.\n",
    "\n",
    "Other tables to pay attention to are the posts tables, and the users table."
   ]
  },
  {
   "cell_type": "markdown",
   "id": "45594dd6-ecd4-4ee2-9e8a-4e9c445e44c7",
   "metadata": {},
   "source": [
    "### Writing our queries"
   ]
  },
  {
   "cell_type": "markdown",
   "id": "3d5dca2a-a177-4138-80ee-e78e852bb792",
   "metadata": {},
   "source": [
    "1. Begin by finding the number of users in the database that have a reputation over 100."
   ]
  },
  {
   "cell_type": "code",
   "execution_count": 11,
   "id": "fc4b5a89-9a44-4fbb-8416-e7d074751b21",
   "metadata": {
    "tags": []
   },
   "outputs": [],
   "source": [
    "query = \"\"\" \"\"\"\n",
    "# pd.read_sql(query, conn)\n",
    "\n",
    "# 3566"
   ]
  },
  {
   "cell_type": "markdown",
   "id": "911ad7a7-5149-4977-bd1a-e4fecd6b010d",
   "metadata": {},
   "source": [
    "2. Next find the top five users with the highest average scores, and only include those users who have made more than 10 comments.  Display each user's displayname in the result."
   ]
  },
  {
   "cell_type": "code",
   "execution_count": 37,
   "id": "b8d9b427-3964-419e-9bc5-4f1b530c5065",
   "metadata": {
    "tags": []
   },
   "outputs": [
    {
     "data": {
      "text/html": [
       "<div>\n",
       "<style scoped>\n",
       "    .dataframe tbody tr th:only-of-type {\n",
       "        vertical-align: middle;\n",
       "    }\n",
       "\n",
       "    .dataframe tbody tr th {\n",
       "        vertical-align: top;\n",
       "    }\n",
       "\n",
       "    .dataframe thead th {\n",
       "        text-align: right;\n",
       "    }\n",
       "</style>\n",
       "<table border=\"1\" class=\"dataframe\">\n",
       "  <thead>\n",
       "    <tr style=\"text-align: right;\">\n",
       "      <th></th>\n",
       "      <th>displayname</th>\n",
       "      <th>avg_score</th>\n",
       "    </tr>\n",
       "  </thead>\n",
       "  <tbody>\n",
       "    <tr>\n",
       "      <th>0</th>\n",
       "      <td>user23614</td>\n",
       "      <td>2.727273</td>\n",
       "    </tr>\n",
       "    <tr>\n",
       "      <th>1</th>\n",
       "      <td>wax eagle</td>\n",
       "      <td>1.315789</td>\n",
       "    </tr>\n",
       "    <tr>\n",
       "      <th>2</th>\n",
       "      <td>user505255</td>\n",
       "      <td>1.307692</td>\n",
       "    </tr>\n",
       "    <tr>\n",
       "      <th>3</th>\n",
       "      <td>Lucas Kauffman</td>\n",
       "      <td>1.117647</td>\n",
       "    </tr>\n",
       "    <tr>\n",
       "      <th>4</th>\n",
       "      <td>Fishtoaster</td>\n",
       "      <td>1.047619</td>\n",
       "    </tr>\n",
       "  </tbody>\n",
       "</table>\n",
       "</div>"
      ],
      "text/plain": [
       "      displayname  avg_score\n",
       "0       user23614   2.727273\n",
       "1       wax eagle   1.315789\n",
       "2      user505255   1.307692\n",
       "3  Lucas Kauffman   1.117647\n",
       "4     Fishtoaster   1.047619"
      ]
     },
     "execution_count": 37,
     "metadata": {},
     "output_type": "execute_result"
    }
   ],
   "source": [
    "pd.read_sql(\"\"\"\n",
    "\"\"\", conn)\n",
    "# displayname\tavg_score\n",
    "# 0\tuser23614\t2.727273\n",
    "# 1\twax eagle\t1.315789\n",
    "# 2\tuser505255\t1.307692\n",
    "# 3\tLucas Kauffman\t1.117647\n",
    "# 4\tFishtoaster\t1.047619"
   ]
  },
  {
   "cell_type": "markdown",
   "id": "3211f91e-e501-4d1a-9983-17c2edcb12ab",
   "metadata": {},
   "source": [
    "3. Next look at the posts table.  Find the `owneruserid`s of those users with the top five average scores, and include the average score.  Only consider those posts where the owneruser created their account after `'2019-01-01'`, and only include posts whose owneruser who had more than five posts. "
   ]
  },
  {
   "cell_type": "code",
   "execution_count": 54,
   "id": "fff61d1a-af30-4912-b93b-7b91fa3ff7ad",
   "metadata": {
    "tags": []
   },
   "outputs": [
    {
     "data": {
      "text/html": [
       "<div>\n",
       "<style scoped>\n",
       "    .dataframe tbody tr th:only-of-type {\n",
       "        vertical-align: middle;\n",
       "    }\n",
       "\n",
       "    .dataframe tbody tr th {\n",
       "        vertical-align: top;\n",
       "    }\n",
       "\n",
       "    .dataframe thead th {\n",
       "        text-align: right;\n",
       "    }\n",
       "</style>\n",
       "<table border=\"1\" class=\"dataframe\">\n",
       "  <thead>\n",
       "    <tr style=\"text-align: right;\">\n",
       "      <th></th>\n",
       "      <th>owneruserid</th>\n",
       "      <th>avg_score</th>\n",
       "    </tr>\n",
       "  </thead>\n",
       "  <tbody>\n",
       "    <tr>\n",
       "      <th>0</th>\n",
       "      <td>8506</td>\n",
       "      <td>4.333333</td>\n",
       "    </tr>\n",
       "    <tr>\n",
       "      <th>1</th>\n",
       "      <td>8518</td>\n",
       "      <td>3.068966</td>\n",
       "    </tr>\n",
       "    <tr>\n",
       "      <th>2</th>\n",
       "      <td>14432</td>\n",
       "      <td>2.875000</td>\n",
       "    </tr>\n",
       "    <tr>\n",
       "      <th>3</th>\n",
       "      <td>11663</td>\n",
       "      <td>2.714286</td>\n",
       "    </tr>\n",
       "    <tr>\n",
       "      <th>4</th>\n",
       "      <td>8672</td>\n",
       "      <td>2.200000</td>\n",
       "    </tr>\n",
       "  </tbody>\n",
       "</table>\n",
       "</div>"
      ],
      "text/plain": [
       "   owneruserid  avg_score\n",
       "0         8506   4.333333\n",
       "1         8518   3.068966\n",
       "2        14432   2.875000\n",
       "3        11663   2.714286\n",
       "4         8672   2.200000"
      ]
     },
     "execution_count": 54,
     "metadata": {},
     "output_type": "execute_result"
    }
   ],
   "source": [
    "pd.read_sql(\"\"\"\n",
    "\"\"\", conn)\n",
    "\n",
    "# \towneruserid\tavg_score\n",
    "# 0\t8506\t4.333333\n",
    "# 1\t8518\t3.068966\n",
    "# 2\t14432\t2.875000\n",
    "# 3\t11663\t2.714286\n",
    "# 4\t8672\t2.200000"
   ]
  },
  {
   "cell_type": "markdown",
   "id": "fd741a9e-abc3-4c9b-af44-b8f5edcb25f6",
   "metadata": {},
   "source": [
    "4. Next find the number of users who have not made a comment."
   ]
  },
  {
   "cell_type": "code",
   "execution_count": 57,
   "id": "f8d50a00-ba46-46b1-890a-58c0314d40c5",
   "metadata": {
    "tags": []
   },
   "outputs": [
    {
     "data": {
      "text/html": [
       "<div>\n",
       "<style scoped>\n",
       "    .dataframe tbody tr th:only-of-type {\n",
       "        vertical-align: middle;\n",
       "    }\n",
       "\n",
       "    .dataframe tbody tr th {\n",
       "        vertical-align: top;\n",
       "    }\n",
       "\n",
       "    .dataframe thead th {\n",
       "        text-align: right;\n",
       "    }\n",
       "</style>\n",
       "<table border=\"1\" class=\"dataframe\">\n",
       "  <thead>\n",
       "    <tr style=\"text-align: right;\">\n",
       "      <th></th>\n",
       "      <th>count</th>\n",
       "    </tr>\n",
       "  </thead>\n",
       "  <tbody>\n",
       "    <tr>\n",
       "      <th>0</th>\n",
       "      <td>8575</td>\n",
       "    </tr>\n",
       "  </tbody>\n",
       "</table>\n",
       "</div>"
      ],
      "text/plain": [
       "   count\n",
       "0   8575"
      ]
     },
     "execution_count": 57,
     "metadata": {},
     "output_type": "execute_result"
    }
   ],
   "source": [
    "pd.read_sql(\"\"\"\n",
    "\"\"\", conn)\n",
    "\n",
    "# \tcount\n",
    "# 0\t8575"
   ]
  },
  {
   "cell_type": "markdown",
   "id": "a7a2a6da-7f32-4497-87ec-a39a827c3cde",
   "metadata": {},
   "source": [
    "5. Finally, find the percentage of users who have not made a comment."
   ]
  },
  {
   "cell_type": "code",
   "execution_count": 61,
   "id": "bb19c267-7179-4079-8ade-f4a22e18a68c",
   "metadata": {
    "tags": []
   },
   "outputs": [
    {
     "data": {
      "text/html": [
       "<div>\n",
       "<style scoped>\n",
       "    .dataframe tbody tr th:only-of-type {\n",
       "        vertical-align: middle;\n",
       "    }\n",
       "\n",
       "    .dataframe tbody tr th {\n",
       "        vertical-align: top;\n",
       "    }\n",
       "\n",
       "    .dataframe thead th {\n",
       "        text-align: right;\n",
       "    }\n",
       "</style>\n",
       "<table border=\"1\" class=\"dataframe\">\n",
       "  <thead>\n",
       "    <tr style=\"text-align: right;\">\n",
       "      <th></th>\n",
       "      <th>users_without_comment</th>\n",
       "    </tr>\n",
       "  </thead>\n",
       "  <tbody>\n",
       "    <tr>\n",
       "      <th>0</th>\n",
       "      <td>0.687099</td>\n",
       "    </tr>\n",
       "  </tbody>\n",
       "</table>\n",
       "</div>"
      ],
      "text/plain": [
       "   users_without_comment\n",
       "0               0.687099"
      ]
     },
     "execution_count": 72,
     "metadata": {},
     "output_type": "execute_result"
    }
   ],
   "source": [
    "pd.read_sql(\"\"\"\n",
    "\"\"\", conn)\n",
    "\n",
    "# users_without_comment\n",
    "# 0\t0.687099\n"
   ]
  },
  {
   "cell_type": "code",
   "execution_count": null,
   "id": "75e46058-260e-4176-9960-a4c68fbdaa66",
   "metadata": {},
   "outputs": [],
   "source": []
  }
 ],
 "metadata": {
  "kernelspec": {
   "display_name": "Python 3 (ipykernel)",
   "language": "python",
   "name": "python3"
  },
  "language_info": {
   "codemirror_mode": {
    "name": "ipython",
    "version": 3
   },
   "file_extension": ".py",
   "mimetype": "text/x-python",
   "name": "python",
   "nbconvert_exporter": "python",
   "pygments_lexer": "ipython3",
   "version": "3.10.9"
  }
 },
 "nbformat": 4,
 "nbformat_minor": 5
}
