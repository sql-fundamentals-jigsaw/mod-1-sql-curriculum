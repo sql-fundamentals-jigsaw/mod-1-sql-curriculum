{
 "cells": [
  {
   "cell_type": "markdown",
   "metadata": {},
   "source": [
    "# Selecting with SQL "
   ]
  },
  {
   "cell_type": "markdown",
   "metadata": {},
   "source": [
    "### Introduction"
   ]
  },
  {
   "cell_type": "markdown",
   "metadata": {},
   "source": [
    "Now that we have seen how to create and populate some tables in our database, it's time to learn how to query our data.  As data scientists, querying data is the most useful skill we'll have.  Let's get to it."
   ]
  },
  {
   "cell_type": "markdown",
   "metadata": {},
   "source": [
    "### Setting up our Data"
   ]
  },
  {
   "cell_type": "code",
   "execution_count": 20,
   "metadata": {},
   "outputs": [],
   "source": [
    "import pandas as pd"
   ]
  },
  {
   "cell_type": "code",
   "execution_count": 21,
   "metadata": {},
   "outputs": [],
   "source": [
    "import sqlite3"
   ]
  },
  {
   "cell_type": "code",
   "execution_count": 22,
   "metadata": {},
   "outputs": [],
   "source": [
    "conn = sqlite3.connect('mean_green.db')"
   ]
  },
  {
   "cell_type": "markdown",
   "metadata": {},
   "source": [
    "Now that we've created our table, let's insert some data."
   ]
  },
  {
   "cell_type": "code",
   "execution_count": 1,
   "metadata": {},
   "outputs": [],
   "source": [
    "url = \"https://raw.githubusercontent.com/eng-6-22/mod-1-sql-curriculum/master/1-sql-fundamentals/7-sql-select/employees.csv\""
   ]
  },
  {
   "cell_type": "code",
   "execution_count": 24,
   "metadata": {},
   "outputs": [],
   "source": [
    "df = pd.read_csv(url)"
   ]
  },
  {
   "cell_type": "code",
   "execution_count": 25,
   "metadata": {},
   "outputs": [],
   "source": [
    "df.to_sql('employees', conn, index = False)"
   ]
  },
  {
   "cell_type": "markdown",
   "metadata": {},
   "source": [
    "Let's get started by setting up our data."
   ]
  },
  {
   "cell_type": "markdown",
   "metadata": {},
   "source": [
    "Above we called the `execute` method to insert the data.  But, because inserting data changes our database, we need to tell sqlite3 that we are certain we want to do this, by then `committing` our command."
   ]
  },
  {
   "cell_type": "markdown",
   "metadata": {},
   "source": [
    "### Selecting All Data"
   ]
  },
  {
   "cell_type": "markdown",
   "metadata": {},
   "source": [
    "With tables created, and data inserted, it's now time to select our data.  We retreive data from our database with a SQL select statement.  Now SELECT statements can become increasingly more complex, but let's start with our simplest select statement."
   ]
  },
  {
   "cell_type": "markdown",
   "metadata": {},
   "source": [
    "```sql\n",
    "SELECT * FROM employees;\n",
    "```"
   ]
  },
  {
   "cell_type": "markdown",
   "metadata": {},
   "source": [
    "To execute this SQL statement with Python we do the following: "
   ]
  },
  {
   "cell_type": "code",
   "execution_count": 27,
   "metadata": {},
   "outputs": [],
   "source": [
    "cursor = conn.cursor()"
   ]
  },
  {
   "cell_type": "code",
   "execution_count": 28,
   "metadata": {},
   "outputs": [
    {
     "data": {
      "text/plain": [
       "[(1, 'fred', '555-333-4444', 10001, '8/17/1990'),\n",
       " (2, 'bob', '555-331-4444', 10002, '3/22/1992'),\n",
       " (3, 'sally', '555-332-4444', 10001, '6/22/1991')]"
      ]
     },
     "execution_count": 28,
     "metadata": {},
     "output_type": "execute_result"
    }
   ],
   "source": [
    "cursor.execute('SELECT * FROM employees;')\n",
    "cursor.fetchall()\n",
    "# [(None, 'fred', '555-333-4444', '10001', '8/17/1990'),\n",
    "#  (None, 'bob', '555-331-4444', '10002', '3/22/1992'),\n",
    "#  (None, 'sally', '555-332-4444', '10001', '6/22/1991')]"
   ]
  },
  {
   "cell_type": "markdown",
   "metadata": {},
   "source": [
    "So we can see what this does.  The statement selects all of the rows, and all of the columns from our employees table.  And we did this with the line: \n",
    "\n",
    "```sql\n",
    "SELECT * FROM employees;\n",
    "```"
   ]
  },
  {
   "cell_type": "markdown",
   "metadata": {},
   "source": [
    "So now let's break this statement down.  We begin each query with the SQL keyword `SELECT`.  Then if we would like to return all of the columns in each row, we follow SELECT with a `*`.  Finally, we indicate which table we should select these rows from with the `FROM table_name`.  Here our table name is employees.  So to select all of the columns and all of the rows from a table the pattern is:"
   ]
  },
  {
   "cell_type": "markdown",
   "metadata": {},
   "source": [
    "```sql\n",
    "SELECT * FROM table_name;\n",
    "```"
   ]
  },
  {
   "cell_type": "markdown",
   "metadata": {},
   "source": [
    "### Selecting specific columns"
   ]
  },
  {
   "cell_type": "markdown",
   "metadata": {},
   "source": [
    "Now that we've seen how to select *all* of the data from a table, let's see how to limit the data that we select.  Let's say that we would like to retrieve just the name from a customer."
   ]
  },
  {
   "cell_type": "code",
   "execution_count": 69,
   "metadata": {},
   "outputs": [
    {
     "data": {
      "text/plain": [
       "[('fred',), ('bob',), ('sally',)]"
      ]
     },
     "execution_count": 69,
     "metadata": {},
     "output_type": "execute_result"
    }
   ],
   "source": [
    "sql_select_name = 'SELECT name FROM employees;'\n",
    "cursor.execute(sql_select_name)\n",
    "cursor.fetchall()\n",
    "# [('fred',), ('bob',), ('sally',)]"
   ]
  },
  {
   "cell_type": "markdown",
   "metadata": {},
   "source": [
    "> So above, we changed `SELECT *`, which selects all of the columns, to `SELECT name` to only retrieve the name from each row."
   ]
  },
  {
   "cell_type": "markdown",
   "metadata": {},
   "source": [
    "Now let's select just the phone number and the zip code."
   ]
  },
  {
   "cell_type": "code",
   "execution_count": 70,
   "metadata": {},
   "outputs": [
    {
     "data": {
      "text/plain": [
       "[('555-333-4444', '10001'),\n",
       " ('555-331-4444', '10002'),\n",
       " ('555-332-4444', '10001')]"
      ]
     },
     "execution_count": 70,
     "metadata": {},
     "output_type": "execute_result"
    }
   ],
   "source": [
    "sql_select_name = 'SELECT phone_number, zipcode FROM employees;'\n",
    "cursor.execute(sql_select_name)\n",
    "cursor.fetchall()\n",
    "# [('555-333-4444', '10001'),\n",
    "#  ('555-331-4444', '10002'),\n",
    "#  ('555-332-4444', '10001')]"
   ]
  },
  {
   "cell_type": "markdown",
   "metadata": {},
   "source": [
    "> So above we can see that if we would like to select more than one column from each row, we simply separate each column name by a comma."
   ]
  },
  {
   "cell_type": "markdown",
   "metadata": {},
   "source": [
    "And once again if we would like to select all of the columns, we replace the column names with `*`."
   ]
  },
  {
   "cell_type": "code",
   "execution_count": 71,
   "metadata": {},
   "outputs": [
    {
     "data": {
      "text/plain": [
       "[(None, 'fred', '555-333-4444', '10001', '8/17/1990'),\n",
       " (None, 'bob', '555-331-4444', '10002', '3/22/1992'),\n",
       " (None, 'sally', '555-332-4444', '10001', '6/22/1991')]"
      ]
     },
     "execution_count": 71,
     "metadata": {},
     "output_type": "execute_result"
    }
   ],
   "source": [
    "sql_select_name = 'SELECT * FROM employees;'\n",
    "cursor.execute(sql_select_name)\n",
    "cursor.fetchall()\n",
    "\n",
    "# [(None, 'fred', '555-333-4444', '10001', '8/17/1990'),\n",
    "#  (None, 'bob', '555-331-4444', '10002', '3/22/1992'),\n",
    "#  (None, 'sally', '555-332-4444', '10001', '6/22/1991')]"
   ]
  },
  {
   "cell_type": "markdown",
   "metadata": {},
   "source": [
    "## Selecting specific rows"
   ]
  },
  {
   "cell_type": "markdown",
   "metadata": {},
   "source": [
    "So above we saw how to specify which columns we would like to retrieve.  What if we would like to specify the rows.  Well, to do this we tell SQL to only select rows that match a specific criteria.  For example, below we tell SQL to only return the rows that have a name of `fred`."
   ]
  },
  {
   "cell_type": "code",
   "execution_count": 72,
   "metadata": {},
   "outputs": [
    {
     "data": {
      "text/plain": [
       "[(None, 'fred', '555-333-4444', '10001', '8/17/1990')]"
      ]
     },
     "execution_count": 72,
     "metadata": {},
     "output_type": "execute_result"
    }
   ],
   "source": [
    "sql_select_name = \"SELECT * FROM employees WHERE name = 'fred';\"\n",
    "cursor.execute(sql_select_name)\n",
    "cursor.fetchall()\n",
    "\n",
    "# [(None, 'fred', '555-333-4444', '10001', '8/17/1990')]"
   ]
  },
  {
   "cell_type": "markdown",
   "metadata": {},
   "source": [
    "So we asked SQL to select all of the columns, and all of the rows where the name column equals \"fred\".  Above we said that we want to match the entire string, 'fred'.  Let's do one more where we select all that match a specified zip code."
   ]
  },
  {
   "cell_type": "code",
   "execution_count": 73,
   "metadata": {},
   "outputs": [
    {
     "data": {
      "text/plain": [
       "[(None, 'fred', '555-333-4444', '10001', '8/17/1990'),\n",
       " (None, 'sally', '555-332-4444', '10001', '6/22/1991')]"
      ]
     },
     "execution_count": 73,
     "metadata": {},
     "output_type": "execute_result"
    }
   ],
   "source": [
    "sql_select_name = \"SELECT * FROM employees WHERE zipcode = '10001';\"\n",
    "cursor.execute(sql_select_name)\n",
    "cursor.fetchall()\n",
    "\n",
    "# [(None, 'fred', '555-333-4444', '10001', '8/17/1990'),\n",
    "#  (None, 'sally', '555-332-4444', '10001', '6/22/1991')]"
   ]
  },
  {
   "cell_type": "markdown",
   "metadata": {},
   "source": [
    "So here we can see that only the two rows that have a zip code of `10001` are a match.  Now if we only want to return the names of employees in the zip code of `10001` we do the following:"
   ]
  },
  {
   "cell_type": "code",
   "execution_count": 74,
   "metadata": {},
   "outputs": [
    {
     "data": {
      "text/plain": [
       "[('fred',), ('sally',)]"
      ]
     },
     "execution_count": 74,
     "metadata": {},
     "output_type": "execute_result"
    }
   ],
   "source": [
    "sql_select_name = \"SELECT name FROM employees WHERE zipcode = '10001';\"\n",
    "cursor.execute(sql_select_name)\n",
    "cursor.fetchall()\n",
    "\n",
    "# [('fred',), ('sally',)]"
   ]
  },
  {
   "cell_type": "markdown",
   "metadata": {},
   "source": [
    "So here let's think about how this SQL statement worked.  SQL went to the `employees` table, and found each of the rows with a matching zipcode column of `10001`, and then from each of those matching rows, returned the column of `name`. "
   ]
  },
  {
   "cell_type": "markdown",
   "metadata": {},
   "source": [
    "### Complex Where Statements"
   ]
  },
  {
   "cell_type": "markdown",
   "metadata": {},
   "source": [
    "Finally, let's tack onto our WHERE statements by adding some logic to them with AND and OR statements.  These work as we would expect."
   ]
  },
  {
   "cell_type": "markdown",
   "metadata": {},
   "source": [
    "With an `AND` statement, SQL will return the rows that match **all** of the specified criteria."
   ]
  },
  {
   "cell_type": "code",
   "execution_count": 78,
   "metadata": {},
   "outputs": [
    {
     "data": {
      "text/plain": [
       "[(None, 'fred', '555-333-4444', '10001', '8/17/1990')]"
      ]
     },
     "execution_count": 78,
     "metadata": {},
     "output_type": "execute_result"
    }
   ],
   "source": [
    "sql_select_name = \"SELECT * FROM employees WHERE zipcode = '10001' AND name = 'fred';\"\n",
    "cursor.execute(sql_select_name)\n",
    "cursor.fetchall()"
   ]
  },
  {
   "cell_type": "code",
   "execution_count": 79,
   "metadata": {},
   "outputs": [
    {
     "data": {
      "text/plain": [
       "[]"
      ]
     },
     "execution_count": 79,
     "metadata": {},
     "output_type": "execute_result"
    }
   ],
   "source": [
    "sql_select_name = \"SELECT * FROM employees WHERE zipcode = '10002' AND name = 'fred';\"\n",
    "cursor.execute(sql_select_name)\n",
    "cursor.fetchall()"
   ]
  },
  {
   "cell_type": "markdown",
   "metadata": {},
   "source": [
    "And with an or statement, SQL returns the rows that match **any** of the specified criteria. "
   ]
  },
  {
   "cell_type": "code",
   "execution_count": 80,
   "metadata": {},
   "outputs": [
    {
     "data": {
      "text/plain": [
       "[(None, 'fred', '555-333-4444', '10001', '8/17/1990'),\n",
       " (None, 'bob', '555-331-4444', '10002', '3/22/1992')]"
      ]
     },
     "execution_count": 80,
     "metadata": {},
     "output_type": "execute_result"
    }
   ],
   "source": [
    "sql_select_name = \"SELECT * FROM employees WHERE zipcode = '10002' OR name = 'fred';\"\n",
    "cursor.execute(sql_select_name)\n",
    "cursor.fetchall()\n",
    "\n",
    "# [(None, 'fred', '555-333-4444', '10001', '8/17/1990'),\n",
    "#  (None, 'bob', '555-331-4444', '10002', '3/22/1992')]"
   ]
  },
  {
   "cell_type": "markdown",
   "metadata": {},
   "source": [
    "So above, we return fred's row as the name `fred` is matched, and we return bob's row, as bob is in zipcode `10002`."
   ]
  },
  {
   "cell_type": "markdown",
   "metadata": {},
   "source": [
    "### Summary"
   ]
  },
  {
   "cell_type": "markdown",
   "metadata": {},
   "source": [
    "In this lesson we saw how to query a table with SELECT statements.  We saw that a select statement follows the pattern of: "
   ]
  },
  {
   "cell_type": "markdown",
   "metadata": {},
   "source": [
    "```sql\n",
    "SELECT columns FROM table_name WHERE column_name = criteria\n",
    "```"
   ]
  },
  {
   "cell_type": "markdown",
   "metadata": {},
   "source": [
    "**Selecting Columns**\n",
    "\n",
    "If we would like to select all columns from matching rows, we use: \n",
    "\n",
    "`SELECT * FROM table_name`.  \n",
    "And, if we would like to select multiple columns from matching rows, we use a comma separated list like:\n",
    "\n",
    "`SELECT column_name, column_name from table_name`"
   ]
  },
  {
   "cell_type": "markdown",
   "metadata": {},
   "source": [
    "**Selecting Rows**\n",
    "\n",
    "We select specific rows with a WHERE statement where we specify what columns match specific criteria.  For example: \n",
    "\n",
    "`SELECT * FROM table_name WHERE column_name = criteria`"
   ]
  },
  {
   "cell_type": "markdown",
   "metadata": {},
   "source": [
    "Finally, we can select multiple criteria with an `AND` or `OR` clause, like the following:  \n",
    "\n",
    "`SELECT columns FROM table_name WHERE column_name = criteria OR column_name = criteria`"
   ]
  }
 ],
 "metadata": {
  "kernelspec": {
   "display_name": "Python 3 (ipykernel)",
   "language": "python",
   "name": "python3"
  },
  "language_info": {
   "codemirror_mode": {
    "name": "ipython",
    "version": 3
   },
   "file_extension": ".py",
   "mimetype": "text/x-python",
   "name": "python",
   "nbconvert_exporter": "python",
   "pygments_lexer": "ipython3",
   "version": "3.9.12"
  }
 },
 "nbformat": 4,
 "nbformat_minor": 4
}
