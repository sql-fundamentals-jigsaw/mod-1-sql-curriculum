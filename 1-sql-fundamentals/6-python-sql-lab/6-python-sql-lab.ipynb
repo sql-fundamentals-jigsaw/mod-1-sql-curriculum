{
 "cells": [
  {
   "cell_type": "markdown",
   "metadata": {},
   "source": [
    "# Python SQL Lab"
   ]
  },
  {
   "cell_type": "markdown",
   "metadata": {
    "jp-MarkdownHeadingCollapsed": true,
    "tags": []
   },
   "source": [
    "### Introduction\n",
    "In this lab we will practice using the *Python library* called `sqlite3` to execute our SQL calls. This library makes it easy for us to connect to and analyze data in a SQL database within a Python environment. We'll start out by setting up the database in the terminal as we have previously, then we will use the `sqlite3` library set up a connection with the library, create a cursor to call different sql commands, and then execute some sql statements using the cursor."
   ]
  },
  {
   "cell_type": "markdown",
   "metadata": {},
   "source": [
    "### Setup"
   ]
  },
  {
   "cell_type": "markdown",
   "metadata": {},
   "source": [
    "We can do so by pressing shift + return on the following cells.  \n",
    "> Let's not try to understand the setup below right now."
   ]
  },
  {
   "cell_type": "code",
   "execution_count": 1,
   "metadata": {},
   "outputs": [],
   "source": [
    "import pandas as pd\n",
    "employees_url = \"https://raw.githubusercontent.com/eng-6-22/mod-1-sql-curriculum/master/1-sql-fundamentals/6-python-sql-lab/employees.csv\"\n",
    "employees_df = pd.read_csv(employees_url)\n",
    "ingredients_url = \"https://raw.githubusercontent.com/eng-6-22/mod-1-sql-curriculum/master/1-sql-fundamentals/6-python-sql-lab/ingredients.csv\"\n",
    "ingredients_df = pd.read_csv(ingredients_url)"
   ]
  },
  {
   "cell_type": "code",
   "execution_count": null,
   "metadata": {},
   "outputs": [],
   "source": [
    "import sqlite3\n",
    "conn = sqlite3.connect('./saladshop.db')"
   ]
  },
  {
   "cell_type": "code",
   "execution_count": null,
   "metadata": {},
   "outputs": [],
   "source": [
    "employees_df.to_sql('employees', conn, index = False)"
   ]
  },
  {
   "cell_type": "code",
   "execution_count": null,
   "metadata": {},
   "outputs": [],
   "source": [
    "ingredients_df.to_sql('ingredients', conn, index = False)"
   ]
  },
  {
   "cell_type": "markdown",
   "metadata": {},
   "source": [
    "### Getting our library ready"
   ]
  },
  {
   "cell_type": "markdown",
   "metadata": {},
   "source": [
    "Ok, now that we have created the tables and loaded the data, it's time to practice using our `sqlite` library."
   ]
  },
  {
   "cell_type": "markdown",
   "metadata": {},
   "source": [
    "* First import the necessary `pip` library"
   ]
  },
  {
   "cell_type": "code",
   "execution_count": null,
   "metadata": {},
   "outputs": [],
   "source": []
  },
  {
   "cell_type": "markdown",
   "metadata": {},
   "source": [
    "* Then use the sqlite3 library to connect to the created database "
   ]
  },
  {
   "cell_type": "code",
   "execution_count": null,
   "metadata": {},
   "outputs": [],
   "source": []
  },
  {
   "cell_type": "markdown",
   "metadata": {},
   "source": [
    "Finally, create a cursor so that we are ready to call different sql commands on our database."
   ]
  },
  {
   "cell_type": "code",
   "execution_count": null,
   "metadata": {},
   "outputs": [],
   "source": []
  },
  {
   "cell_type": "markdown",
   "metadata": {},
   "source": [
    "### Executing sql"
   ]
  },
  {
   "cell_type": "markdown",
   "metadata": {},
   "source": [
    "Use the sqlite3 python library to select all of the employees in the database."
   ]
  },
  {
   "cell_type": "code",
   "execution_count": null,
   "metadata": {},
   "outputs": [],
   "source": [
    "statement = 'SELECT * FROM employees;'"
   ]
  },
  {
   "cell_type": "markdown",
   "metadata": {},
   "source": [
    "Run the command in the cell below. It should return the employees table. \n",
    "\n",
    "> Hint: This requires two commands, one using `cursor.execute()` followed by `cursor.fetchall()`"
   ]
  },
  {
   "cell_type": "code",
   "execution_count": null,
   "metadata": {},
   "outputs": [],
   "source": []
  },
  {
   "cell_type": "markdown",
   "metadata": {},
   "source": [
    "Use the `sqlite3` python library to select all of the ingredients in the database."
   ]
  },
  {
   "cell_type": "code",
   "execution_count": null,
   "metadata": {},
   "outputs": [],
   "source": [
    "statement = 'SELECT * FROM ingredients'"
   ]
  },
  {
   "cell_type": "markdown",
   "metadata": {},
   "source": [
    "Run the command in the cell below. It should return the data in the ingredients table."
   ]
  },
  {
   "cell_type": "code",
   "execution_count": null,
   "metadata": {},
   "outputs": [],
   "source": []
  },
  {
   "cell_type": "markdown",
   "metadata": {},
   "source": [
    "### Conclusion"
   ]
  },
  {
   "cell_type": "markdown",
   "metadata": {},
   "source": [
    "In this lab we focused on how we can use the python library `sqlite3` to connect with a sql database and execute sql commands. First, we created a connection with the salad shop database. We then used this connection to create a cursor object which can be used to execute sql statements. We finished off the lab by using our cursor to select all the data from the two tables in our database."
   ]
  }
 ],
 "metadata": {
  "kernelspec": {
   "display_name": "Python 3 (ipykernel)",
   "language": "python",
   "name": "python3"
  },
  "language_info": {
   "codemirror_mode": {
    "name": "ipython",
    "version": 3
   },
   "file_extension": ".py",
   "mimetype": "text/x-python",
   "name": "python",
   "nbconvert_exporter": "python",
   "pygments_lexer": "ipython3",
   "version": "3.10.6"
  }
 },
 "nbformat": 4,
 "nbformat_minor": 4
}
