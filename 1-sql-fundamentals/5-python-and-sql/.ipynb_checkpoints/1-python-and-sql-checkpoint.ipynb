{
 "cells": [
  {
   "cell_type": "markdown",
   "metadata": {},
   "source": [
    "# Python and SQL"
   ]
  },
  {
   "cell_type": "markdown",
   "metadata": {
    "tags": []
   },
   "source": [
    "### Introduction"
   ]
  },
  {
   "cell_type": "markdown",
   "metadata": {},
   "source": [
    "So far, we have learned the fundamentals of SQL by writing code in `.sql` files and executing these files in the terminal.  Now, if we would like to eventually use that data with a Python codebase, we need to change a little bit about how we operate.  \n",
    "\n",
    "Going forward, we'll use a *Python library* called `sqlite3` to execute our SQL calls, and sqlite3 will return our information in Python."
   ]
  },
  {
   "cell_type": "markdown",
   "metadata": {},
   "source": [
    "### SQL and Python"
   ]
  },
  {
   "cell_type": "markdown",
   "metadata": {},
   "source": [
    "So we'll use the Python library `sqlite3` to execute our SQL calls.  Let's set out as our first task, using the sqlite3 library to select all of the employees from our `mean_green.db` database."
   ]
  },
  {
   "cell_type": "markdown",
   "metadata": {},
   "source": [
    "So to select our employees, we will need to do the following: \n",
    "    \n",
    "1. Install the `sqlite3` Python library\n",
    "2. Then use the library to connect to our database\n",
    "3. Once connected, execute a query on our database"
   ]
  },
  {
   "cell_type": "markdown",
   "metadata": {},
   "source": [
    "Let's learn how to do each of these tasks."
   ]
  },
  {
   "cell_type": "markdown",
   "metadata": {},
   "source": [
    "### Guided by the documentation"
   ]
  },
  {
   "cell_type": "markdown",
   "metadata": {},
   "source": [
    "Our first step is to install the relevant python library with `pip install sqlite3`.  Once we do that, step one is done.\n",
    "\n",
    "So all that's left is using the library to connect to our database and then executing a query on our database.  For these steps, we can look to the [sqlite3 documentation](https://docs.python.org/2/library/sqlite3.html)."
   ]
  },
  {
   "cell_type": "markdown",
   "metadata": {},
   "source": [
    "<img src=\"./sqlite3-documentation.png\" width=\"80%\"/>"
   ]
  },
  {
   "cell_type": "markdown",
   "metadata": {},
   "source": [
    "Now, looking at the documentation, it says \"To use the module...\" we must first:\n",
    "\n",
    "> create a Connection object that represents the database."
   ]
  },
  {
   "cell_type": "markdown",
   "metadata": {},
   "source": [
    "And below we can see the code to do that.  So we simply copy and paste the code from the documentation and replace the `example.db` database with our `mean_green.db`."
   ]
  },
  {
   "cell_type": "code",
   "execution_count": 2,
   "metadata": {},
   "outputs": [],
   "source": [
    "import sqlite3\n",
    "conn = sqlite3.connect('mean_green.db')"
   ]
  },
  {
   "cell_type": "markdown",
   "metadata": {},
   "source": [
    "As mentioned in the documentation, this connection represents our database.  Continuing with the documentation, we next need to create a `cursor` object by running `conn.cursor()` and storing the return value in a variable."
   ]
  },
  {
   "cell_type": "code",
   "execution_count": 3,
   "metadata": {},
   "outputs": [],
   "source": [
    "cursor = conn.cursor()"
   ]
  },
  {
   "cell_type": "markdown",
   "metadata": {},
   "source": [
    "The cursor object is how we execute our sql statements against the connected database.  We can do this by calling the `cursor.execute` method with the related sql statement as an argument.  For example, we can do the following to create a table in our database."
   ]
  },
  {
   "cell_type": "code",
   "execution_count": 5,
   "metadata": {},
   "outputs": [],
   "source": [
    "sql = \"\"\"CREATE TABLE employees (\n",
    "    name TEXT,\n",
    "    zipcode TEXT\n",
    ");\"\"\""
   ]
  },
  {
   "cell_type": "code",
   "execution_count": 6,
   "metadata": {},
   "outputs": [
    {
     "data": {
      "text/plain": [
       "<sqlite3.Cursor at 0x106312ce0>"
      ]
     },
     "execution_count": 6,
     "metadata": {},
     "output_type": "execute_result"
    }
   ],
   "source": [
    "cursor.execute(sql)"
   ]
  },
  {
   "cell_type": "markdown",
   "metadata": {},
   "source": [
    "So above we assigned a sql string to the Python variable SQL, and executed this string by passing it as an argument to the `cursor.execute` method.  The `execute` method call just stages our create table command.  To run this command, we need to commit our staged commands. "
   ]
  },
  {
   "cell_type": "code",
   "execution_count": 8,
   "metadata": {},
   "outputs": [],
   "source": [
    "conn.commit()"
   ]
  },
  {
   "cell_type": "markdown",
   "metadata": {},
   "source": [
    "Ok, so now we have new table in our database.  We can now query this table, with the following code."
   ]
  },
  {
   "cell_type": "code",
   "execution_count": 9,
   "metadata": {},
   "outputs": [
    {
     "data": {
      "text/plain": [
       "<sqlite3.Cursor at 0x106312ce0>"
      ]
     },
     "execution_count": 9,
     "metadata": {},
     "output_type": "execute_result"
    }
   ],
   "source": [
    "cursor.execute('select * from employees;')"
   ]
  },
  {
   "cell_type": "code",
   "execution_count": 10,
   "metadata": {},
   "outputs": [
    {
     "data": {
      "text/plain": [
       "[]"
      ]
     },
     "execution_count": 10,
     "metadata": {},
     "output_type": "execute_result"
    }
   ],
   "source": [
    "cursor.fetchall()"
   ]
  },
  {
   "cell_type": "markdown",
   "metadata": {},
   "source": [
    "So `cursor.execute` was used to specify our query, and `cursor.fetchall()` returned all of the results of our query.  In this case, we have no entries in our employees table so `fetchall` returns an empty list."
   ]
  },
  {
   "cell_type": "markdown",
   "metadata": {},
   "source": [
    "So to execute code in SQL we simply use the `cursor.execute` command.  If our sql statement is a query like a select statement, we then we retrieve the results with `fetchall`.  If the sql statement changes our database, like a create table command, then we follow our `cursor.execute` method with `conn.commit` to execute the command."
   ]
  },
  {
   "cell_type": "markdown",
   "metadata": {},
   "source": [
    "### Summary"
   ]
  },
  {
   "cell_type": "markdown",
   "metadata": {},
   "source": [
    "In this lesson, we learned about how to use the `sqlite3` Python library to execute our SQL statements.  We saw that to do so, we connect to our database with `sqlite3.connect` and then use the connection object to create a cursor with `cursor = conn.cursor()`.  Now we can execute our SQL methods with `cursor.execute`.  If our sql command changes the database like, creating a table, we follow the `cursor.execute` method call with `conn.commit`.  If however, our sql command is asking questions of the database, with a select statement, we follow our `execute` method call with `cursor.fetchall` to return all of the values of that query."
   ]
  }
 ],
 "metadata": {
  "kernelspec": {
   "display_name": "Python 3 (ipykernel)",
   "language": "python",
   "name": "python3"
  },
  "language_info": {
   "codemirror_mode": {
    "name": "ipython",
    "version": 3
   },
   "file_extension": ".py",
   "mimetype": "text/x-python",
   "name": "python",
   "nbconvert_exporter": "python",
   "pygments_lexer": "ipython3",
   "version": "3.11.1"
  }
 },
 "nbformat": 4,
 "nbformat_minor": 4
}
