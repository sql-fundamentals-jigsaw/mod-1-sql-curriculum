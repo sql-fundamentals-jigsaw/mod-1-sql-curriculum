{
 "cells": [
  {
   "cell_type": "markdown",
   "metadata": {},
   "source": [
    "# Group By and Having"
   ]
  },
  {
   "cell_type": "markdown",
   "metadata": {},
   "source": [
    "### Introduction"
   ]
  },
  {
   "cell_type": "markdown",
   "metadata": {},
   "source": [
    "Now so far, when we have queried for aggregate information, we have done by asking questions about the entire table, or a single subset of the table.  For example, we could answer a question about the average rating of a restaurant in the Bronx, and then perhaps a separate query about the average restaurant rating in Queens.  But what if we'd like to organize our data into different groups based on the neighborhood, and then calculate the average rating of each group of restaurants?  For that we use group by.  "
   ]
  },
  {
   "cell_type": "markdown",
   "metadata": {},
   "source": [
    "### Working with Group By"
   ]
  },
  {
   "cell_type": "markdown",
   "metadata": {},
   "source": [
    "Let's start with that exact query.  We'll group our restaurants based on neighborhood and then calculate the average rating."
   ]
  },
  {
   "cell_type": "code",
   "execution_count": 3,
   "metadata": {},
   "outputs": [],
   "source": [
    "import pandas as pd\n",
    "import sqlite3\n",
    "\n",
    "yelp_db = sqlite3.connect('yelp.db')\n",
    "df = pd.read_csv('https://raw.githubusercontent.com/ledeprogram/courses/master/foundations/mapping/tilemill/yelp-lunch-nyc.csv')\n",
    "df.to_sql('restaurants', yelp_db)\n",
    "cursor = yelp_db.cursor()"
   ]
  },
  {
   "cell_type": "code",
   "execution_count": 5,
   "metadata": {},
   "outputs": [
    {
     "data": {
      "text/html": [
       "<div>\n",
       "<style scoped>\n",
       "    .dataframe tbody tr th:only-of-type {\n",
       "        vertical-align: middle;\n",
       "    }\n",
       "\n",
       "    .dataframe tbody tr th {\n",
       "        vertical-align: top;\n",
       "    }\n",
       "\n",
       "    .dataframe thead th {\n",
       "        text-align: right;\n",
       "    }\n",
       "</style>\n",
       "<table border=\"1\" class=\"dataframe\">\n",
       "  <thead>\n",
       "    <tr style=\"text-align: right;\">\n",
       "      <th></th>\n",
       "      <th>Name</th>\n",
       "      <th>Address</th>\n",
       "      <th>City</th>\n",
       "      <th>Category</th>\n",
       "      <th>Rating</th>\n",
       "      <th>URL</th>\n",
       "    </tr>\n",
       "  </thead>\n",
       "  <tbody>\n",
       "    <tr>\n",
       "      <th>0</th>\n",
       "      <td>Rambling House</td>\n",
       "      <td>4292 Katonah Ave</td>\n",
       "      <td>Bronx</td>\n",
       "      <td>Pubs</td>\n",
       "      <td>4.0</td>\n",
       "      <td>http://www.yelp.com/biz/rambling-house-bronx</td>\n",
       "    </tr>\n",
       "    <tr>\n",
       "      <th>1</th>\n",
       "      <td>Curry Spot</td>\n",
       "      <td>4268 Katonah Ave</td>\n",
       "      <td>Bronx</td>\n",
       "      <td>Indian</td>\n",
       "      <td>4.0</td>\n",
       "      <td>http://www.yelp.com/biz/curry-spot-bronx</td>\n",
       "    </tr>\n",
       "  </tbody>\n",
       "</table>\n",
       "</div>"
      ],
      "text/plain": [
       "             Name           Address   City Category  Rating  \\\n",
       "0  Rambling House  4292 Katonah Ave  Bronx     Pubs     4.0   \n",
       "1      Curry Spot  4268 Katonah Ave  Bronx   Indian     4.0   \n",
       "\n",
       "                                            URL  \n",
       "0  http://www.yelp.com/biz/rambling-house-bronx  \n",
       "1      http://www.yelp.com/biz/curry-spot-bronx  "
      ]
     },
     "execution_count": 5,
     "metadata": {},
     "output_type": "execute_result"
    }
   ],
   "source": [
    "df[:2]"
   ]
  },
  {
   "cell_type": "code",
   "execution_count": 13,
   "metadata": {},
   "outputs": [
    {
     "data": {
      "text/plain": [
       "<sqlite3.Cursor at 0x10ffe3030>"
      ]
     },
     "execution_count": 13,
     "metadata": {},
     "output_type": "execute_result"
    }
   ],
   "source": [
    "cursor.execute('SELECT City, AVG(rating) from restaurants GROUP BY City LIMIT 5;')"
   ]
  },
  {
   "cell_type": "code",
   "execution_count": 14,
   "metadata": {},
   "outputs": [
    {
     "data": {
      "text/plain": [
       "[('Arverne', 4.0),\n",
       " ('Astoria', 4.114130434782608),\n",
       " ('Bayonne', 4.0),\n",
       " ('Bayside', 3.907142857142857),\n",
       " ('Belle Harbor', 2.5)]"
      ]
     },
     "execution_count": 14,
     "metadata": {},
     "output_type": "execute_result"
    }
   ],
   "source": [
    "cursor.fetchall()"
   ]
  },
  {
   "cell_type": "markdown",
   "metadata": {},
   "source": [
    "`SELECT AVG(rating) from restaurants GROUP BY neighborhood`"
   ]
  },
  {
   "cell_type": "markdown",
   "metadata": {},
   "source": [
    "One way to think of GROUP BY is that it first creates separate piles of the data based on the column provided, and then performs the calculation for each pile."
   ]
  },
  {
   "cell_type": "markdown",
   "metadata": {},
   "source": [
    "Note that we can use GROUP BY with any of our aggregate methods.  Let's do another one."
   ]
  },
  {
   "cell_type": "code",
   "execution_count": 18,
   "metadata": {},
   "outputs": [
    {
     "data": {
      "text/plain": [
       "[('Arverne', 3),\n",
       " ('Astoria', 92),\n",
       " ('Bayonne', 4),\n",
       " ('Bayside', 70),\n",
       " ('Belle Harbor', 3)]"
      ]
     },
     "execution_count": 18,
     "metadata": {},
     "output_type": "execute_result"
    }
   ],
   "source": [
    "cursor.execute('SELECT City, COUNT(*) from restaurants GROUP BY City LIMIT 5;')\n",
    "cursor.fetchall()"
   ]
  },
  {
   "cell_type": "markdown",
   "metadata": {},
   "source": [
    "So now we have the number of restaurants in each of these cities.  Let's order by the count from largest to smallest."
   ]
  },
  {
   "cell_type": "code",
   "execution_count": 19,
   "metadata": {},
   "outputs": [
    {
     "data": {
      "text/plain": [
       "[('Brooklyn', 1282),\n",
       " ('New York', 1149),\n",
       " ('Staten Island', 1034),\n",
       " ('Bronx', 817),\n",
       " ('Flushing', 161)]"
      ]
     },
     "execution_count": 19,
     "metadata": {},
     "output_type": "execute_result"
    }
   ],
   "source": [
    "cursor.execute('SELECT City, COUNT(*) as num_restaurants from restaurants GROUP BY City ORDER BY num_restaurants DESC LIMIT 5;')\n",
    "cursor.fetchall()"
   ]
  },
  {
   "cell_type": "markdown",
   "metadata": {},
   "source": [
    "### Having"
   ]
  },
  {
   "cell_type": "markdown",
   "metadata": {},
   "source": [
    "Now so far we have returned an answer for each group in a column, but sometimes this can be unweildy.  For example, we may not wish to see the average rating of each neighborhood's restaurants, but only for those neighborhoods with over 50 restaurants.  We can do so with the following:"
   ]
  },
  {
   "cell_type": "code",
   "execution_count": 20,
   "metadata": {},
   "outputs": [
    {
     "data": {
      "text/plain": [
       "[('Astoria', 4.114130434782608),\n",
       " ('Bayside', 3.907142857142857),\n",
       " ('Bronx', 3.821297429620563),\n",
       " ('Brooklyn', 3.985179407176287),\n",
       " ('Flushing', 3.919254658385093),\n",
       " ('Forest Hills', 3.8556701030927836),\n",
       " ('Jamaica', 3.913793103448276),\n",
       " ('Long Island City', 3.6785714285714284),\n",
       " ('New York', 3.987815491731941),\n",
       " ('Rockaway Park', 3.4491525423728815),\n",
       " ('Staten Island', 3.710348162475822)]"
      ]
     },
     "execution_count": 20,
     "metadata": {},
     "output_type": "execute_result"
    }
   ],
   "source": [
    "cursor.execute('SELECT City, AVG(rating) FROM restaurants GROUP BY City HAVING COUNT(*) > 50;')\n",
    "cursor.fetchall()"
   ]
  },
  {
   "cell_type": "markdown",
   "metadata": {},
   "source": [
    "Notice that we are scoping down our information, so it seems like we would have to use a WHERE statement, but we're using HAVING instead.  What gives?  Well we can't use the WHERE statement because of a problem of order of operations in SQL.\n",
    "\n",
    "For us to select only those categories that have more than five rows, we must first group by and then category and then perform the count.  But in SQL, by default WHERE occurs before the GROUP BY clause.  So to tell SQL to not scope down our data until after we have separated it into groups, we use the HAVING clause."
   ]
  },
  {
   "cell_type": "markdown",
   "metadata": {},
   "source": [
    "### Summary"
   ]
  },
  {
   "cell_type": "markdown",
   "metadata": {},
   "source": [
    "In this lesson, we learned about using GROUP BY in SQL.  We saw that, GROUP BY first places our rows of data into different piles, and then performs an aggregate calculation on each respective pile.  For example, the following query groups our rows by neighborhood and then counts the items in each group."
   ]
  },
  {
   "cell_type": "code",
   "execution_count": 21,
   "metadata": {},
   "outputs": [
    {
     "data": {
      "text/plain": [
       "[('Arverne', 3),\n",
       " ('Astoria', 92),\n",
       " ('Bayonne', 4),\n",
       " ('Bayside', 70),\n",
       " ('Belle Harbor', 3)]"
      ]
     },
     "execution_count": 21,
     "metadata": {},
     "output_type": "execute_result"
    }
   ],
   "source": [
    "cursor.execute('SELECT City, COUNT(*) from restaurants GROUP BY City LIMIT 5;')\n",
    "cursor.fetchall()"
   ]
  },
  {
   "cell_type": "markdown",
   "metadata": {},
   "source": [
    "When we are then filtering data based on an aggregate, we use the HAVING keyword so that we tell SQL to delay the filtering until after the aggregation occurs."
   ]
  }
 ],
 "metadata": {
  "kernelspec": {
   "display_name": "Python 3 (ipykernel)",
   "language": "python",
   "name": "python3"
  },
  "language_info": {
   "codemirror_mode": {
    "name": "ipython",
    "version": 3
   },
   "file_extension": ".py",
   "mimetype": "text/x-python",
   "name": "python",
   "nbconvert_exporter": "python",
   "pygments_lexer": "ipython3",
   "version": "3.10.6"
  }
 },
 "nbformat": 4,
 "nbformat_minor": 4
}
