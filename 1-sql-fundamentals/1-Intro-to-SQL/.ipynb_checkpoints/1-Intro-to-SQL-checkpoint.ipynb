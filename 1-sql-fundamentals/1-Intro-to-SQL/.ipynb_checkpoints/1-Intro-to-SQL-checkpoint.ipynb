{
 "cells": [
  {
   "cell_type": "markdown",
   "metadata": {},
   "source": [
    "# Intro to Relational Databases"
   ]
  },
  {
   "cell_type": "markdown",
   "metadata": {},
   "source": [
    "### Introduction\n",
    "\n",
    "Relational databases are used to store and retrieve data, and to do so quickly.  So far, we have used simply stored our data in a CSV file.  Or, in a past life, we may have stored data in Microsoft Excel.  These are good tools, but when the size of our data increases, or when our questions about our data become more complex, we need to move to relational databases like SQL.  \n",
    "\n",
    "> When we say relational databases, we mean databases like SQL, or Postgres.  "
   ]
  },
  {
   "cell_type": "markdown",
   "metadata": {},
   "source": [
    "### SQL vs Spreadsheets"
   ]
  },
  {
   "cell_type": "markdown",
   "metadata": {},
   "source": [
    "Let's learn about databases by comparing it to a spreadsheet -- like a Google spreadsheet or a spreadsheet in Microsoft Excel.  \n",
    "\n",
    "> Now if your not familiar with spreadsheets, that's ok -- we'll explore the concepts that we'll need to know.  "
   ]
  },
  {
   "cell_type": "markdown",
   "metadata": {},
   "source": [
    "A spreadsheet is good for organizing, storing, and asking questions about our data.  \n",
    "\n",
    "Let's get started by using a Google spreadsheet to organize some information.  Imagine that we run a barber shop, and we want to use a Google help us keep track of our customers and employees.  To do so, we created the following spreadsheet."
   ]
  },
  {
   "cell_type": "markdown",
   "metadata": {},
   "source": [
    "<img src=\"./barber-shop.png\" width='80%'/>"
   ]
  },
  {
   "cell_type": "markdown",
   "metadata": {},
   "source": [
    "<img src=\"./table-names.png\" width=\"40%\">"
   ]
  },
  {
   "cell_type": "markdown",
   "metadata": {},
   "source": [
    "At the very bottom of the Google spreadsheet, you can tabs for both Employees and Customers.  This is because our first sheet in the document stores information about Employees and the second stores information about Customers.\n",
    "\n",
    "Now if we can understand this spreadsheet, we can also understand the fundamentals of relational databases like SQL.  Here are some database terms that map up to the document above."
   ]
  },
  {
   "cell_type": "markdown",
   "metadata": {},
   "source": [
    "* **Table**\n",
    "    * The `Employees` spreadsheet is similar to a *table* in a database.  A table stores information about just a single entity.  So above, for example, we have separate tables for `Customers` and `Employees`.  \n",
    "    \n",
    "    \n",
    "* **Columns**\n",
    "    * The spreadsheet above has *columns* of `Name`, `Phone Number`, and `Email`.  In a database, each table will also have columns used to store different attributes about our data.\n",
    "    \n",
    "* **Rows**\n",
    "    * In our spreadsheet above, each individual `employee` is stored in a separate row.  It will be the same in SQL.  For each individual *member* of a table, we will have a separate row, and each column of that row represents a separate attribute. \n",
    "    \n",
    "* **Database**\n",
    "    * Finally, notice that our Google document has a name of `Barbershop` at the top.  This document holds separate spreadsheets about employees and customers.  Similarly, we will create SQL database named `Barbershop` that will hold our tables of `employees` and `customers`."
   ]
  },
  {
   "cell_type": "markdown",
   "metadata": {},
   "source": [
    "### Get started with SQL"
   ]
  },
  {
   "cell_type": "markdown",
   "metadata": {},
   "source": [
    "To get started with database, we'll use SQLite3 as it's lightweight and easy to set up."
   ]
  },
  {
   "cell_type": "markdown",
   "metadata": {},
   "source": [
    "#### 1. Install sqlite3 on our computer"
   ]
  },
  {
   "cell_type": "markdown",
   "metadata": {},
   "source": [
    "If we have a Mac, we can install SQLite3 with the following:"
   ]
  },
  {
   "cell_type": "markdown",
   "metadata": {},
   "source": [
    "`brew install sqlite3`"
   ]
  },
  {
   "cell_type": "markdown",
   "metadata": {},
   "source": [
    "#### 2. Create a database to hold our data"
   ]
  },
  {
   "cell_type": "markdown",
   "metadata": {},
   "source": [
    "So now that we have installed the SQLite3 software, the next step is to create a database to hold our data.  We can create a database called `barbershop` by going to our terminal, and typing in `sqlite3 barbershop` like so:"
   ]
  },
  {
   "cell_type": "markdown",
   "metadata": {},
   "source": [
    "![](./create-database.png)"
   ]
  },
  {
   "cell_type": "markdown",
   "metadata": {},
   "source": [
    "After doing so, we'll see ourselves inside of a sqlite3 terminal.  Inside of there, we can execute any valid sqlite3 commands in our `barbershop` database."
   ]
  },
  {
   "cell_type": "markdown",
   "metadata": {},
   "source": [
    "#### 3. Create our database tables - Writing the code"
   ]
  },
  {
   "cell_type": "markdown",
   "metadata": {},
   "source": [
    "Now that we have created the container for the tables, our database, it's time to create the tables themselves.  The first step is to write the code.  "
   ]
  },
  {
   "cell_type": "markdown",
   "metadata": {},
   "source": [
    "Now we could type in the code to create our table directly in the sqlite console, but as we'll see, it's a cleaner to write it out in a separate file.  Create a file called `create_employees.sql` and then place in the following code.\n",
    "\n",
    "> The code below creates an `employees` table with columns of `name` and `email`:"
   ]
  },
  {
   "cell_type": "markdown",
   "metadata": {},
   "source": [
    "```sql\n",
    "CREATE TABLE employees (\n",
    "    name TEXT,\n",
    "    phone_number TEXT,\n",
    "    email TEXT\n",
    ");\n",
    "```"
   ]
  },
  {
   "cell_type": "markdown",
   "metadata": {},
   "source": [
    "We can think of the statement above as two main components:\n",
    "\n",
    "* `CREATE TABLE employees`\n",
    "    * `CREATE TABLE` is the SQL command to create a new table in the database. We always follow `CREATE TABLE` with the name of our table, here `employees`.\n",
    "\n",
    "* `(name TEXT, phone_number TEXT, email TEXT)`\n",
    "    * Next, we define the columns of our table. In between the parentheses, we specify each name of the column followed by the datatype of that column.  Like Python, SQLite has different datatypes.  But for now, we only need the datatypes of TEXT and INTEGER.  Each of the columns is separated by a comma."
   ]
  },
  {
   "cell_type": "markdown",
   "metadata": {},
   "source": [
    "#### Adding an id\n",
    "\n",
    "Now, we're almost done with the code to create a table, but we're actually missing one column.  In each table we create, we'll need the ability to reference a specific row.  One idea to do this could be to just select an employee by their first and last name.  But, we know more than one person can have the same name.  Or someone can change their name.  Or perhaps it's entered incorrectly.  Instead, what we need is an attribute that never has a reason to change -- as it's only purpose is as an identifying number.  This is an id.  We can add an id to our `employees` table by modifying our code to the following. \n",
    "\n",
    "```sql\n",
    "CREATE TABLE employees (\n",
    "    id INTEGER PRIMARY KEY AUTOINCREMENT,\n",
    "    name TEXT,\n",
    "    phone_number TEXT,\n",
    "    email TEXT\n",
    ");\n",
    "```\n",
    "You'll notice that we added the word `AUTOINCREMENT` after `id INTEGER`.  This code does what it says - with each additional row entered into the table the id increases by one.  So the first row created has the number `1`, the second has the number `2`, and so on.  "
   ]
  },
  {
   "cell_type": "markdown",
   "metadata": {
    "jp-MarkdownHeadingCollapsed": true,
    "tags": []
   },
   "source": [
    "#### 4. Executing our Code\n",
    "\n",
    "Now that we have written our code above, we still don't have a new table until we execute our code against our database.   The easiest way to execute the above code is to place our CREATE TABLE command in separate file, called `create_employees.sql` \n",
    "\n",
    "And then from our terminal, we can execute our CREATE TABLE command in our database the following. \n",
    "\n",
    "`sqlite3 barbershop.db < create_employees.sql`\n",
    "\n",
    "The above line tells SQLite3 to run the SQL statement in the `create_employees.sql` file in our `barbershop.db` database."
   ]
  },
  {
   "cell_type": "markdown",
   "metadata": {},
   "source": [
    "#### 4. Checking our work"
   ]
  },
  {
   "cell_type": "markdown",
   "metadata": {},
   "source": [
    "Our table is now stored in the barbershop.db file. We can check on this by viewing our database with the SQLite3 console:\n",
    "\n",
    "`sqlite3 barbershop.db`\n",
    "`.tables`\n",
    "\n",
    "If successful, you should receive a response with the table names.\n",
    "\n",
    "Running `.schema` in place of `.tables`, should return the schema of the tables in the datatbase."
   ]
  },
  {
   "cell_type": "markdown",
   "metadata": {},
   "source": [
    "![](./create-database.png)"
   ]
  },
  {
   "cell_type": "markdown",
   "metadata": {},
   "source": [
    "### Conclusion"
   ]
  },
  {
   "cell_type": "markdown",
   "metadata": {},
   "source": [
    "In this lesson, we talked about some of the key concepts of SQL databases. Databases are made up of **tables** which store information about a single entity. These tables are made up of **columns** that store different attributes about our data. **Rows** in the table represent individual members of a table. For each individual member of a table, we will have a separate row, and each attribute of that row is in a column. \n",
    "In our example, the barbershop database has a table called `employees`. The columns of our `employees` table are attributes of the employees, like name and phone number. \n",
    "Each row of our `employees` table will represent one member of this entity. In our next lesson, we will learn how to insert the data, or rows, into the table."
   ]
  }
 ],
 "metadata": {
  "kernelspec": {
   "display_name": "Python 3 (ipykernel)",
   "language": "python",
   "name": "python3"
  },
  "language_info": {
   "codemirror_mode": {
    "name": "ipython",
    "version": 3
   },
   "file_extension": ".py",
   "mimetype": "text/x-python",
   "name": "python",
   "nbconvert_exporter": "python",
   "pygments_lexer": "ipython3",
   "version": "3.9.12"
  }
 },
 "nbformat": 4,
 "nbformat_minor": 4
}
