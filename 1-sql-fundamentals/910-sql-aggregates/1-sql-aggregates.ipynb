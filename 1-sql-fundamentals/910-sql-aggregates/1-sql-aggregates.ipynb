{
 "cells": [
  {
   "cell_type": "markdown",
   "metadata": {},
   "source": [
    "# SQL Aggregates"
   ]
  },
  {
   "cell_type": "markdown",
   "metadata": {},
   "source": [
    "### Introduction"
   ]
  },
  {
   "cell_type": "markdown",
   "metadata": {},
   "source": [
    "So far we have used SQL to retrieve information about individual rows.  For example, we gathered *each* name of an *individual* employee.  However, what if we want to ask a question that must examine multiple rows.  For example, we may want to know the count of a row, the maximum or minimum value of a row, or the average of rows.  We'll explore questions like these in this lesson."
   ]
  },
  {
   "cell_type": "markdown",
   "metadata": {},
   "source": [
    "### Working with CSV and SQL"
   ]
  },
  {
   "cell_type": "markdown",
   "metadata": {},
   "source": [
    "Let's start working with some real sql data.  For this lesson, we'll work with a list of restaurants in New York City, that were listed on Yelp.  We can find the data [here]('https://raw.githubusercontent.com/ledeprogram/courses/master/foundations/mapping/tilemill/yelp-lunch-nyc.csv)."
   ]
  },
  {
   "cell_type": "markdown",
   "metadata": {},
   "source": [
    "And we can transer that data using the `pandas` library.  Let's see how."
   ]
  },
  {
   "cell_type": "code",
   "execution_count": 2,
   "metadata": {},
   "outputs": [],
   "source": [
    "import pandas as pd"
   ]
  },
  {
   "cell_type": "code",
   "execution_count": 1,
   "metadata": {},
   "outputs": [],
   "source": [
    "import pandas as pd\n",
    "df = pd.read_csv('https://raw.githubusercontent.com/ledeprogram/courses/master/foundations/mapping/tilemill/yelp-lunch-nyc.csv')"
   ]
  },
  {
   "cell_type": "markdown",
   "metadata": {},
   "source": [
    "So we first import the pandas library, and read the csv which we then store as something called a dataframe.  We can see the first few rows of a dataframe by calling the `head` method."
   ]
  },
  {
   "cell_type": "code",
   "execution_count": 5,
   "metadata": {},
   "outputs": [
    {
     "data": {
      "text/html": [
       "<div>\n",
       "<style scoped>\n",
       "    .dataframe tbody tr th:only-of-type {\n",
       "        vertical-align: middle;\n",
       "    }\n",
       "\n",
       "    .dataframe tbody tr th {\n",
       "        vertical-align: top;\n",
       "    }\n",
       "\n",
       "    .dataframe thead th {\n",
       "        text-align: right;\n",
       "    }\n",
       "</style>\n",
       "<table border=\"1\" class=\"dataframe\">\n",
       "  <thead>\n",
       "    <tr style=\"text-align: right;\">\n",
       "      <th></th>\n",
       "      <th>Name</th>\n",
       "      <th>Address</th>\n",
       "      <th>City</th>\n",
       "      <th>Category</th>\n",
       "      <th>Rating</th>\n",
       "      <th>URL</th>\n",
       "    </tr>\n",
       "  </thead>\n",
       "  <tbody>\n",
       "    <tr>\n",
       "      <th>0</th>\n",
       "      <td>Rambling House</td>\n",
       "      <td>4292 Katonah Ave</td>\n",
       "      <td>Bronx</td>\n",
       "      <td>Pubs</td>\n",
       "      <td>4.0</td>\n",
       "      <td>http://www.yelp.com/biz/rambling-house-bronx</td>\n",
       "    </tr>\n",
       "    <tr>\n",
       "      <th>1</th>\n",
       "      <td>Curry Spot</td>\n",
       "      <td>4268 Katonah Ave</td>\n",
       "      <td>Bronx</td>\n",
       "      <td>Indian</td>\n",
       "      <td>4.0</td>\n",
       "      <td>http://www.yelp.com/biz/curry-spot-bronx</td>\n",
       "    </tr>\n",
       "    <tr>\n",
       "      <th>2</th>\n",
       "      <td>Eileens Country Kitchen</td>\n",
       "      <td>964 McLean Ave</td>\n",
       "      <td>Yonkers</td>\n",
       "      <td>American (Traditional)</td>\n",
       "      <td>3.5</td>\n",
       "      <td>http://www.yelp.com/biz/eileens-country-kitche...</td>\n",
       "    </tr>\n",
       "  </tbody>\n",
       "</table>\n",
       "</div>"
      ],
      "text/plain": [
       "                      Name           Address     City                Category  \\\n",
       "0           Rambling House  4292 Katonah Ave    Bronx                    Pubs   \n",
       "1               Curry Spot  4268 Katonah Ave    Bronx                  Indian   \n",
       "2  Eileens Country Kitchen    964 McLean Ave  Yonkers  American (Traditional)   \n",
       "\n",
       "   Rating                                                URL  \n",
       "0     4.0       http://www.yelp.com/biz/rambling-house-bronx  \n",
       "1     4.0           http://www.yelp.com/biz/curry-spot-bronx  \n",
       "2     3.5  http://www.yelp.com/biz/eileens-country-kitche...  "
      ]
     },
     "execution_count": 5,
     "metadata": {},
     "output_type": "execute_result"
    }
   ],
   "source": [
    "df.head(3)"
   ]
  },
  {
   "cell_type": "markdown",
   "metadata": {},
   "source": [
    "There's our data.  Now we'll learn about pandas in future lessons.  For now, let's stick with SQL."
   ]
  },
  {
   "cell_type": "markdown",
   "metadata": {},
   "source": [
    "We can convert our dataframe to SQL with the `to_sql` method in pandas."
   ]
  },
  {
   "cell_type": "code",
   "execution_count": 6,
   "metadata": {},
   "outputs": [
    {
     "ename": "TypeError",
     "evalue": "to_sql() missing 2 required positional arguments: 'name' and 'con'",
     "output_type": "error",
     "traceback": [
      "\u001b[0;31m---------------------------------------------------------------------------\u001b[0m",
      "\u001b[0;31mTypeError\u001b[0m                                 Traceback (most recent call last)",
      "\u001b[0;32m<ipython-input-6-c99bc5a144a4>\u001b[0m in \u001b[0;36m<module>\u001b[0;34m\u001b[0m\n\u001b[0;32m----> 1\u001b[0;31m \u001b[0mdf\u001b[0m\u001b[0;34m.\u001b[0m\u001b[0mto_sql\u001b[0m\u001b[0;34m(\u001b[0m\u001b[0;34m)\u001b[0m\u001b[0;34m\u001b[0m\u001b[0;34m\u001b[0m\u001b[0m\n\u001b[0m",
      "\u001b[0;31mTypeError\u001b[0m: to_sql() missing 2 required positional arguments: 'name' and 'con'"
     ]
    }
   ],
   "source": [
    "df.to_sql()"
   ]
  },
  {
   "cell_type": "markdown",
   "metadata": {},
   "source": [
    "This `to_sql` method requires two arguments: the name of the table we wish to create and a connection to the database.  We don't yet have a connection to the database, or even a database at all, so let's use SQLite to create one, and then we can pass through that connection to the `to_sql` method."
   ]
  },
  {
   "cell_type": "code",
   "execution_count": 7,
   "metadata": {},
   "outputs": [],
   "source": [
    "import sqlite3\n",
    "yelp_db = sqlite3.connect('yelp.db')"
   ]
  },
  {
   "cell_type": "code",
   "execution_count": 8,
   "metadata": {},
   "outputs": [],
   "source": [
    "df.to_sql('restaurants', yelp_db)"
   ]
  },
  {
   "cell_type": "markdown",
   "metadata": {},
   "source": [
    "* Great so now our data from the dataframe should be loaded into our SQL table.  We can confirm this with a SELECT query to our database."
   ]
  },
  {
   "cell_type": "code",
   "execution_count": 9,
   "metadata": {},
   "outputs": [
    {
     "data": {
      "text/plain": [
       "[(0,\n",
       "  'Rambling House',\n",
       "  '4292 Katonah Ave',\n",
       "  'Bronx',\n",
       "  'Pubs',\n",
       "  4.0,\n",
       "  'http://www.yelp.com/biz/rambling-house-bronx')]"
      ]
     },
     "execution_count": 9,
     "metadata": {},
     "output_type": "execute_result"
    }
   ],
   "source": [
    "cursor = yelp_db.cursor()\n",
    "cursor.execute('SELECT * FROM restaurants LIMIT 1')\n",
    "cursor.fetchall()\n",
    "\n",
    "# [(0,\n",
    "#   'Rambling House',\n",
    "#   '4292 Katonah Ave',\n",
    "#   'Bronx',\n",
    "#   'Pubs',\n",
    "#   4.0,\n",
    "#   'http://www.yelp.com/biz/rambling-house-bronx')]"
   ]
  },
  {
   "cell_type": "markdown",
   "metadata": {},
   "source": [
    "### Working with Aggregates"
   ]
  },
  {
   "cell_type": "markdown",
   "metadata": {},
   "source": [
    "Now that we have our data in our `yelp.db` database, it's time to work with our aggregates.  Remember, that with aggregates, we ask questions of multiple rows.  Let's start by trying to find the highest available rating in our database.  We can do so with the following."
   ]
  },
  {
   "cell_type": "code",
   "execution_count": 10,
   "metadata": {},
   "outputs": [
    {
     "data": {
      "text/plain": [
       "[(5.0,)]"
      ]
     },
     "execution_count": 10,
     "metadata": {},
     "output_type": "execute_result"
    }
   ],
   "source": [
    "cursor.execute('SELECT MAX(rating) FROM restaurants')\n",
    "cursor.fetchall()\n",
    "\n",
    "# [(5.0,)]"
   ]
  },
  {
   "cell_type": "markdown",
   "metadata": {},
   "source": [
    "Now let's find the lowest."
   ]
  },
  {
   "cell_type": "code",
   "execution_count": 11,
   "metadata": {},
   "outputs": [
    {
     "data": {
      "text/plain": [
       "[(1.0,)]"
      ]
     },
     "execution_count": 11,
     "metadata": {},
     "output_type": "execute_result"
    }
   ],
   "source": [
    "cursor.execute('SELECT MIN(rating) FROM restaurants')\n",
    "cursor.fetchall()\n",
    "\n",
    "# [(1.0,)]"
   ]
  },
  {
   "cell_type": "markdown",
   "metadata": {},
   "source": [
    "So we can see that only one row is returned, as there is only one maximum rating.  And the format for returning an aggregate is \n",
    "\n",
    "```sql\n",
    "SELECT aggregate(column) FROM table_name\n",
    "```"
   ]
  },
  {
   "cell_type": "markdown",
   "metadata": {},
   "source": [
    "Let's see the AVG rating now."
   ]
  },
  {
   "cell_type": "code",
   "execution_count": 12,
   "metadata": {},
   "outputs": [
    {
     "data": {
      "text/plain": [
       "[(3.892015143692996,)]"
      ]
     },
     "execution_count": 12,
     "metadata": {},
     "output_type": "execute_result"
    }
   ],
   "source": [
    "cursor.execute('SELECT AVG(rating) FROM restaurants')\n",
    "cursor.fetchall()\n",
    "\n",
    "# [(3.892015143692996,)]"
   ]
  },
  {
   "cell_type": "markdown",
   "metadata": {},
   "source": [
    "That wasn't so bad.  We quickly found the average rating just using sql."
   ]
  },
  {
   "cell_type": "markdown",
   "metadata": {},
   "source": [
    "And if we want to find the number of entries in our table we use the COUNT keyword."
   ]
  },
  {
   "cell_type": "markdown",
   "metadata": {},
   "source": [
    "Count is interesting because we could count any individual column and if all of our data is filled, it would give us the same answer.  For example, if we counted the number of restaurant names that would return the same as the number of ratings.  Really what we want to do is count the rows.  To specify that we want to count not a specific column, but each of an entire row we use `*` as our argument. "
   ]
  },
  {
   "cell_type": "code",
   "execution_count": 17,
   "metadata": {},
   "outputs": [
    {
     "data": {
      "text/plain": [
       "[(5811,)]"
      ]
     },
     "execution_count": 17,
     "metadata": {},
     "output_type": "execute_result"
    }
   ],
   "source": [
    "cursor.execute('SELECT COUNT(*) FROM restaurants')\n",
    "cursor.fetchall()\n",
    "\n",
    "# [(5811,)]"
   ]
  },
  {
   "cell_type": "markdown",
   "metadata": {},
   "source": [
    "### Aggregates and Where Clauses"
   ]
  },
  {
   "cell_type": "markdown",
   "metadata": {},
   "source": [
    "So far we have queried the entire table of restaurants.  But now let's say that we want to find the average rating not for  all of the restaurants, but just for restaurants in the Bronx.  Is the rating higher or lower than the average rating of 3.89 for all of our restaurants."
   ]
  },
  {
   "cell_type": "code",
   "execution_count": 18,
   "metadata": {},
   "outputs": [
    {
     "data": {
      "text/plain": [
       "[(3.821297429620563,)]"
      ]
     },
     "execution_count": 18,
     "metadata": {},
     "output_type": "execute_result"
    }
   ],
   "source": [
    "cursor.execute('SELECT AVG(rating) FROM restaurants WHERE City = \"Bronx\"')\n",
    "cursor.fetchall()\n",
    "\n",
    "# [(3.821297429620563,)]"
   ]
  },
  {
   "cell_type": "markdown",
   "metadata": {},
   "source": [
    "So it is slightly lower.  So we can see that first SQL limited the restaurants to those from the Bronx, and then took the average."
   ]
  },
  {
   "cell_type": "markdown",
   "metadata": {},
   "source": [
    "### Summary"
   ]
  },
  {
   "cell_type": "markdown",
   "metadata": {},
   "source": [
    "In this lesson, we saw how to perform aggregate methods with SQL.  Aggregate methods are those that return a value based on a calculation from multiple rows in the database instead of just one.  We saw that return an aggregate value by using the syntax of `SELECT aggregate(column_name) FROM table_name`.  And we saw that we can return the aggregate for a subset of our rows by combining our aggregate method with a where clause."
   ]
  }
 ],
 "metadata": {
  "kernelspec": {
   "display_name": "Python 3 (ipykernel)",
   "language": "python",
   "name": "python3"
  },
  "language_info": {
   "codemirror_mode": {
    "name": "ipython",
    "version": 3
   },
   "file_extension": ".py",
   "mimetype": "text/x-python",
   "name": "python",
   "nbconvert_exporter": "python",
   "pygments_lexer": "ipython3",
   "version": "3.10.6"
  }
 },
 "nbformat": 4,
 "nbformat_minor": 4
}
